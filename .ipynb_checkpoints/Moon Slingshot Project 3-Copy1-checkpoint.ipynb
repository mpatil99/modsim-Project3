{
 "cells": [
  {
   "cell_type": "markdown",
   "metadata": {},
   "source": [
    "## Modeling and Simulation in Python\n",
    "\n",
    "Project 3\n",
    "\n",
    "Jinfay Yuan and Manu Patil"
   ]
  },
  {
   "cell_type": "code",
   "execution_count": null,
   "metadata": {},
   "outputs": [],
   "source": [
    "# Configure Jupyter so figures appear in the notebook\n",
    "%matplotlib inline\n",
    "\n",
    "# Configure Jupyter to display the assigned value after an assignment\n",
    "%config InteractiveShell.ast_node_interactivity='last_expr_or_assign'\n",
    "\n",
    "# import functions from the modsim.py module\n",
    "from modsim import *\n",
    "import math\n",
    "import matplotlib.pyplot as plt\n",
    "\n",
    "from IPython.display import HTML\n",
    "\n",
    "import array as arr\n",
    "import matplotlib.pyplot as plt\n",
    "import matplotlib.animation\n",
    "np.random.seed(7)"
   ]
  },
  {
   "cell_type": "code",
   "execution_count": null,
   "metadata": {},
   "outputs": [],
   "source": [
    "N = UNITS.newton\n",
    "kg = UNITS.kilogram\n",
    "AU = UNITS.astronomical_unit\n",
    "day = UNITS.day\n",
    "m = UNITS.meter\n",
    "s = UNITS.second\n",
    "y = UNITS.year\n",
    "degree = UNITS.degree"
   ]
  },
  {
   "cell_type": "code",
   "execution_count": null,
   "metadata": {},
   "outputs": [],
   "source": [
    "params = Params(Mass_Earth = 5.972e24 *kg,\n",
    "                Mass_Moon = 7.3476730e22 *kg, \n",
    "                Mass_Satellite = 100 *kg,\n",
    "                G = 6.674e-11* (N*m**2)/(kg**2),\n",
    "                r_0 = 3449709330,#distance from center of Earth to Lagrange point\n",
    "                t_0 = 0*s,\n",
    "                t_end =1000*s,\n",
    "                v=10000*m/s,\n",
    "                theta=30*degree)"
   ]
  },
  {
   "cell_type": "code",
   "execution_count": null,
   "metadata": {},
   "outputs": [],
   "source": [
    "def make_system(params):\n",
    "    unpack(params)\n",
    "\n",
    "\n",
    "    init = State(x = 344970933 *m, \n",
    "                 y = 0*m ,\n",
    "                 vx = v* math.cos(theta) *m/s ,\n",
    "                 vy = v* math.sin(theta) *m/s ,\n",
    "                 mx = 384472281 *m, #distance from Earth to Moon\n",
    "                 my = 0*m,\n",
    "                 mvx = 0 *m/s,\n",
    "                 mvy = 1000 * m/s);\n",
    "\n",
    "    return System(params,init=init)\n",
    "system = make_system(params)"
   ]
  },
  {
   "cell_type": "code",
   "execution_count": null,
   "metadata": {},
   "outputs": [],
   "source": [
    "def slope_func(state, t, system):\n",
    "    \"\"\"Compute derivatives of the state.\n",
    "    \n",
    "    state: position, velocity\n",
    "    t: time\n",
    "    system: System object containing `g`\n",
    "    \n",
    "    returns: derivatives of y and v\n",
    "    \"\"\"\n",
    "    x, y, vx, vy, mx, my, mvx, mvy = state\n",
    "    unpack(system) \n",
    "    \n",
    "    forceSatellite = Earth_fgrav(state,system) + Moon_fgrav(state,system)\n",
    "    forceEarthMoon = Earth_fgravMoon(state,system)\n",
    "    \n",
    "    dxdt = vx \n",
    "    dydt = vy\n",
    "    \n",
    "    dvxdt = (forceSatellite.x) / Mass_Satellite\n",
    "    dvydt = (forceSatellite.y) / Mass_Satellite\n",
    "    \n",
    "    dmxdt = mvx\n",
    "    dmydt = mvy\n",
    "    \n",
    "    dmvxdt = (forceEarthMoon.x) / Mass_Moon\n",
    "    dmvydt = (forceEarthMoon.y) / Mass_Moon\n",
    "    \n",
    "\n",
    "    \n",
    "    return dxdt, dydt, dvxdt, dvydt,dmxdt, dmydt, dmvxdt, dmvydt"
   ]
  },
  {
   "cell_type": "code",
   "execution_count": null,
   "metadata": {},
   "outputs": [],
   "source": [
    "def fgrav(obj1_x, obj1_y, obj2_x, obj2_y, Mass_1, Mass_2):\n",
    "    position = Vector(obj2_x-obj1_x, obj2_y-obj1_y) *m\n",
    "    force = G * Mass_2 * Mass_1 / (position.mag)**2\n",
    "    return  position.hat() * force"
   ]
  },
  {
   "cell_type": "code",
   "execution_count": null,
   "metadata": {},
   "outputs": [],
   "source": [
    "def Earth_fgravMoon(state,system):\n",
    "    unpack (system)\n",
    "    x,y,vx,vy,mx,my,mvx,mvy = state\n",
    "    return fgrav(mx,my, 0, 0, Mass_Moon, Mass_Earth)\n",
    "Earth_fgravMoon(system.init, system)"
   ]
  },
  {
   "cell_type": "code",
   "execution_count": null,
   "metadata": {},
   "outputs": [],
   "source": [
    "def Earth_fgrav(state,system):\n",
    "    unpack (system)\n",
    "    x,y,vx,vy,mx,my,mvx,mvy = state\n",
    "    return fgrav(x,y, 0, 0, Mass_Satellite, Mass_Earth)\n",
    "Earth_fgrav(system.init, system)"
   ]
  },
  {
   "cell_type": "code",
   "execution_count": null,
   "metadata": {},
   "outputs": [],
   "source": [
    "def Moon_fgrav(state,system):\n",
    "    unpack (system)\n",
    "    x,y,vx,vy,mx,my,mvx,mvy = state\n",
    "    return fgrav(x,y, mx, my, Mass_Satellite, Mass_Moon)\n",
    "Moon_fgrav(system.init, system)"
   ]
  },
  {
   "cell_type": "code",
   "execution_count": null,
   "metadata": {},
   "outputs": [],
   "source": [
    "def event_func(state, t, system): # Checks crash into Moon\n",
    "    unpack (system)\n",
    "    x,y,vx,vy,mx,my,mvx,mvy = state\n",
    "    position = Vector(mx-x, my-y) *m\n",
    "    return position.mag /m - 1737000*m\n",
    "event_func(system.init, 0, system)"
   ]
  },
  {
   "cell_type": "code",
   "execution_count": null,
   "metadata": {},
   "outputs": [],
   "source": [
    "def event_func1(state, t, system): # Checks crash into Earth\n",
    "    unpack (system)\n",
    "    x,y,vx,vy,mx,my,mvx,mvy = state\n",
    "    position = Vector(0-x, 0-y) *m\n",
    "    return position.mag /m - 6371000*m\n",
    "event_func1(system.init, 0, system)"
   ]
  },
  {
   "cell_type": "code",
   "execution_count": null,
   "metadata": {},
   "outputs": [],
   "source": [
    "params = Params(params, v = 1000*m, theta = 45 * degree, t_end = 1e5*s)\n",
    "system = make_system(params)\n",
    "slope_func(system.init, 0, system)"
   ]
  },
  {
   "cell_type": "code",
   "execution_count": null,
   "metadata": {
    "scrolled": true
   },
   "outputs": [],
   "source": [
    "params = Params(params, v = 1000*m/s, theta = 180 * degree, t_end = 1e6*s)\n",
    "system = make_system(params)\n",
    "results, details = run_ode_solver(system, slope_func,events = [event_func,event_func1], method = \"LSODA\")\n",
    "details"
   ]
  },
  {
   "cell_type": "code",
   "execution_count": null,
   "metadata": {
    "scrolled": false
   },
   "outputs": [],
   "source": [
    "def plot_position(results):\n",
    "    unpack(system)\n",
    "    count = 1\n",
    "    \n",
    " \n",
    "    subplot(2,1,1) # Plots x and y over time. Not terribly useful\n",
    "    for result in results:\n",
    "        result.index /= 60*60*24 #convert seconds to days\n",
    "\n",
    "        plot(result.x, label='x'+str(count))\n",
    "        plot(result.y, label = 'y'+ str(count))\n",
    "        count +=1\n",
    "    decorate(xlabel='Time (second)',\n",
    "             ylabel='Distance from earth (million m)')\n",
    "    \n",
    "    subplot(2,1,2) #Plots x against y creating \n",
    "    count = 1\n",
    "    fig = plt.gcf()\n",
    "    ax = fig.gca()\n",
    "    circle1 = plt.Circle((384472281, 0), 1736482, color='g',label = \"Moon Start\")\n",
    "    circle2 = plt.Circle((0, 0), 6371000, color='b', label = \"Earth\")\n",
    "    ax.add_artist(circle1)\n",
    "    ax.add_artist(circle2)\n",
    "    for result in results:\n",
    "        plot(result.x,result.y, label = 'Position'+str(count))\n",
    "        plot(result.mx,result.my, label = 'Moon Path' + str(count))\n",
    "        circle = plt.Circle((get_last_value(result.mx), get_last_value(result.my)), 1736482, color='r',label = \"Moon End\"+str(count))\n",
    "        ax.add_artist(circle)\n",
    "        count +=1\n",
    "\n",
    "    decorate(xlabel='x Distance from earth (m)',\n",
    "             ylabel='y Distance from earth (m)')\n",
    "plot_position([results])"
   ]
  },
  {
   "cell_type": "code",
   "execution_count": null,
   "metadata": {},
   "outputs": [],
   "source": [
    "params = Params(params, v = 500*m/s, theta = -30 * degree, t_end = 2100000*s)\n",
    "system = make_system(params)\n",
    "results1, details = run_ode_solver(system, slope_func, events = [event_func,event_func1], method = \"LSODA\")\n",
    "\n",
    "\n",
    "params = Params(params, v = 500*m/s, theta = 30 * degree, t_end = 2100000*s)\n",
    "system = make_system(params)\n",
    "ts = linspace(0,system.t_end, 500)\n",
    "results2, details = run_ode_solver(system, slope_func, events = [event_func,event_func1], method = \"LSODA\", t_eval = ts)\n",
    "plot_position([results1,results2])"
   ]
  },
  {
   "cell_type": "code",
   "execution_count": null,
   "metadata": {},
   "outputs": [],
   "source": [
    "def Distance_func(angle, params):  \n",
    "    \"\"\"Computes range for a given launch angle.\n",
    "    \n",
    "    angle: launch angle in degrees\n",
    "    params: Params object\n",
    "    \n",
    "    returns: distance in meters\n",
    "    \"\"\"\n",
    "    \n",
    "    print(\"here\")\n",
    "    params = Params(params, theta = params.theta + angle*degree, t_end = 1e6*s, v = params.v + 100*m/s)\n",
    "    print(params)\n",
    "    system = make_system(params)\n",
    "    print(system)\n",
    "    \n",
    "    results, details = run_ode_solver(system, slope_func, events = [event_func,event_func1], method = \"LSODA\")\n",
    "    Earth_dist = Vector(get_last_value(results.x), get_last_value(results.y))*m\n",
    "    print(system.theta, Earth_dist.mag)\n",
    "    return Earth_dist.mag"
   ]
  },
  {
   "cell_type": "code",
   "execution_count": null,
   "metadata": {},
   "outputs": [],
   "source": []
  },
  {
   "cell_type": "code",
   "execution_count": null,
   "metadata": {},
   "outputs": [],
   "source": [
    "Distance_func(45,params)"
   ]
  },
  {
   "cell_type": "code",
   "execution_count": null,
   "metadata": {},
   "outputs": [],
   "source": [
    "res = min_bounded(Distance_func, [-80, 90], params)"
   ]
  },
  {
   "cell_type": "code",
   "execution_count": null,
   "metadata": {},
   "outputs": [],
   "source": [
    "res.x"
   ]
  },
  {
   "cell_type": "code",
   "execution_count": null,
   "metadata": {},
   "outputs": [],
   "source": [
    "params = Params(params, theta=res.x*degree)\n",
    "system = make_system(params)\n",
    "print(system.theta)\n",
    "results7, details = run_ode_solver(system, slope_func, events=[event_func,event_func1], method = \"LSODA\")\n",
    "print(details)\n",
    "plot_position([results7])"
   ]
  },
  {
   "cell_type": "markdown",
   "metadata": {},
   "source": [
    "Course Corrections"
   ]
  },
  {
   "cell_type": "code",
   "execution_count": null,
   "metadata": {},
   "outputs": [],
   "source": [
    "# Add Vector in direction in random direction in a range of velocties."
   ]
  },
  {
   "cell_type": "code",
   "execution_count": null,
   "metadata": {},
   "outputs": [],
   "source": [
    "def make_system2(mEarth, mMoon, mSatellite, G, r_0, v,theta, t_end):\n",
    "\n",
    "    rad = (theta/180) * pi\n",
    "    \n",
    "    init = State(x = 344970933 *m, \n",
    "                 y = 0*m ,\n",
    "                 vx = v* math.cos(rad) *m/s ,\n",
    "                 vy = v* math.sin(rad) *m/s ,\n",
    "                 xi = 344970933 *m, \n",
    "                 yi = 0*m ,\n",
    "                 vxi = v* math.cos(rad) *m/s ,\n",
    "                 vyi = v* math.sin(rad) *m/s ,\n",
    "                 mx = 384472281 *m, #distance from Earth to Moon\n",
    "                 my = 0*m,\n",
    "                 mvx = 0 *m/s,\n",
    "                 mvy = 1000 * m/s);\n",
    "\n",
    "    \n",
    "    t_0 = 0 *s\n",
    "    t_end = t_end *s\n",
    "    \n",
    "    \n",
    "    return System(init=init,\n",
    "                mEarth = mEarth,\n",
    "                mMoon = mMoon,\n",
    "                mSatellite = mSatellite,\n",
    "                G = G,\n",
    "                t_0 = t_0,\n",
    "                t_end=t_end)\n",
    "system = make_system2(Mass_Earth, Mass_Moon, Mass_Satellite, G, r_0, 100, 100, 1000)"
   ]
  },
  {
   "cell_type": "code",
   "execution_count": null,
   "metadata": {},
   "outputs": [],
   "source": [
    "def slope_func2(state, t, system):\n",
    "    \"\"\"Compute derivatives of the state.\n",
    "    \n",
    "    state: position, velocity\n",
    "    t: time\n",
    "    system: System object containing `g`\n",
    "    \n",
    "    returns: derivatives of y and v\n",
    "    \"\"\"\n",
    "    x, y, vx, vy, xi, yi, vxi, vyi, mx, my, mvx, mvy = state\n",
    "    unpack(system) \n",
    "    \n",
    "    forceSatellite = Earth_fgrav(state,system) + Moon_fgrav(state,system)\n",
    "    forceEarthMoon = Earth_fgravMoon(state,system)\n",
    "    forceSatellitei = Earth_fgrav_ideal(state,system) + Moon_fgrav_ideal(state,system)\n",
    "\n",
    "    if t == 0:\n",
    "        explosion =  forceOxygen_Explosion()\n",
    "        print(explosion)\n",
    "    else:\n",
    "        explosion = Vector(0,0) *m;\n",
    "    \n",
    "    dxdt = vx \n",
    "    dydt = vy\n",
    "    \n",
    "    dvxdt = (forceSatellite.x + explosion.x) / Mass_Satellite\n",
    "    dvydt = (forceSatellite.y + explosion.y) / Mass_Satellite\n",
    "    \n",
    "    dxidt = vxi \n",
    "    dyidt = vyi\n",
    "    \n",
    "    dvxidt = (forceSatellitei.x) / Mass_Satellite\n",
    "    dvyidt = (forceSatellitei.y) / Mass_Satellite\n",
    "    \n",
    "    dmxdt = mvx\n",
    "    dmydt = mvy\n",
    "    \n",
    "    dmvxdt = (forceEarthMoon.x) / Mass_Moon\n",
    "    dmvydt = (forceEarthMoon.y) / Mass_Moon\n",
    "    \n",
    "\n",
    "    print(dvxdt == dvxidt)\n",
    "    return dxdt, dydt, dvxdt, dvydt, dxidt, dyidt, dvxidt, dvyidt, dmxdt, dmydt, dmvxdt, dmvydt"
   ]
  },
  {
   "cell_type": "code",
   "execution_count": null,
   "metadata": {},
   "outputs": [],
   "source": [
    "def forceOxygen_Explosion():\n",
    "    direction = np.random.random()*360 * degree\n",
    "    acc = (np.random.random()*10000 + 10000) * m/s**2\n",
    "    force = Vector(acc*math.cos(direction),acc*math.sin(direction))*m\n",
    "    return force\n",
    "    \n",
    "print(forceOxygen_Explosion())"
   ]
  },
  {
   "cell_type": "code",
   "execution_count": null,
   "metadata": {},
   "outputs": [],
   "source": [
    "def event_func3(state, t, system): # Checks crash into Earth\n",
    "    unpack (system)\n",
    "    x,y,vx,vy, xi, yi, vxi, vyi,mx,my,mvx,mvy = state\n",
    "    position = Vector(0-x, 0-y) *m\n",
    "    return position.mag /m - 6371000*m\n",
    "event_func1(system.init, 0, system)"
   ]
  },
  {
   "cell_type": "code",
   "execution_count": null,
   "metadata": {},
   "outputs": [],
   "source": [
    "def event_func4(state, t, system): # Checks crash into Moon\n",
    "    unpack (system)\n",
    "    x,y,vx,vy, xi, yi, vxi, vyi,mx,my,mvx,mvy = state\n",
    "    position = Vector(mx-x, my-y) *m\n",
    "    return position.mag /m - 1737000*m\n",
    "event_func(system.init, 0, system)"
   ]
  },
  {
   "cell_type": "code",
   "execution_count": null,
   "metadata": {},
   "outputs": [],
   "source": [
    "def Earth_fgravMoon(state,system):\n",
    "    unpack (system)\n",
    "    x,y,vx,vy, xi, yi, vxi, vyi,mx,my,mvx,mvy = state\n",
    "    return fgrav(mx,my, 0, 0, Mass_Moon, Mass_Earth)\n",
    "Earth_fgravMoon(system.init, system)\n",
    "\n",
    "def Earth_fgrav(state,system):\n",
    "    unpack (system)\n",
    "    x,y,vx,vy, xi, yi, vxi, vyi,mx,my,mvx,mvy = state\n",
    "    return fgrav(x,y, 0, 0, Mass_Satellite, Mass_Earth)\n",
    "Earth_fgrav(system.init, system)\n",
    "\n",
    "def Moon_fgrav(state,system):\n",
    "    unpack (system)\n",
    "    x,y,vx,vy, xi, yi, vxi, vyi, mx,my,mvx,mvy = state\n",
    "    return fgrav(x,y, mx, my, Mass_Satellite, Mass_Moon)\n",
    "Moon_fgrav(system.init, system)"
   ]
  },
  {
   "cell_type": "code",
   "execution_count": null,
   "metadata": {},
   "outputs": [],
   "source": [
    "def Earth_fgrav_ideal(state,system):\n",
    "    unpack (system)\n",
    "    x,y,vx,vy, xi, yi, vxi, vyi,mx,my,mvx,mvy = state\n",
    "    return fgrav(xi,yi, 0, 0, Mass_Satellite, Mass_Earth)\n",
    "Earth_fgrav(system.init, system)\n",
    "\n",
    "def Moon_fgrav_ideal(state,system):\n",
    "    unpack (system)\n",
    "    x,y,vx,vy, xi, yi, vxi, vyi, mx,my,mvx,mvy = state\n",
    "    return fgrav(xi,yi, mx, my, Mass_Satellite, Mass_Moon)\n",
    "Moon_fgrav(system.init, system)"
   ]
  },
  {
   "cell_type": "code",
   "execution_count": null,
   "metadata": {},
   "outputs": [],
   "source": []
  },
  {
   "cell_type": "code",
   "execution_count": null,
   "metadata": {
    "scrolled": false
   },
   "outputs": [],
   "source": [
    "system = make_system2(Mass_Earth, Mass_Moon, Mass_Satellite, G, r_0, 500,30,2100000)\n",
    "results3, details = run_ode_solver(system, slope_func2, events = [event_func,event_func1], method = \"LSODA\")"
   ]
  },
  {
   "cell_type": "code",
   "execution_count": null,
   "metadata": {},
   "outputs": [],
   "source": [
    "def plot_position2(results):\n",
    "    unpack(system)\n",
    "    count = 1\n",
    "    \n",
    " \n",
    "    subplot(2,1,1) # Plots x and y over time. Not terribly useful\n",
    "    for result in results:\n",
    "        result.index /= 60*60*24 #convert seconds to days\n",
    "#         result.x /= 1e9\n",
    "#         result.y /= 1e9 #converts to millions of km\n",
    "#         result.mx /= 1e9\n",
    "#         result.my /= 1e9\n",
    "        plot(result.x, label='x'+str(count))\n",
    "        plot(result.y, label = 'y'+ str(count))\n",
    "        plot(result.xi, label='Ideal x'+str(count))\n",
    "        plot(result.yi, label = 'Ideal y'+ str(count))\n",
    "        count +=1\n",
    "    decorate(xlabel='Time (second)',\n",
    "             ylabel='Distance from earth (million m)')\n",
    "    \n",
    "    subplot(2,1,2) #Plots x against y creating \n",
    "    count = 1\n",
    "    fig = plt.gcf()\n",
    "    ax = fig.gca()\n",
    "    circle1 = plt.Circle((384472281, 0), 1736482, color='g',label = \"Moon Start\")\n",
    "    circle2 = plt.Circle((0, 0), 6371000, color='b', label = \"Earth\")\n",
    "    ax.add_artist(circle1)\n",
    "    ax.add_artist(circle2)\n",
    "    for result in results:\n",
    "        plot(result.x,result.y,\"r\", label = 'Position'+str(count),)\n",
    "        plot(result.xi,result.yi,\":r\", label = 'Ideal Position'+str(count))\n",
    "        #plot(result.mx,result.my, label = 'Moon Path' + str(count))\n",
    "        circle = plt.Circle((get_last_value(result.mx), get_last_value(result.my)), 1736482, color='r',label = \"Moon End\"+str(count))\n",
    "        ax.add_artist(circle)\n",
    "        count +=1\n",
    "\n",
    "    decorate(xlabel='x Distance from earth (m)',\n",
    "             ylabel='y Distance from earth (m)')\n",
    "plot_position2([results3])"
   ]
  },
  {
   "cell_type": "markdown",
   "metadata": {},
   "source": [
    "### Animation Stuffs"
   ]
  },
  {
   "cell_type": "code",
   "execution_count": null,
   "metadata": {},
   "outputs": [],
   "source": [
    "print(results2.mx[results2.index[10]])\n"
   ]
  },
  {
   "cell_type": "code",
   "execution_count": null,
   "metadata": {},
   "outputs": [],
   "source": []
  },
  {
   "cell_type": "code",
   "execution_count": null,
   "metadata": {},
   "outputs": [],
   "source": []
  },
  {
   "cell_type": "code",
   "execution_count": null,
   "metadata": {},
   "outputs": [],
   "source": [
    "def anim(results):\n",
    "\n",
    "    plt.rcParams[\"animation.html\"] = \"jshtml\"\n",
    "    t = results\n",
    "\n",
    "    fig, ax = plt.subplots();\n",
    "    ax.axis([-4e8, 4e8, -4e8, 4e8]);\n",
    "    circle1 = plt.Circle((384472281, 0), 1736482, color='g',label = \"Moon Start\")\n",
    "    circle2 = plt.Circle((0, 0), 6371000, color='b', label = \"Earth\")\n",
    "    ax.add_artist(circle1)\n",
    "    ax.add_artist(circle2)\n",
    "    l, = ax.plot([],[]);\n",
    "    l1, = ax.plot([],[]);\n",
    "    #l2, = ax.plot([],[]);\n",
    "\n",
    "    def animate(i):\n",
    "        l.set_data(results.mx[results.index[:i]], results.my[results.index[:i]]);\n",
    "        l1.set_data(results.x[results.index[:i]], results.y[results.index[:i]]);\n",
    "        #l2.set_data(results.xi[results.index[:i]], results.yi[results.index[:i]]);\n",
    "\n",
    "    ani = matplotlib.animation.FuncAnimation(fig, animate, frames=len(t.index));\n",
    "    print(len(t.index))\n",
    "    HTML(ani.to_jshtml())\n",
    "    return ani\n",
    "\n",
    "ani = anim(results2)"
   ]
  },
  {
   "cell_type": "code",
   "execution_count": null,
   "metadata": {},
   "outputs": [],
   "source": [
    "HTML(ani.to_jshtml())"
   ]
  },
  {
   "cell_type": "code",
   "execution_count": null,
   "metadata": {},
   "outputs": [],
   "source": []
  },
  {
   "cell_type": "code",
   "execution_count": null,
   "metadata": {},
   "outputs": [],
   "source": []
  },
  {
   "cell_type": "code",
   "execution_count": null,
   "metadata": {},
   "outputs": [],
   "source": []
  }
 ],
 "metadata": {
  "kernelspec": {
   "display_name": "Python 3",
   "language": "python",
   "name": "python3"
  },
  "language_info": {
   "codemirror_mode": {
    "name": "ipython",
    "version": 3
   },
   "file_extension": ".py",
   "mimetype": "text/x-python",
   "name": "python",
   "nbconvert_exporter": "python",
   "pygments_lexer": "ipython3",
   "version": "3.6.6"
  }
 },
 "nbformat": 4,
 "nbformat_minor": 2
}
