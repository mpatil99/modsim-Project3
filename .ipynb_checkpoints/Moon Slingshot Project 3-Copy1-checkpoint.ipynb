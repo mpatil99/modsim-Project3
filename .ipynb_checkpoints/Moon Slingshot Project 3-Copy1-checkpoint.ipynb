{
 "cells": [
  {
   "cell_type": "markdown",
   "metadata": {},
   "source": [
    "## Modeling and Simulation in Python\n",
    "\n",
    "Project 3\n",
    "\n",
    "Jinfay Yuan and Manu Patil"
   ]
  },
  {
   "cell_type": "code",
   "execution_count": 284,
   "metadata": {},
   "outputs": [],
   "source": [
    "# Configure Jupyter so figures appear in the notebook\n",
    "%matplotlib inline\n",
    "\n",
    "# Configure Jupyter to display the assigned value after an assignment\n",
    "%config InteractiveShell.ast_node_interactivity='last_expr_or_assign'\n",
    "\n",
    "# import functions from the modsim.py module\n",
    "from modsim import *\n",
    "import math\n",
    "import matplotlib.pyplot as plt\n",
    "\n",
    "from IPython.display import HTML\n",
    "\n",
    "import array as arr\n",
    "import matplotlib.pyplot as plt\n",
    "import matplotlib.animation\n",
    "np.random.seed(7)"
   ]
  },
  {
   "cell_type": "code",
   "execution_count": 285,
   "metadata": {},
   "outputs": [
    {
     "data": {
      "text/html": [
       "degree"
      ],
      "text/latex": [
       "$degree$"
      ],
      "text/plain": [
       "<Unit('degree')>"
      ]
     },
     "execution_count": 285,
     "metadata": {},
     "output_type": "execute_result"
    }
   ],
   "source": [
    "N = UNITS.newton\n",
    "kg = UNITS.kilogram\n",
    "AU = UNITS.astronomical_unit\n",
    "day = UNITS.day\n",
    "m = UNITS.meter\n",
    "s = UNITS.second\n",
    "y = UNITS.year\n",
    "degree = UNITS.degree"
   ]
  },
  {
   "cell_type": "code",
   "execution_count": 286,
   "metadata": {},
   "outputs": [
    {
     "data": {
      "text/html": [
       "<div>\n",
       "<style scoped>\n",
       "    .dataframe tbody tr th:only-of-type {\n",
       "        vertical-align: middle;\n",
       "    }\n",
       "\n",
       "    .dataframe tbody tr th {\n",
       "        vertical-align: top;\n",
       "    }\n",
       "\n",
       "    .dataframe thead th {\n",
       "        text-align: right;\n",
       "    }\n",
       "</style>\n",
       "<table border=\"1\" class=\"dataframe\">\n",
       "  <thead>\n",
       "    <tr style=\"text-align: right;\">\n",
       "      <th></th>\n",
       "      <th>values</th>\n",
       "    </tr>\n",
       "  </thead>\n",
       "  <tbody>\n",
       "    <tr>\n",
       "      <th>Mass_Earth</th>\n",
       "      <td>5.972e+24 kilogram</td>\n",
       "    </tr>\n",
       "    <tr>\n",
       "      <th>Mass_Moon</th>\n",
       "      <td>7.347673e+22 kilogram</td>\n",
       "    </tr>\n",
       "    <tr>\n",
       "      <th>Mass_Satellite</th>\n",
       "      <td>100 kilogram</td>\n",
       "    </tr>\n",
       "    <tr>\n",
       "      <th>G</th>\n",
       "      <td>6.674e-11 meter ** 2 * newton / kilogram ** 2</td>\n",
       "    </tr>\n",
       "    <tr>\n",
       "      <th>r_0</th>\n",
       "      <td>3449709330</td>\n",
       "    </tr>\n",
       "    <tr>\n",
       "      <th>t_0</th>\n",
       "      <td>0 second</td>\n",
       "    </tr>\n",
       "    <tr>\n",
       "      <th>t_end</th>\n",
       "      <td>1000000.0 second</td>\n",
       "    </tr>\n",
       "    <tr>\n",
       "      <th>v</th>\n",
       "      <td>10000.0 meter / second</td>\n",
       "    </tr>\n",
       "    <tr>\n",
       "      <th>theta</th>\n",
       "      <td>30 degree</td>\n",
       "    </tr>\n",
       "  </tbody>\n",
       "</table>\n",
       "</div>"
      ],
      "text/plain": [
       "Mass_Earth                                   5.972e+24 kilogram\n",
       "Mass_Moon                                 7.347673e+22 kilogram\n",
       "Mass_Satellite                                     100 kilogram\n",
       "G                 6.674e-11 meter ** 2 * newton / kilogram ** 2\n",
       "r_0                                                  3449709330\n",
       "t_0                                                    0 second\n",
       "t_end                                          1000000.0 second\n",
       "v                                        10000.0 meter / second\n",
       "theta                                                 30 degree\n",
       "dtype: object"
      ]
     },
     "execution_count": 286,
     "metadata": {},
     "output_type": "execute_result"
    }
   ],
   "source": [
    "params = Params(Mass_Earth = 5.972e24 *kg,\n",
    "                Mass_Moon = 7.3476730e22 *kg, \n",
    "                Mass_Satellite = 100 *kg,\n",
    "                G = 6.674e-11* (N*m**2)/(kg**2),\n",
    "                r_0 = 3449709330,#distance from center of Earth to Lagrange point\n",
    "                t_0 = 0*s,\n",
    "                t_end =1e6*s,\n",
    "                v=10000*m/s,\n",
    "                theta=30*degree)"
   ]
  },
  {
   "cell_type": "code",
   "execution_count": 287,
   "metadata": {},
   "outputs": [
    {
     "data": {
      "text/html": [
       "<div>\n",
       "<style scoped>\n",
       "    .dataframe tbody tr th:only-of-type {\n",
       "        vertical-align: middle;\n",
       "    }\n",
       "\n",
       "    .dataframe tbody tr th {\n",
       "        vertical-align: top;\n",
       "    }\n",
       "\n",
       "    .dataframe thead th {\n",
       "        text-align: right;\n",
       "    }\n",
       "</style>\n",
       "<table border=\"1\" class=\"dataframe\">\n",
       "  <thead>\n",
       "    <tr style=\"text-align: right;\">\n",
       "      <th></th>\n",
       "      <th>values</th>\n",
       "    </tr>\n",
       "  </thead>\n",
       "  <tbody>\n",
       "    <tr>\n",
       "      <th>Mass_Earth</th>\n",
       "      <td>5.972e+24 kilogram</td>\n",
       "    </tr>\n",
       "    <tr>\n",
       "      <th>Mass_Moon</th>\n",
       "      <td>7.347673e+22 kilogram</td>\n",
       "    </tr>\n",
       "    <tr>\n",
       "      <th>Mass_Satellite</th>\n",
       "      <td>100 kilogram</td>\n",
       "    </tr>\n",
       "    <tr>\n",
       "      <th>G</th>\n",
       "      <td>6.674e-11 meter ** 2 * newton / kilogram ** 2</td>\n",
       "    </tr>\n",
       "    <tr>\n",
       "      <th>r_0</th>\n",
       "      <td>3449709330</td>\n",
       "    </tr>\n",
       "    <tr>\n",
       "      <th>t_0</th>\n",
       "      <td>0 second</td>\n",
       "    </tr>\n",
       "    <tr>\n",
       "      <th>t_end</th>\n",
       "      <td>1000000.0 second</td>\n",
       "    </tr>\n",
       "    <tr>\n",
       "      <th>v</th>\n",
       "      <td>10000.0 meter / second</td>\n",
       "    </tr>\n",
       "    <tr>\n",
       "      <th>theta</th>\n",
       "      <td>30 degree</td>\n",
       "    </tr>\n",
       "    <tr>\n",
       "      <th>init</th>\n",
       "      <td>x                                 344970933 me...</td>\n",
       "    </tr>\n",
       "  </tbody>\n",
       "</table>\n",
       "</div>"
      ],
      "text/plain": [
       "Mass_Earth                                       5.972e+24 kilogram\n",
       "Mass_Moon                                     7.347673e+22 kilogram\n",
       "Mass_Satellite                                         100 kilogram\n",
       "G                     6.674e-11 meter ** 2 * newton / kilogram ** 2\n",
       "r_0                                                      3449709330\n",
       "t_0                                                        0 second\n",
       "t_end                                              1000000.0 second\n",
       "v                                            10000.0 meter / second\n",
       "theta                                                     30 degree\n",
       "init              x                                 344970933 me...\n",
       "dtype: object"
      ]
     },
     "execution_count": 287,
     "metadata": {},
     "output_type": "execute_result"
    }
   ],
   "source": [
    "def make_system(params):\n",
    "    unpack(params)\n",
    "\n",
    "\n",
    "    init = State(x = 344970933 *m, \n",
    "                 y = 0*m ,\n",
    "                 vx = v* math.cos(theta) *m/s ,\n",
    "                 vy = v* math.sin(theta) *m/s ,\n",
    "                 mx = 384472281 *m, #distance from Earth to Moon\n",
    "                 my = 0*m,\n",
    "                 mvx = 0 *m/s,\n",
    "                 mvy = 1000 * m/s);\n",
    "\n",
    "    return System(params,init=init)\n",
    "system = make_system(params)"
   ]
  },
  {
   "cell_type": "code",
   "execution_count": 288,
   "metadata": {},
   "outputs": [],
   "source": [
    "def slope_func(state, t, system):\n",
    "    \"\"\"Compute derivatives of the state.\n",
    "    \n",
    "    state: position, velocity\n",
    "    t: time\n",
    "    system: System object containing `g`\n",
    "    \n",
    "    returns: derivatives of y and v\n",
    "    \"\"\"\n",
    "    x, y, vx, vy, mx, my, mvx, mvy = state\n",
    "    unpack(system) \n",
    "    \n",
    "    forceSatellite = Earth_fgrav(state,system) + Moon_fgrav(state,system)\n",
    "    forceEarthMoon = Earth_fgravMoon(state,system)\n",
    "    \n",
    "    dxdt = vx \n",
    "    dydt = vy\n",
    "    \n",
    "    dvxdt = (forceSatellite.x) / Mass_Satellite\n",
    "    dvydt = (forceSatellite.y) / Mass_Satellite\n",
    "    \n",
    "    dmxdt = mvx\n",
    "    dmydt = mvy\n",
    "    \n",
    "    dmvxdt = (forceEarthMoon.x) / Mass_Moon\n",
    "    dmvydt = (forceEarthMoon.y) / Mass_Moon\n",
    "    \n",
    "\n",
    "    \n",
    "    return dxdt, dydt, dvxdt, dvydt,dmxdt, dmydt, dmvxdt, dmvydt"
   ]
  },
  {
   "cell_type": "code",
   "execution_count": 289,
   "metadata": {},
   "outputs": [],
   "source": [
    "def fgrav(obj1_x, obj1_y, obj2_x, obj2_y, Mass_1, Mass_2):\n",
    "    position = Vector(obj2_x-obj1_x, obj2_y-obj1_y) *m\n",
    "    force = G * Mass_2 * Mass_1 / (position.mag)**2\n",
    "    return  position.hat() * force"
   ]
  },
  {
   "cell_type": "code",
   "execution_count": 290,
   "metadata": {},
   "outputs": [
    {
     "data": {
      "text/html": [
       "[-1.98118829e+20  0.00000000e+00] newton/meter<sup>2</sup>"
      ],
      "text/latex": [
       "$[-1.98118829e+20  0.00000000e+00] \\frac{newton}{meter^{2}}$"
      ],
      "text/plain": [
       "<Quantity([-1.98118829e+20  0.00000000e+00], 'newton / meter ** 2')>"
      ]
     },
     "execution_count": 290,
     "metadata": {},
     "output_type": "execute_result"
    }
   ],
   "source": [
    "def Earth_fgravMoon(state,system):\n",
    "    unpack (system)\n",
    "    x,y,vx,vy,mx,my,mvx,mvy = state\n",
    "    return fgrav(mx,my, 0, 0, Mass_Moon, Mass_Earth)\n",
    "Earth_fgravMoon(system.init, system)"
   ]
  },
  {
   "cell_type": "code",
   "execution_count": 291,
   "metadata": {},
   "outputs": [
    {
     "data": {
      "text/html": [
       "[-0.33491993  0.        ] newton/meter<sup>2</sup>"
      ],
      "text/latex": [
       "$[-0.33491993  0.        ] \\frac{newton}{meter^{2}}$"
      ],
      "text/plain": [
       "<Quantity([-0.33491993  0.        ], 'newton / meter ** 2')>"
      ]
     },
     "execution_count": 291,
     "metadata": {},
     "output_type": "execute_result"
    }
   ],
   "source": [
    "def Earth_fgrav(state,system):\n",
    "    unpack (system)\n",
    "    x,y,vx,vy,mx,my,mvx,mvy = state\n",
    "    return fgrav(x,y, 0, 0, Mass_Satellite, Mass_Earth)\n",
    "Earth_fgrav(system.init, system)"
   ]
  },
  {
   "cell_type": "code",
   "execution_count": 292,
   "metadata": {},
   "outputs": [
    {
     "data": {
      "text/html": [
       "[0.3142767 0.       ] newton/meter<sup>2</sup>"
      ],
      "text/latex": [
       "$[0.3142767 0.       ] \\frac{newton}{meter^{2}}$"
      ],
      "text/plain": [
       "<Quantity([0.3142767 0.       ], 'newton / meter ** 2')>"
      ]
     },
     "execution_count": 292,
     "metadata": {},
     "output_type": "execute_result"
    }
   ],
   "source": [
    "def Moon_fgrav(state,system):\n",
    "    unpack (system)\n",
    "    x,y,vx,vy,mx,my,mvx,mvy = state\n",
    "    return fgrav(x,y, mx, my, Mass_Satellite, Mass_Moon)\n",
    "Moon_fgrav(system.init, system)"
   ]
  },
  {
   "cell_type": "code",
   "execution_count": 293,
   "metadata": {},
   "outputs": [
    {
     "data": {
      "text/html": [
       "37764348.0 meter"
      ],
      "text/latex": [
       "$37764348.0 meter$"
      ],
      "text/plain": [
       "<Quantity(37764348.0, 'meter')>"
      ]
     },
     "execution_count": 293,
     "metadata": {},
     "output_type": "execute_result"
    }
   ],
   "source": [
    "def event_func(state, t, system): # Checks crash into Moon\n",
    "    unpack (system)\n",
    "    x,y,vx,vy,mx,my,mvx,mvy = state\n",
    "    position = Vector(mx-x, my-y) *m\n",
    "    return position.mag /m - 1737000*m\n",
    "event_func(system.init, 0, system)"
   ]
  },
  {
   "cell_type": "code",
   "execution_count": 294,
   "metadata": {},
   "outputs": [
    {
     "data": {
      "text/html": [
       "338599933.0 meter"
      ],
      "text/latex": [
       "$338599933.0 meter$"
      ],
      "text/plain": [
       "<Quantity(338599933.0, 'meter')>"
      ]
     },
     "execution_count": 294,
     "metadata": {},
     "output_type": "execute_result"
    }
   ],
   "source": [
    "def event_func1(state, t, system): # Checks crash into Earth\n",
    "    unpack (system)\n",
    "    x,y,vx,vy,mx,my,mvx,mvy = state\n",
    "    position = Vector(0-x, 0-y) *m\n",
    "    return position.mag /m - 6371000*m\n",
    "event_func1(system.init, 0, system)"
   ]
  },
  {
   "cell_type": "code",
   "execution_count": 295,
   "metadata": {},
   "outputs": [
    {
     "data": {
      "text/plain": [
       "(<Quantity(866.0254037844387, 'meter ** 2 / second ** 2')>,\n",
       " <Quantity(499.99999999999994, 'meter ** 2 / second ** 2')>,\n",
       " <Quantity(-0.00020643228302136274, 'newton / kilogram / meter ** 2')>,\n",
       " <Quantity(0.0, 'newton / kilogram / meter ** 2')>,\n",
       " <Quantity(0.0, 'meter / second')>,\n",
       " <Quantity(1000.0, 'meter / second')>,\n",
       " <Quantity(-0.002696347936647311, 'newton / kilogram / meter ** 2')>,\n",
       " <Quantity(0.0, 'newton / kilogram / meter ** 2')>)"
      ]
     },
     "execution_count": 295,
     "metadata": {},
     "output_type": "execute_result"
    }
   ],
   "source": [
    "params1 = Params(params, v = 1000*m/s)\n",
    "system = make_system(params1)\n",
    "slope_func(system.init, 0, system)"
   ]
  },
  {
   "cell_type": "code",
   "execution_count": 296,
   "metadata": {
    "scrolled": true
   },
   "outputs": [
    {
     "ename": "KeyboardInterrupt",
     "evalue": "",
     "output_type": "error",
     "traceback": [
      "\u001b[1;31m---------------------------------------------------------------------------\u001b[0m",
      "\u001b[1;31mKeyboardInterrupt\u001b[0m                         Traceback (most recent call last)",
      "\u001b[1;32m<ipython-input-296-5e2cca69abf8>\u001b[0m in \u001b[0;36m<module>\u001b[1;34m()\u001b[0m\n\u001b[1;32m----> 1\u001b[1;33m \u001b[0mresults\u001b[0m\u001b[1;33m,\u001b[0m \u001b[0mdetails\u001b[0m \u001b[1;33m=\u001b[0m \u001b[0mrun_ode_solver\u001b[0m\u001b[1;33m(\u001b[0m\u001b[0msystem\u001b[0m\u001b[1;33m,\u001b[0m \u001b[0mslope_func\u001b[0m\u001b[1;33m,\u001b[0m\u001b[0mevents\u001b[0m \u001b[1;33m=\u001b[0m \u001b[1;33m[\u001b[0m\u001b[0mevent_func\u001b[0m\u001b[1;33m,\u001b[0m\u001b[0mevent_func1\u001b[0m\u001b[1;33m]\u001b[0m\u001b[1;33m,\u001b[0m \u001b[0mmethod\u001b[0m \u001b[1;33m=\u001b[0m \u001b[1;34m\"LSODA\"\u001b[0m\u001b[1;33m)\u001b[0m\u001b[1;33m\u001b[0m\u001b[0m\n\u001b[0m\u001b[0;32m      2\u001b[0m \u001b[0mdetails\u001b[0m\u001b[1;33m\u001b[0m\u001b[0m\n",
      "\u001b[1;32m~\\Desktop\\Classes\\Fall 2018\\ModSim\\Project 3\\modsim-Project3\\modsim.py\u001b[0m in \u001b[0;36mrun_ode_solver\u001b[1;34m(system, slope_func, **options)\u001b[0m\n\u001b[0;32m    495\u001b[0m     \u001b[1;31m# run the solver\u001b[0m\u001b[1;33m\u001b[0m\u001b[1;33m\u001b[0m\u001b[0m\n\u001b[0;32m    496\u001b[0m     \u001b[1;32mwith\u001b[0m \u001b[0munits_off\u001b[0m\u001b[1;33m(\u001b[0m\u001b[1;33m)\u001b[0m\u001b[1;33m:\u001b[0m\u001b[1;33m\u001b[0m\u001b[0m\n\u001b[1;32m--> 497\u001b[1;33m         \u001b[0mbunch\u001b[0m \u001b[1;33m=\u001b[0m \u001b[0msolve_ivp\u001b[0m\u001b[1;33m(\u001b[0m\u001b[0mf\u001b[0m\u001b[1;33m,\u001b[0m \u001b[1;33m[\u001b[0m\u001b[0mt_0\u001b[0m\u001b[1;33m,\u001b[0m \u001b[0mt_end\u001b[0m\u001b[1;33m]\u001b[0m\u001b[1;33m,\u001b[0m \u001b[0my_0\u001b[0m\u001b[1;33m,\u001b[0m \u001b[0mevents\u001b[0m\u001b[1;33m=\u001b[0m\u001b[0mevents\u001b[0m\u001b[1;33m,\u001b[0m \u001b[1;33m**\u001b[0m\u001b[0moptions\u001b[0m\u001b[1;33m)\u001b[0m\u001b[1;33m\u001b[0m\u001b[0m\n\u001b[0m\u001b[0;32m    498\u001b[0m \u001b[1;33m\u001b[0m\u001b[0m\n\u001b[0;32m    499\u001b[0m     \u001b[1;31m# separate the results from the details\u001b[0m\u001b[1;33m\u001b[0m\u001b[1;33m\u001b[0m\u001b[0m\n",
      "\u001b[1;32mC:\\Miniconda3\\lib\\site-packages\\scipy\\integrate\\_ivp\\ivp.py\u001b[0m in \u001b[0;36msolve_ivp\u001b[1;34m(fun, t_span, y0, method, t_eval, dense_output, events, vectorized, **options)\u001b[0m\n\u001b[0;32m    473\u001b[0m     \u001b[0mstatus\u001b[0m \u001b[1;33m=\u001b[0m \u001b[1;32mNone\u001b[0m\u001b[1;33m\u001b[0m\u001b[0m\n\u001b[0;32m    474\u001b[0m     \u001b[1;32mwhile\u001b[0m \u001b[0mstatus\u001b[0m \u001b[1;32mis\u001b[0m \u001b[1;32mNone\u001b[0m\u001b[1;33m:\u001b[0m\u001b[1;33m\u001b[0m\u001b[0m\n\u001b[1;32m--> 475\u001b[1;33m         \u001b[0mmessage\u001b[0m \u001b[1;33m=\u001b[0m \u001b[0msolver\u001b[0m\u001b[1;33m.\u001b[0m\u001b[0mstep\u001b[0m\u001b[1;33m(\u001b[0m\u001b[1;33m)\u001b[0m\u001b[1;33m\u001b[0m\u001b[0m\n\u001b[0m\u001b[0;32m    476\u001b[0m \u001b[1;33m\u001b[0m\u001b[0m\n\u001b[0;32m    477\u001b[0m         \u001b[1;32mif\u001b[0m \u001b[0msolver\u001b[0m\u001b[1;33m.\u001b[0m\u001b[0mstatus\u001b[0m \u001b[1;33m==\u001b[0m \u001b[1;34m'finished'\u001b[0m\u001b[1;33m:\u001b[0m\u001b[1;33m\u001b[0m\u001b[0m\n",
      "\u001b[1;32mC:\\Miniconda3\\lib\\site-packages\\scipy\\integrate\\_ivp\\base.py\u001b[0m in \u001b[0;36mstep\u001b[1;34m(self)\u001b[0m\n\u001b[0;32m    180\u001b[0m         \u001b[1;32melse\u001b[0m\u001b[1;33m:\u001b[0m\u001b[1;33m\u001b[0m\u001b[0m\n\u001b[0;32m    181\u001b[0m             \u001b[0mt\u001b[0m \u001b[1;33m=\u001b[0m \u001b[0mself\u001b[0m\u001b[1;33m.\u001b[0m\u001b[0mt\u001b[0m\u001b[1;33m\u001b[0m\u001b[0m\n\u001b[1;32m--> 182\u001b[1;33m             \u001b[0msuccess\u001b[0m\u001b[1;33m,\u001b[0m \u001b[0mmessage\u001b[0m \u001b[1;33m=\u001b[0m \u001b[0mself\u001b[0m\u001b[1;33m.\u001b[0m\u001b[0m_step_impl\u001b[0m\u001b[1;33m(\u001b[0m\u001b[1;33m)\u001b[0m\u001b[1;33m\u001b[0m\u001b[0m\n\u001b[0m\u001b[0;32m    183\u001b[0m \u001b[1;33m\u001b[0m\u001b[0m\n\u001b[0;32m    184\u001b[0m             \u001b[1;32mif\u001b[0m \u001b[1;32mnot\u001b[0m \u001b[0msuccess\u001b[0m\u001b[1;33m:\u001b[0m\u001b[1;33m\u001b[0m\u001b[0m\n",
      "\u001b[1;32mC:\\Miniconda3\\lib\\site-packages\\scipy\\integrate\\_ivp\\lsoda.py\u001b[0m in \u001b[0;36m_step_impl\u001b[1;34m(self)\u001b[0m\n\u001b[0;32m    150\u001b[0m         solver._y, solver.t = integrator.run(\n\u001b[0;32m    151\u001b[0m             \u001b[0msolver\u001b[0m\u001b[1;33m.\u001b[0m\u001b[0mf\u001b[0m\u001b[1;33m,\u001b[0m \u001b[0msolver\u001b[0m\u001b[1;33m.\u001b[0m\u001b[0mjac\u001b[0m\u001b[1;33m,\u001b[0m \u001b[0msolver\u001b[0m\u001b[1;33m.\u001b[0m\u001b[0m_y\u001b[0m\u001b[1;33m,\u001b[0m \u001b[0msolver\u001b[0m\u001b[1;33m.\u001b[0m\u001b[0mt\u001b[0m\u001b[1;33m,\u001b[0m\u001b[1;33m\u001b[0m\u001b[0m\n\u001b[1;32m--> 152\u001b[1;33m             self.t_bound, solver.f_params, solver.jac_params)\n\u001b[0m\u001b[0;32m    153\u001b[0m         \u001b[0mintegrator\u001b[0m\u001b[1;33m.\u001b[0m\u001b[0mcall_args\u001b[0m\u001b[1;33m[\u001b[0m\u001b[1;36m2\u001b[0m\u001b[1;33m]\u001b[0m \u001b[1;33m=\u001b[0m \u001b[0mitask\u001b[0m\u001b[1;33m\u001b[0m\u001b[0m\n\u001b[0;32m    154\u001b[0m \u001b[1;33m\u001b[0m\u001b[0m\n",
      "\u001b[1;32mC:\\Miniconda3\\lib\\site-packages\\scipy\\integrate\\_ode.py\u001b[0m in \u001b[0;36mrun\u001b[1;34m(self, f, jac, y0, t0, t1, f_params, jac_params)\u001b[0m\n\u001b[0;32m   1341\u001b[0m         \u001b[0margs\u001b[0m \u001b[1;33m=\u001b[0m \u001b[1;33m[\u001b[0m\u001b[0mf\u001b[0m\u001b[1;33m,\u001b[0m \u001b[0my0\u001b[0m\u001b[1;33m,\u001b[0m \u001b[0mt0\u001b[0m\u001b[1;33m,\u001b[0m \u001b[0mt1\u001b[0m\u001b[1;33m]\u001b[0m \u001b[1;33m+\u001b[0m \u001b[0mself\u001b[0m\u001b[1;33m.\u001b[0m\u001b[0mcall_args\u001b[0m\u001b[1;33m[\u001b[0m\u001b[1;33m:\u001b[0m\u001b[1;33m-\u001b[0m\u001b[1;36m1\u001b[0m\u001b[1;33m]\u001b[0m \u001b[1;33m+\u001b[0m\u001b[0;31m \u001b[0m\u001b[0;31m\\\u001b[0m\u001b[1;33m\u001b[0m\u001b[0m\n\u001b[0;32m   1342\u001b[0m                \u001b[1;33m[\u001b[0m\u001b[0mjac\u001b[0m\u001b[1;33m,\u001b[0m \u001b[0mself\u001b[0m\u001b[1;33m.\u001b[0m\u001b[0mcall_args\u001b[0m\u001b[1;33m[\u001b[0m\u001b[1;33m-\u001b[0m\u001b[1;36m1\u001b[0m\u001b[1;33m]\u001b[0m\u001b[1;33m,\u001b[0m \u001b[0mf_params\u001b[0m\u001b[1;33m,\u001b[0m \u001b[1;36m0\u001b[0m\u001b[1;33m,\u001b[0m \u001b[0mjac_params\u001b[0m\u001b[1;33m]\u001b[0m\u001b[1;33m\u001b[0m\u001b[0m\n\u001b[1;32m-> 1343\u001b[1;33m         \u001b[0my1\u001b[0m\u001b[1;33m,\u001b[0m \u001b[0mt\u001b[0m\u001b[1;33m,\u001b[0m \u001b[0mistate\u001b[0m \u001b[1;33m=\u001b[0m \u001b[0mself\u001b[0m\u001b[1;33m.\u001b[0m\u001b[0mrunner\u001b[0m\u001b[1;33m(\u001b[0m\u001b[1;33m*\u001b[0m\u001b[0margs\u001b[0m\u001b[1;33m)\u001b[0m\u001b[1;33m\u001b[0m\u001b[0m\n\u001b[0m\u001b[0;32m   1344\u001b[0m         \u001b[0mself\u001b[0m\u001b[1;33m.\u001b[0m\u001b[0mistate\u001b[0m \u001b[1;33m=\u001b[0m \u001b[0mistate\u001b[0m\u001b[1;33m\u001b[0m\u001b[0m\n\u001b[0;32m   1345\u001b[0m         \u001b[1;32mif\u001b[0m \u001b[0mistate\u001b[0m \u001b[1;33m<\u001b[0m \u001b[1;36m0\u001b[0m\u001b[1;33m:\u001b[0m\u001b[1;33m\u001b[0m\u001b[0m\n",
      "\u001b[1;32mC:\\Miniconda3\\lib\\site-packages\\scipy\\integrate\\_ivp\\base.py\u001b[0m in \u001b[0;36mfun\u001b[1;34m(t, y)\u001b[0m\n\u001b[0;32m    137\u001b[0m         \u001b[1;32mdef\u001b[0m \u001b[0mfun\u001b[0m\u001b[1;33m(\u001b[0m\u001b[0mt\u001b[0m\u001b[1;33m,\u001b[0m \u001b[0my\u001b[0m\u001b[1;33m)\u001b[0m\u001b[1;33m:\u001b[0m\u001b[1;33m\u001b[0m\u001b[0m\n\u001b[0;32m    138\u001b[0m             \u001b[0mself\u001b[0m\u001b[1;33m.\u001b[0m\u001b[0mnfev\u001b[0m \u001b[1;33m+=\u001b[0m \u001b[1;36m1\u001b[0m\u001b[1;33m\u001b[0m\u001b[0m\n\u001b[1;32m--> 139\u001b[1;33m             \u001b[1;32mreturn\u001b[0m \u001b[0mself\u001b[0m\u001b[1;33m.\u001b[0m\u001b[0mfun_single\u001b[0m\u001b[1;33m(\u001b[0m\u001b[0mt\u001b[0m\u001b[1;33m,\u001b[0m \u001b[0my\u001b[0m\u001b[1;33m)\u001b[0m\u001b[1;33m\u001b[0m\u001b[0m\n\u001b[0m\u001b[0;32m    140\u001b[0m \u001b[1;33m\u001b[0m\u001b[0m\n\u001b[0;32m    141\u001b[0m         \u001b[0mself\u001b[0m\u001b[1;33m.\u001b[0m\u001b[0mfun\u001b[0m \u001b[1;33m=\u001b[0m \u001b[0mfun\u001b[0m\u001b[1;33m\u001b[0m\u001b[0m\n",
      "\u001b[1;32mC:\\Miniconda3\\lib\\site-packages\\scipy\\integrate\\_ivp\\base.py\u001b[0m in \u001b[0;36mfun_wrapped\u001b[1;34m(t, y)\u001b[0m\n\u001b[0;32m     19\u001b[0m \u001b[1;33m\u001b[0m\u001b[0m\n\u001b[0;32m     20\u001b[0m     \u001b[1;32mdef\u001b[0m \u001b[0mfun_wrapped\u001b[0m\u001b[1;33m(\u001b[0m\u001b[0mt\u001b[0m\u001b[1;33m,\u001b[0m \u001b[0my\u001b[0m\u001b[1;33m)\u001b[0m\u001b[1;33m:\u001b[0m\u001b[1;33m\u001b[0m\u001b[0m\n\u001b[1;32m---> 21\u001b[1;33m         \u001b[1;32mreturn\u001b[0m \u001b[0mnp\u001b[0m\u001b[1;33m.\u001b[0m\u001b[0masarray\u001b[0m\u001b[1;33m(\u001b[0m\u001b[0mfun\u001b[0m\u001b[1;33m(\u001b[0m\u001b[0mt\u001b[0m\u001b[1;33m,\u001b[0m \u001b[0my\u001b[0m\u001b[1;33m)\u001b[0m\u001b[1;33m,\u001b[0m \u001b[0mdtype\u001b[0m\u001b[1;33m=\u001b[0m\u001b[0mdtype\u001b[0m\u001b[1;33m)\u001b[0m\u001b[1;33m\u001b[0m\u001b[0m\n\u001b[0m\u001b[0;32m     22\u001b[0m \u001b[1;33m\u001b[0m\u001b[0m\n\u001b[0;32m     23\u001b[0m     \u001b[1;32mreturn\u001b[0m \u001b[0mfun_wrapped\u001b[0m\u001b[1;33m,\u001b[0m \u001b[0my0\u001b[0m\u001b[1;33m\u001b[0m\u001b[0m\n",
      "\u001b[1;32m~\\Desktop\\Classes\\Fall 2018\\ModSim\\Project 3\\modsim-Project3\\modsim.py\u001b[0m in \u001b[0;36m<lambda>\u001b[1;34m(t, y)\u001b[0m\n\u001b[0;32m    469\u001b[0m \u001b[1;33m\u001b[0m\u001b[0m\n\u001b[0;32m    470\u001b[0m     \u001b[1;31m# wrap the slope function to reverse the arguments and add `system`\u001b[0m\u001b[1;33m\u001b[0m\u001b[1;33m\u001b[0m\u001b[0m\n\u001b[1;32m--> 471\u001b[1;33m     \u001b[0mf\u001b[0m \u001b[1;33m=\u001b[0m \u001b[1;32mlambda\u001b[0m \u001b[0mt\u001b[0m\u001b[1;33m,\u001b[0m \u001b[0my\u001b[0m\u001b[1;33m:\u001b[0m \u001b[0mslope_func\u001b[0m\u001b[1;33m(\u001b[0m\u001b[0my\u001b[0m\u001b[1;33m,\u001b[0m \u001b[0mt\u001b[0m\u001b[1;33m,\u001b[0m \u001b[0msystem\u001b[0m\u001b[1;33m)\u001b[0m\u001b[1;33m\u001b[0m\u001b[0m\n\u001b[0m\u001b[0;32m    472\u001b[0m \u001b[1;33m\u001b[0m\u001b[0m\n\u001b[0;32m    473\u001b[0m     \u001b[1;32mdef\u001b[0m \u001b[0mwrap_event\u001b[0m\u001b[1;33m(\u001b[0m\u001b[0mevent\u001b[0m\u001b[1;33m)\u001b[0m\u001b[1;33m:\u001b[0m\u001b[1;33m\u001b[0m\u001b[0m\n",
      "\u001b[1;32m<ipython-input-288-c739823b46b7>\u001b[0m in \u001b[0;36mslope_func\u001b[1;34m(state, t, system)\u001b[0m\n\u001b[0;32m     12\u001b[0m \u001b[1;33m\u001b[0m\u001b[0m\n\u001b[0;32m     13\u001b[0m     \u001b[0mforceSatellite\u001b[0m \u001b[1;33m=\u001b[0m \u001b[0mEarth_fgrav\u001b[0m\u001b[1;33m(\u001b[0m\u001b[0mstate\u001b[0m\u001b[1;33m,\u001b[0m\u001b[0msystem\u001b[0m\u001b[1;33m)\u001b[0m \u001b[1;33m+\u001b[0m \u001b[0mMoon_fgrav\u001b[0m\u001b[1;33m(\u001b[0m\u001b[0mstate\u001b[0m\u001b[1;33m,\u001b[0m\u001b[0msystem\u001b[0m\u001b[1;33m)\u001b[0m\u001b[1;33m\u001b[0m\u001b[0m\n\u001b[1;32m---> 14\u001b[1;33m     \u001b[0mforceEarthMoon\u001b[0m \u001b[1;33m=\u001b[0m \u001b[0mEarth_fgravMoon\u001b[0m\u001b[1;33m(\u001b[0m\u001b[0mstate\u001b[0m\u001b[1;33m,\u001b[0m\u001b[0msystem\u001b[0m\u001b[1;33m)\u001b[0m\u001b[1;33m\u001b[0m\u001b[0m\n\u001b[0m\u001b[0;32m     15\u001b[0m \u001b[1;33m\u001b[0m\u001b[0m\n\u001b[0;32m     16\u001b[0m     \u001b[0mdxdt\u001b[0m \u001b[1;33m=\u001b[0m \u001b[0mvx\u001b[0m\u001b[1;33m\u001b[0m\u001b[0m\n",
      "\u001b[1;32m<ipython-input-290-d8266d464cb9>\u001b[0m in \u001b[0;36mEarth_fgravMoon\u001b[1;34m(state, system)\u001b[0m\n\u001b[0;32m      2\u001b[0m     \u001b[0munpack\u001b[0m \u001b[1;33m(\u001b[0m\u001b[0msystem\u001b[0m\u001b[1;33m)\u001b[0m\u001b[1;33m\u001b[0m\u001b[0m\n\u001b[0;32m      3\u001b[0m     \u001b[0mx\u001b[0m\u001b[1;33m,\u001b[0m\u001b[0my\u001b[0m\u001b[1;33m,\u001b[0m\u001b[0mvx\u001b[0m\u001b[1;33m,\u001b[0m\u001b[0mvy\u001b[0m\u001b[1;33m,\u001b[0m\u001b[0mmx\u001b[0m\u001b[1;33m,\u001b[0m\u001b[0mmy\u001b[0m\u001b[1;33m,\u001b[0m\u001b[0mmvx\u001b[0m\u001b[1;33m,\u001b[0m\u001b[0mmvy\u001b[0m \u001b[1;33m=\u001b[0m \u001b[0mstate\u001b[0m\u001b[1;33m\u001b[0m\u001b[0m\n\u001b[1;32m----> 4\u001b[1;33m     \u001b[1;32mreturn\u001b[0m \u001b[0mfgrav\u001b[0m\u001b[1;33m(\u001b[0m\u001b[0mmx\u001b[0m\u001b[1;33m,\u001b[0m\u001b[0mmy\u001b[0m\u001b[1;33m,\u001b[0m \u001b[1;36m0\u001b[0m\u001b[1;33m,\u001b[0m \u001b[1;36m0\u001b[0m\u001b[1;33m,\u001b[0m \u001b[0mMass_Moon\u001b[0m\u001b[1;33m,\u001b[0m \u001b[0mMass_Earth\u001b[0m\u001b[1;33m)\u001b[0m\u001b[1;33m\u001b[0m\u001b[0m\n\u001b[0m\u001b[0;32m      5\u001b[0m \u001b[0mEarth_fgravMoon\u001b[0m\u001b[1;33m(\u001b[0m\u001b[0msystem\u001b[0m\u001b[1;33m.\u001b[0m\u001b[0minit\u001b[0m\u001b[1;33m,\u001b[0m \u001b[0msystem\u001b[0m\u001b[1;33m)\u001b[0m\u001b[1;33m\u001b[0m\u001b[0m\n",
      "\u001b[1;32m<ipython-input-289-8515b4dacf2a>\u001b[0m in \u001b[0;36mfgrav\u001b[1;34m(obj1_x, obj1_y, obj2_x, obj2_y, Mass_1, Mass_2)\u001b[0m\n\u001b[0;32m      1\u001b[0m \u001b[1;32mdef\u001b[0m \u001b[0mfgrav\u001b[0m\u001b[1;33m(\u001b[0m\u001b[0mobj1_x\u001b[0m\u001b[1;33m,\u001b[0m \u001b[0mobj1_y\u001b[0m\u001b[1;33m,\u001b[0m \u001b[0mobj2_x\u001b[0m\u001b[1;33m,\u001b[0m \u001b[0mobj2_y\u001b[0m\u001b[1;33m,\u001b[0m \u001b[0mMass_1\u001b[0m\u001b[1;33m,\u001b[0m \u001b[0mMass_2\u001b[0m\u001b[1;33m)\u001b[0m\u001b[1;33m:\u001b[0m\u001b[1;33m\u001b[0m\u001b[0m\n\u001b[0;32m      2\u001b[0m     \u001b[0mposition\u001b[0m \u001b[1;33m=\u001b[0m \u001b[0mVector\u001b[0m\u001b[1;33m(\u001b[0m\u001b[0mobj2_x\u001b[0m\u001b[1;33m-\u001b[0m\u001b[0mobj1_x\u001b[0m\u001b[1;33m,\u001b[0m \u001b[0mobj2_y\u001b[0m\u001b[1;33m-\u001b[0m\u001b[0mobj1_y\u001b[0m\u001b[1;33m)\u001b[0m \u001b[1;33m*\u001b[0m\u001b[0mm\u001b[0m\u001b[1;33m\u001b[0m\u001b[0m\n\u001b[1;32m----> 3\u001b[1;33m     \u001b[0mforce\u001b[0m \u001b[1;33m=\u001b[0m \u001b[0mG\u001b[0m \u001b[1;33m*\u001b[0m \u001b[0mMass_2\u001b[0m \u001b[1;33m*\u001b[0m \u001b[0mMass_1\u001b[0m \u001b[1;33m/\u001b[0m \u001b[1;33m(\u001b[0m\u001b[0mposition\u001b[0m\u001b[1;33m.\u001b[0m\u001b[0mmag\u001b[0m\u001b[1;33m)\u001b[0m\u001b[1;33m**\u001b[0m\u001b[1;36m2\u001b[0m\u001b[1;33m\u001b[0m\u001b[0m\n\u001b[0m\u001b[0;32m      4\u001b[0m     \u001b[1;32mreturn\u001b[0m  \u001b[0mposition\u001b[0m\u001b[1;33m.\u001b[0m\u001b[0mhat\u001b[0m\u001b[1;33m(\u001b[0m\u001b[1;33m)\u001b[0m \u001b[1;33m*\u001b[0m \u001b[0mforce\u001b[0m\u001b[1;33m\u001b[0m\u001b[0m\n",
      "\u001b[1;32m~\\Desktop\\Classes\\Fall 2018\\ModSim\\Project 3\\modsim-Project3\\modsim.py\u001b[0m in \u001b[0;36mmag\u001b[1;34m(self)\u001b[0m\n\u001b[0;32m   1289\u001b[0m     \u001b[1;32mdef\u001b[0m \u001b[0mmag\u001b[0m\u001b[1;33m(\u001b[0m\u001b[0mself\u001b[0m\u001b[1;33m)\u001b[0m\u001b[1;33m:\u001b[0m\u001b[1;33m\u001b[0m\u001b[0m\n\u001b[0;32m   1290\u001b[0m         \u001b[1;34m\"\"\"Returns the magnitude with units.\"\"\"\u001b[0m\u001b[1;33m\u001b[0m\u001b[0m\n\u001b[1;32m-> 1291\u001b[1;33m         \u001b[1;32mreturn\u001b[0m \u001b[0mvector_mag\u001b[0m\u001b[1;33m(\u001b[0m\u001b[0mself\u001b[0m\u001b[1;33m)\u001b[0m\u001b[1;33m\u001b[0m\u001b[0m\n\u001b[0m\u001b[0;32m   1292\u001b[0m \u001b[1;33m\u001b[0m\u001b[0m\n\u001b[0;32m   1293\u001b[0m     \u001b[1;33m@\u001b[0m\u001b[0mproperty\u001b[0m\u001b[1;33m\u001b[0m\u001b[0m\n",
      "\u001b[1;32m~\\Desktop\\Classes\\Fall 2018\\ModSim\\Project 3\\modsim-Project3\\modsim.py\u001b[0m in \u001b[0;36mvector_mag\u001b[1;34m(v)\u001b[0m\n\u001b[0;32m   1148\u001b[0m     \u001b[0mreturns\u001b[0m\u001b[1;33m:\u001b[0m \u001b[0mnumber\u001b[0m \u001b[1;32mor\u001b[0m \u001b[0mQuantity\u001b[0m\u001b[1;33m\u001b[0m\u001b[0m\n\u001b[0;32m   1149\u001b[0m     \"\"\"\n\u001b[1;32m-> 1150\u001b[1;33m     \u001b[1;32mreturn\u001b[0m \u001b[0mnp\u001b[0m\u001b[1;33m.\u001b[0m\u001b[0msqrt\u001b[0m\u001b[1;33m(\u001b[0m\u001b[0mnp\u001b[0m\u001b[1;33m.\u001b[0m\u001b[0mdot\u001b[0m\u001b[1;33m(\u001b[0m\u001b[0mv\u001b[0m\u001b[1;33m,\u001b[0m \u001b[0mv\u001b[0m\u001b[1;33m)\u001b[0m\u001b[1;33m)\u001b[0m \u001b[1;33m*\u001b[0m \u001b[0munits\u001b[0m\u001b[1;33m(\u001b[0m\u001b[0mv\u001b[0m\u001b[1;33m)\u001b[0m\u001b[1;33m\u001b[0m\u001b[0m\n\u001b[0m\u001b[0;32m   1151\u001b[0m \u001b[1;33m\u001b[0m\u001b[0m\n\u001b[0;32m   1152\u001b[0m \u001b[1;32mdef\u001b[0m \u001b[0mvector_mag2\u001b[0m\u001b[1;33m(\u001b[0m\u001b[0mv\u001b[0m\u001b[1;33m)\u001b[0m\u001b[1;33m:\u001b[0m\u001b[1;33m\u001b[0m\u001b[0m\n",
      "\u001b[1;31mKeyboardInterrupt\u001b[0m: "
     ]
    }
   ],
   "source": [
    "results, details = run_ode_solver(system, slope_func,events = [event_func,event_func1], method = \"LSODA\")\n",
    "details"
   ]
  },
  {
   "cell_type": "code",
   "execution_count": null,
   "metadata": {},
   "outputs": [],
   "source": []
  },
  {
   "cell_type": "code",
   "execution_count": null,
   "metadata": {},
   "outputs": [],
   "source": []
  },
  {
   "cell_type": "code",
   "execution_count": null,
   "metadata": {},
   "outputs": [],
   "source": []
  },
  {
   "cell_type": "code",
   "execution_count": null,
   "metadata": {
    "scrolled": false
   },
   "outputs": [],
   "source": [
    "def plot_position(results):\n",
    "    unpack(system)\n",
    "    count = 1\n",
    "    \n",
    " \n",
    "    subplot(2,1,1) # Plots x and y over time. Not terribly useful\n",
    "    for result in results:\n",
    "        result.index /= 60*60*24 #convert seconds to days\n",
    "\n",
    "        plot(result.x, label='x'+str(count))\n",
    "        plot(result.y, label = 'y'+ str(count))\n",
    "        count +=1\n",
    "    decorate(xlabel='Time (second)',\n",
    "             ylabel='Distance from earth (million m)')\n",
    "    \n",
    "    subplot(2,1,2) #Plots x against y creating \n",
    "    count = 1\n",
    "    fig = plt.gcf()\n",
    "    ax = fig.gca()\n",
    "    circle1 = plt.Circle((384472281, 0), 1736482, color='g',label = \"Moon Start\")\n",
    "    circle2 = plt.Circle((0, 0), 6371000, color='b', label = \"Earth\")\n",
    "    ax.add_artist(circle1)\n",
    "    ax.add_artist(circle2)\n",
    "    for result in results:\n",
    "        plot(result.x,result.y, label = 'Position'+str(count))\n",
    "        plot(result.mx,result.my, label = 'Moon Path' + str(count))\n",
    "        circle = plt.Circle((get_last_value(result.mx), get_last_value(result.my)), 1736482, color='r',label = \"Moon End\"+str(count))\n",
    "        ax.add_artist(circle)\n",
    "        count +=1\n",
    "\n",
    "    decorate(xlabel='x Distance from earth (m)',\n",
    "             ylabel='y Distance from earth (m)')\n",
    "plot_position([results])"
   ]
  },
  {
   "cell_type": "code",
   "execution_count": null,
   "metadata": {},
   "outputs": [],
   "source": [
    "params = Params(params, v = 500*m/s, theta = -30 * degree, t_end = 2100000*s)\n",
    "system = make_system(params)\n",
    "results1, details = run_ode_solver(system, slope_func, events = [event_func,event_func1], method = \"LSODA\")\n",
    "\n",
    "\n",
    "params = Params(params, v = 500*m/s, theta = 30 * degree, t_end = 2100000*s)\n",
    "system = make_system(params)\n",
    "ts = linspace(0,system.t_end, 500)\n",
    "results2, details = run_ode_solver(system, slope_func, events = [event_func,event_func1], method = \"LSODA\", t_eval = ts)\n",
    "plot_position([results1,results2])"
   ]
  },
  {
   "cell_type": "code",
   "execution_count": null,
   "metadata": {},
   "outputs": [],
   "source": [
    "def Distance_func(angle, params):  \n",
    "    \"\"\"Computes range for a given launch angle.\n",
    "    \n",
    "    angle: launch angle in degrees\n",
    "    params: Params object\n",
    "    \n",
    "    returns: distance in meters\n",
    "    \"\"\"\n",
    "\n",
    "    newTheta = params.theta + angle*degree\n",
    "    params = Params(params, theta = newTheta)\n",
    "    system = make_system(params)\n",
    "    ts = linspace(0, system.t_end, 100)\n",
    "    \n",
    "    results, details = run_ode_solver(system, slope_func, events = [event_func,event_func1], method = \"LSODA\", t_eval = ts)\n",
    "    minVal = math.sqrt(get_first_value(results.x)**2 + get_first_value(results.y)**2)\n",
    "    for i in results.index:\n",
    "        value = (math.sqrt(results.x[i]**2 +results.y[i]**2))\n",
    "        if (minVal > value):\n",
    "            minVal = value\n",
    "    return minVal"
   ]
  },
  {
   "cell_type": "code",
   "execution_count": null,
   "metadata": {},
   "outputs": [],
   "source": [
    "Distance_func(45,params)"
   ]
  },
  {
   "cell_type": "code",
   "execution_count": null,
   "metadata": {},
   "outputs": [],
   "source": [
    "res = min_bounded(Distance_func, [-180, 180], params)"
   ]
  },
  {
   "cell_type": "code",
   "execution_count": null,
   "metadata": {},
   "outputs": [],
   "source": [
    "res.x"
   ]
  },
  {
   "cell_type": "code",
   "execution_count": null,
   "metadata": {},
   "outputs": [],
   "source": [
    "params = Params(params, theta = params.theta + angle*degree)\n",
    "system = make_system(params)\n",
    "results7, details = run_ode_solver(system, slope_func, events=[event_func,event_func1], method = \"LSODA\")\n",
    "plot_position([results7])"
   ]
  },
  {
   "cell_type": "code",
   "execution_count": null,
   "metadata": {},
   "outputs": [],
   "source": [
    "def Velocity_func(velocity, params):  \n",
    "    \"\"\"Computes range for a given launch angle.\n",
    "    \n",
    "    angle: launch angle in degrees\n",
    "    params: Params object\n",
    "    \n",
    "    returns: distance in meters\n",
    "    \"\"\"\n",
    "\n",
    "    newV = params.v + velocity *m/s\n",
    "    params = Params(params, v = newV)\n",
    "    system = make_system(params)\n",
    "    ts = linspace(0, system.t_end, 100)\n",
    "    \n",
    "    results, details = run_ode_solver(system, slope_func, events = [event_func,event_func1], method = \"LSODA\", t_eval = ts)\n",
    "    minVal = math.sqrt(get_first_value(results.x)**2 + get_first_value(results.y)**2)\n",
    "    for i in results.index:\n",
    "        value = (math.sqrt(results.x[i]**2 +results.y[i]**2))\n",
    "        if (minVal > value):\n",
    "            minVal = value\n",
    "    return minVal"
   ]
  },
  {
   "cell_type": "code",
   "execution_count": null,
   "metadata": {},
   "outputs": [],
   "source": [
    "Velocity_func(400,params)"
   ]
  },
  {
   "cell_type": "code",
   "execution_count": null,
   "metadata": {},
   "outputs": [],
   "source": [
    "res = min_bounded(Distance_func, [-10000, 10000], params)"
   ]
  },
  {
   "cell_type": "code",
   "execution_count": null,
   "metadata": {},
   "outputs": [],
   "source": [
    "res.x"
   ]
  },
  {
   "cell_type": "code",
   "execution_count": null,
   "metadata": {},
   "outputs": [],
   "source": [
    "params = Params(params, velocity = params.v + res.x *m/s)\n",
    "print(params)\n",
    "system = make_system(params)\n",
    "results7, details = run_ode_solver(system, slope_func, events=[event_func,event_func1], method = \"LSODA\")\n",
    "plot_position([results7])"
   ]
  },
  {
   "cell_type": "markdown",
   "metadata": {},
   "source": [
    "Course Corrections"
   ]
  },
  {
   "cell_type": "code",
   "execution_count": null,
   "metadata": {},
   "outputs": [],
   "source": [
    "# Add Vector in direction in random direction in a range of velocties."
   ]
  },
  {
   "cell_type": "code",
   "execution_count": null,
   "metadata": {},
   "outputs": [],
   "source": [
    "def make_system2(mEarth, mMoon, mSatellite, G, r_0, v,theta, t_end):\n",
    "\n",
    "    rad = (theta/180) * pi\n",
    "    \n",
    "    init = State(x = 344970933 *m, \n",
    "                 y = 0*m ,\n",
    "                 vx = v* math.cos(rad) *m/s ,\n",
    "                 vy = v* math.sin(rad) *m/s ,\n",
    "                 xi = 344970933 *m, \n",
    "                 yi = 0*m ,\n",
    "                 vxi = v* math.cos(rad) *m/s ,\n",
    "                 vyi = v* math.sin(rad) *m/s ,\n",
    "                 mx = 384472281 *m, #distance from Earth to Moon\n",
    "                 my = 0*m,\n",
    "                 mvx = 0 *m/s,\n",
    "                 mvy = 1000 * m/s);\n",
    "\n",
    "    \n",
    "    t_0 = 0 *s\n",
    "    t_end = t_end *s\n",
    "    \n",
    "    \n",
    "    return System(init=init,\n",
    "                mEarth = mEarth,\n",
    "                mMoon = mMoon,\n",
    "                mSatellite = mSatellite,\n",
    "                G = G,\n",
    "                t_0 = t_0,\n",
    "                t_end=t_end)\n",
    "system = make_system2(Mass_Earth, Mass_Moon, Mass_Satellite, G, r_0, 100, 100, 1000)"
   ]
  },
  {
   "cell_type": "code",
   "execution_count": null,
   "metadata": {},
   "outputs": [],
   "source": [
    "def slope_func2(state, t, system):\n",
    "    \"\"\"Compute derivatives of the state.\n",
    "    \n",
    "    state: position, velocity\n",
    "    t: time\n",
    "    system: System object containing `g`\n",
    "    \n",
    "    returns: derivatives of y and v\n",
    "    \"\"\"\n",
    "    x, y, vx, vy, xi, yi, vxi, vyi, mx, my, mvx, mvy = state\n",
    "    unpack(system) \n",
    "    \n",
    "    forceSatellite = Earth_fgrav(state,system) + Moon_fgrav(state,system)\n",
    "    forceEarthMoon = Earth_fgravMoon(state,system)\n",
    "    forceSatellitei = Earth_fgrav_ideal(state,system) + Moon_fgrav_ideal(state,system)\n",
    "\n",
    "    if t == 0:\n",
    "        explosion =  forceOxygen_Explosion()\n",
    "        print(explosion)\n",
    "    else:\n",
    "        explosion = Vector(0,0) *m;\n",
    "    \n",
    "    dxdt = vx \n",
    "    dydt = vy\n",
    "    \n",
    "    dvxdt = (forceSatellite.x + explosion.x) / Mass_Satellite\n",
    "    dvydt = (forceSatellite.y + explosion.y) / Mass_Satellite\n",
    "    \n",
    "    dxidt = vxi \n",
    "    dyidt = vyi\n",
    "    \n",
    "    dvxidt = (forceSatellitei.x) / Mass_Satellite\n",
    "    dvyidt = (forceSatellitei.y) / Mass_Satellite\n",
    "    \n",
    "    dmxdt = mvx\n",
    "    dmydt = mvy\n",
    "    \n",
    "    dmvxdt = (forceEarthMoon.x) / Mass_Moon\n",
    "    dmvydt = (forceEarthMoon.y) / Mass_Moon\n",
    "    \n",
    "\n",
    "    print(dvxdt == dvxidt)\n",
    "    return dxdt, dydt, dvxdt, dvydt, dxidt, dyidt, dvxidt, dvyidt, dmxdt, dmydt, dmvxdt, dmvydt"
   ]
  },
  {
   "cell_type": "code",
   "execution_count": null,
   "metadata": {},
   "outputs": [],
   "source": [
    "def forceOxygen_Explosion():\n",
    "    direction = np.random.random()*360 * degree\n",
    "    acc = (np.random.random()*10000 + 10000) * m/s**2\n",
    "    force = Vector(acc*math.cos(direction),acc*math.sin(direction))*m\n",
    "    return force\n",
    "    \n",
    "print(forceOxygen_Explosion())"
   ]
  },
  {
   "cell_type": "code",
   "execution_count": null,
   "metadata": {},
   "outputs": [],
   "source": [
    "def event_func3(state, t, system): # Checks crash into Earth\n",
    "    unpack (system)\n",
    "    x,y,vx,vy, xi, yi, vxi, vyi,mx,my,mvx,mvy = state\n",
    "    position = Vector(0-x, 0-y) *m\n",
    "    return position.mag /m - 6371000*m\n",
    "event_func1(system.init, 0, system)"
   ]
  },
  {
   "cell_type": "code",
   "execution_count": null,
   "metadata": {},
   "outputs": [],
   "source": [
    "def event_func4(state, t, system): # Checks crash into Moon\n",
    "    unpack (system)\n",
    "    x,y,vx,vy, xi, yi, vxi, vyi,mx,my,mvx,mvy = state\n",
    "    position = Vector(mx-x, my-y) *m\n",
    "    return position.mag /m - 1737000*m\n",
    "event_func(system.init, 0, system)"
   ]
  },
  {
   "cell_type": "code",
   "execution_count": null,
   "metadata": {},
   "outputs": [],
   "source": [
    "def Earth_fgravMoon(state,system):\n",
    "    unpack (system)\n",
    "    x,y,vx,vy, xi, yi, vxi, vyi,mx,my,mvx,mvy = state\n",
    "    return fgrav(mx,my, 0, 0, Mass_Moon, Mass_Earth)\n",
    "Earth_fgravMoon(system.init, system)\n",
    "\n",
    "def Earth_fgrav(state,system):\n",
    "    unpack (system)\n",
    "    x,y,vx,vy, xi, yi, vxi, vyi,mx,my,mvx,mvy = state\n",
    "    return fgrav(x,y, 0, 0, Mass_Satellite, Mass_Earth)\n",
    "Earth_fgrav(system.init, system)\n",
    "\n",
    "def Moon_fgrav(state,system):\n",
    "    unpack (system)\n",
    "    x,y,vx,vy, xi, yi, vxi, vyi, mx,my,mvx,mvy = state\n",
    "    return fgrav(x,y, mx, my, Mass_Satellite, Mass_Moon)\n",
    "Moon_fgrav(system.init, system)"
   ]
  },
  {
   "cell_type": "code",
   "execution_count": null,
   "metadata": {},
   "outputs": [],
   "source": [
    "def Earth_fgrav_ideal(state,system):\n",
    "    unpack (system)\n",
    "    x,y,vx,vy, xi, yi, vxi, vyi,mx,my,mvx,mvy = state\n",
    "    return fgrav(xi,yi, 0, 0, Mass_Satellite, Mass_Earth)\n",
    "Earth_fgrav(system.init, system)\n",
    "\n",
    "def Moon_fgrav_ideal(state,system):\n",
    "    unpack (system)\n",
    "    x,y,vx,vy, xi, yi, vxi, vyi, mx,my,mvx,mvy = state\n",
    "    return fgrav(xi,yi, mx, my, Mass_Satellite, Mass_Moon)\n",
    "Moon_fgrav(system.init, system)"
   ]
  },
  {
   "cell_type": "code",
   "execution_count": null,
   "metadata": {},
   "outputs": [],
   "source": []
  },
  {
   "cell_type": "code",
   "execution_count": null,
   "metadata": {
    "scrolled": false
   },
   "outputs": [],
   "source": [
    "system = make_system2(Mass_Earth, Mass_Moon, Mass_Satellite, G, r_0, 500,30,2100000)\n",
    "results3, details = run_ode_solver(system, slope_func2, events = [event_func,event_func1], method = \"LSODA\")"
   ]
  },
  {
   "cell_type": "code",
   "execution_count": null,
   "metadata": {},
   "outputs": [],
   "source": [
    "def plot_position2(results):\n",
    "    unpack(system)\n",
    "    count = 1\n",
    "    \n",
    " \n",
    "    subplot(2,1,1) # Plots x and y over time. Not terribly useful\n",
    "    for result in results:\n",
    "        result.index /= 60*60*24 #convert seconds to days\n",
    "#         result.x /= 1e9\n",
    "#         result.y /= 1e9 #converts to millions of km\n",
    "#         result.mx /= 1e9\n",
    "#         result.my /= 1e9\n",
    "        plot(result.x, label='x'+str(count))\n",
    "        plot(result.y, label = 'y'+ str(count))\n",
    "        plot(result.xi, label='Ideal x'+str(count))\n",
    "        plot(result.yi, label = 'Ideal y'+ str(count))\n",
    "        count +=1\n",
    "    decorate(xlabel='Time (second)',\n",
    "             ylabel='Distance from earth (million m)')\n",
    "    \n",
    "    subplot(2,1,2) #Plots x against y creating \n",
    "    count = 1\n",
    "    fig = plt.gcf()\n",
    "    ax = fig.gca()\n",
    "    circle1 = plt.Circle((384472281, 0), 1736482, color='g',label = \"Moon Start\")\n",
    "    circle2 = plt.Circle((0, 0), 6371000, color='b', label = \"Earth\")\n",
    "    ax.add_artist(circle1)\n",
    "    ax.add_artist(circle2)\n",
    "    for result in results:\n",
    "        plot(result.x,result.y,\"r\", label = 'Position'+str(count),)\n",
    "        plot(result.xi,result.yi,\":r\", label = 'Ideal Position'+str(count))\n",
    "        #plot(result.mx,result.my, label = 'Moon Path' + str(count))\n",
    "        circle = plt.Circle((get_last_value(result.mx), get_last_value(result.my)), 1736482, color='r',label = \"Moon End\"+str(count))\n",
    "        ax.add_artist(circle)\n",
    "        count +=1\n",
    "\n",
    "    decorate(xlabel='x Distance from earth (m)',\n",
    "             ylabel='y Distance from earth (m)')\n",
    "plot_position2([results3])"
   ]
  },
  {
   "cell_type": "markdown",
   "metadata": {},
   "source": [
    "### Animation Stuffs"
   ]
  },
  {
   "cell_type": "code",
   "execution_count": null,
   "metadata": {},
   "outputs": [],
   "source": [
    "print(results2.mx[results2.index[10]])\n"
   ]
  },
  {
   "cell_type": "code",
   "execution_count": null,
   "metadata": {},
   "outputs": [],
   "source": []
  },
  {
   "cell_type": "code",
   "execution_count": null,
   "metadata": {},
   "outputs": [],
   "source": []
  },
  {
   "cell_type": "code",
   "execution_count": null,
   "metadata": {},
   "outputs": [],
   "source": [
    "def anim(results):\n",
    "\n",
    "    plt.rcParams[\"animation.html\"] = \"jshtml\"\n",
    "    t = results\n",
    "\n",
    "    fig, ax = plt.subplots();\n",
    "    ax.axis([-4e8, 4e8, -4e8, 4e8]);\n",
    "    circle1 = plt.Circle((384472281, 0), 1736482, color='g',label = \"Moon Start\")\n",
    "    circle2 = plt.Circle((0, 0), 6371000, color='b', label = \"Earth\")\n",
    "    ax.add_artist(circle1)\n",
    "    ax.add_artist(circle2)\n",
    "    l, = ax.plot([],[]);\n",
    "    l1, = ax.plot([],[]);\n",
    "    #l2, = ax.plot([],[]);\n",
    "\n",
    "    def animate(i):\n",
    "        l.set_data(results.mx[results.index[:i]], results.my[results.index[:i]]);\n",
    "        l1.set_data(results.x[results.index[:i]], results.y[results.index[:i]]);\n",
    "        #l2.set_data(results.xi[results.index[:i]], results.yi[results.index[:i]]);\n",
    "\n",
    "    ani = matplotlib.animation.FuncAnimation(fig, animate, frames=len(t.index));\n",
    "    print(len(t.index))\n",
    "    HTML(ani.to_jshtml())\n",
    "    return ani\n",
    "\n",
    "ani = anim(results2)"
   ]
  },
  {
   "cell_type": "code",
   "execution_count": null,
   "metadata": {},
   "outputs": [],
   "source": [
    "HTML(ani.to_jshtml())"
   ]
  },
  {
   "cell_type": "code",
   "execution_count": null,
   "metadata": {},
   "outputs": [],
   "source": []
  },
  {
   "cell_type": "code",
   "execution_count": null,
   "metadata": {},
   "outputs": [],
   "source": []
  },
  {
   "cell_type": "code",
   "execution_count": null,
   "metadata": {},
   "outputs": [],
   "source": []
  }
 ],
 "metadata": {
  "kernelspec": {
   "display_name": "Python 3",
   "language": "python",
   "name": "python3"
  }
 },
 "nbformat": 4,
 "nbformat_minor": 2
}
