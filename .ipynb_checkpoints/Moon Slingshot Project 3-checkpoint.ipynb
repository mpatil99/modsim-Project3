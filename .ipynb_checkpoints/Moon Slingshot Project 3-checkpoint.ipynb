{
 "cells": [
  {
   "cell_type": "markdown",
   "metadata": {},
   "source": [
    "## Modeling and Simulation in Python\n",
    "\n",
    "Project 3\n",
    "\n",
    "Jinfay Yuan and Manu Patil"
   ]
  },
  {
   "cell_type": "code",
   "execution_count": 84,
   "metadata": {},
   "outputs": [],
   "source": [
    "# Configure Jupyter so figures appear in the notebook\n",
    "%matplotlib inline\n",
    "\n",
    "# Configure Jupyter to display the assigned value after an assignment\n",
    "%config InteractiveShell.ast_node_interactivity='last_expr_or_assign'\n",
    "\n",
    "# import functions from the modsim.py module\n",
    "from modsim import *\n",
    "import math\n",
    "import matplotlib.pyplot as plt\n",
    "import numpy as np  "
   ]
  },
  {
   "cell_type": "code",
   "execution_count": 85,
   "metadata": {},
   "outputs": [
    {
     "data": {
      "text/html": [
       "degree"
      ],
      "text/latex": [
       "$degree$"
      ],
      "text/plain": [
       "<Unit('degree')>"
      ]
     },
     "execution_count": 85,
     "metadata": {},
     "output_type": "execute_result"
    }
   ],
   "source": [
    "N = UNITS.newton\n",
    "kg = UNITS.kilogram\n",
    "AU = UNITS.astronomical_unit\n",
    "day = UNITS.day\n",
    "m = UNITS.meter\n",
    "s = UNITS.second\n",
    "y = UNITS.year\n",
    "degree = UNITS.degree"
   ]
  },
  {
   "cell_type": "code",
   "execution_count": 86,
   "metadata": {},
   "outputs": [
    {
     "data": {
      "text/plain": [
       "344970933"
      ]
     },
     "execution_count": 86,
     "metadata": {},
     "output_type": "execute_result"
    }
   ],
   "source": [
    "Mass_Earth = 5.972e24 *kg\n",
    "Mass_Moon = 7.3476730e22 *kg\n",
    "Mass_Satellite = 100 *kg\n",
    "G = 6.674e-11* (N*m**2)/(kg**2)\n",
    "r_0 = 344970933  #distance from center of Earth to Lagrange point"
   ]
  },
  {
   "cell_type": "code",
   "execution_count": 134,
   "metadata": {},
   "outputs": [
    {
     "data": {
      "text/html": [
       "<div>\n",
       "<style scoped>\n",
       "    .dataframe tbody tr th:only-of-type {\n",
       "        vertical-align: middle;\n",
       "    }\n",
       "\n",
       "    .dataframe tbody tr th {\n",
       "        vertical-align: top;\n",
       "    }\n",
       "\n",
       "    .dataframe thead th {\n",
       "        text-align: right;\n",
       "    }\n",
       "</style>\n",
       "<table border=\"1\" class=\"dataframe\">\n",
       "  <thead>\n",
       "    <tr style=\"text-align: right;\">\n",
       "      <th></th>\n",
       "      <th>values</th>\n",
       "    </tr>\n",
       "  </thead>\n",
       "  <tbody>\n",
       "    <tr>\n",
       "      <th>init</th>\n",
       "      <td>x                        344970933 meter\n",
       "y    ...</td>\n",
       "    </tr>\n",
       "    <tr>\n",
       "      <th>mEarth</th>\n",
       "      <td>5.972e+24 kilogram</td>\n",
       "    </tr>\n",
       "    <tr>\n",
       "      <th>mMoon</th>\n",
       "      <td>7.347673e+22 kilogram</td>\n",
       "    </tr>\n",
       "    <tr>\n",
       "      <th>mSatellite</th>\n",
       "      <td>100 kilogram</td>\n",
       "    </tr>\n",
       "    <tr>\n",
       "      <th>G</th>\n",
       "      <td>6.674e-11 meter ** 2 * newton / kilogram ** 2</td>\n",
       "    </tr>\n",
       "    <tr>\n",
       "      <th>t_0</th>\n",
       "      <td>0 second</td>\n",
       "    </tr>\n",
       "    <tr>\n",
       "      <th>t_end</th>\n",
       "      <td>1000 second</td>\n",
       "    </tr>\n",
       "  </tbody>\n",
       "</table>\n",
       "</div>"
      ],
      "text/plain": [
       "init          x                        344970933 meter\n",
       "y    ...\n",
       "mEarth                                       5.972e+24 kilogram\n",
       "mMoon                                     7.347673e+22 kilogram\n",
       "mSatellite                                         100 kilogram\n",
       "G                 6.674e-11 meter ** 2 * newton / kilogram ** 2\n",
       "t_0                                                    0 second\n",
       "t_end                                               1000 second\n",
       "dtype: object"
      ]
     },
     "execution_count": 134,
     "metadata": {},
     "output_type": "execute_result"
    }
   ],
   "source": [
    "def make_system(mEarth, mMoon, mSatellite, G, r_0, v,theta, t_end):\n",
    "\n",
    "    rad = (theta/180) * pi\n",
    "    \n",
    "    init = State(x = 344970933 *m, \n",
    "                 y = 0*m ,\n",
    "                 vx = v* math.cos(rad) *m/s ,\n",
    "                 vy = v* math.sin(rad) *m/s ,\n",
    "                 mx = 384472281 *m, #distance from Earth to Moon\n",
    "                 my = 0*m,\n",
    "                 mvx = 0 *m/s,\n",
    "                 mvy = 1000 * m/s);\n",
    "\n",
    "    \n",
    "    t_0 = 0 *s\n",
    "    t_end = t_end *s\n",
    "    \n",
    "    \n",
    "    return System(init=init,\n",
    "                mEarth = mEarth,\n",
    "                mMoon = mMoon,\n",
    "                mSatellite = mSatellite,\n",
    "                G = G,\n",
    "                t_0 = t_0,\n",
    "                t_end=t_end)\n",
    "system = make_system(Mass_Earth, Mass_Moon, Mass_Satellite, G, r_0, 100, 100, 1000)"
   ]
  },
  {
   "cell_type": "code",
   "execution_count": 135,
   "metadata": {},
   "outputs": [],
   "source": [
    "def slope_func(state, t, system):\n",
    "    \"\"\"Compute derivatives of the state.\n",
    "    \n",
    "    state: position, velocity\n",
    "    t: time\n",
    "    system: System object containing `g`\n",
    "    \n",
    "    returns: derivatives of y and v\n",
    "    \"\"\"\n",
    "    x, y, vx, vy, mx, my, mvx, mvy = state\n",
    "    unpack(system) \n",
    "    \n",
    "    forceEarth = Earth_fgrav(state,system)\n",
    "    forceMoon = Moon_fgrav(state,system)\n",
    "    forceEarthMoon = Earth_fgravMoon(state,system)\n",
    "    \n",
    "    dxdt = vx \n",
    "    dydt = vy\n",
    "    \n",
    "    dvxdt = (forceEarth.x + forceMoon.x) / Mass_Satellite\n",
    "    dvydt = (forceEarth.y + forceMoon.y) / Mass_Satellite\n",
    "    \n",
    "    dmxdt = mvx\n",
    "    dmydt = mvy\n",
    "    \n",
    "    dmvxdt = (forceEarthMoon.x) / Mass_Moon\n",
    "    dmvydt = (forceEarthMoon.y) / Mass_Moon\n",
    "\n",
    "    \n",
    "    return dxdt, dydt, dvxdt, dvydt,dmxdt, dmydt, dmvxdt, dmvydt"
   ]
  },
  {
   "cell_type": "code",
   "execution_count": 136,
   "metadata": {},
   "outputs": [
    {
     "data": {
      "text/html": [
       "[-1.98118829e+20  0.00000000e+00] newton/meter<sup>2</sup>"
      ],
      "text/latex": [
       "$[-1.98118829e+20  0.00000000e+00] \\frac{newton}{meter^{2}}$"
      ],
      "text/plain": [
       "<Quantity([-1.98118829e+20  0.00000000e+00], 'newton / meter ** 2')>"
      ]
     },
     "execution_count": 136,
     "metadata": {},
     "output_type": "execute_result"
    }
   ],
   "source": [
    "def Earth_fgravMoon(state,system):\n",
    "    unpack (system)\n",
    "    x,y,vx,vy,mx,my,mvx,mvy = state\n",
    "    position = Vector(0-mx, 0-my) *m\n",
    "    force = G * Mass_Earth * Mass_Moon / (position.mag)**2\n",
    "    return  position.hat() * force\n",
    "Earth_fgravMoon(system.init, system)"
   ]
  },
  {
   "cell_type": "code",
   "execution_count": 137,
   "metadata": {},
   "outputs": [
    {
     "data": {
      "text/html": [
       "[-0.33491993  0.        ] newton/meter<sup>2</sup>"
      ],
      "text/latex": [
       "$[-0.33491993  0.        ] \\frac{newton}{meter^{2}}$"
      ],
      "text/plain": [
       "<Quantity([-0.33491993  0.        ], 'newton / meter ** 2')>"
      ]
     },
     "execution_count": 137,
     "metadata": {},
     "output_type": "execute_result"
    }
   ],
   "source": [
    "def Earth_fgrav(state,system):\n",
    "    unpack (system)\n",
    "    x,y,vx,vy,mx,my,mvx,mvy = state\n",
    "    position = Vector(0-x, 0-y) *m\n",
    "    force = G * Mass_Earth * Mass_Satellite / (position.mag)**2\n",
    "    return  position.hat() * force\n",
    "Earth_fgrav(system.init, system)"
   ]
  },
  {
   "cell_type": "code",
   "execution_count": 138,
   "metadata": {},
   "outputs": [
    {
     "data": {
      "text/html": [
       "[0.3142767 0.       ] newton/meter<sup>2</sup>"
      ],
      "text/latex": [
       "$[0.3142767 0.       ] \\frac{newton}{meter^{2}}$"
      ],
      "text/plain": [
       "<Quantity([0.3142767 0.       ], 'newton / meter ** 2')>"
      ]
     },
     "execution_count": 138,
     "metadata": {},
     "output_type": "execute_result"
    }
   ],
   "source": [
    "def Moon_fgrav(state,system):\n",
    "    unpack (system)\n",
    "    x,y,vx,vy,mx,my,mvx,mvy = state\n",
    "    rel_position = Vector(mx-x,my-y)* m #will change if moon moves\n",
    "    force = G * Mass_Moon * Mass_Satellite / (rel_position.mag)**2\n",
    "    return  rel_position.hat()*force\n",
    "Moon_fgrav(system.init, system)"
   ]
  },
  {
   "cell_type": "code",
   "execution_count": 139,
   "metadata": {},
   "outputs": [
    {
     "data": {
      "text/html": [
       "37764348.0 meter"
      ],
      "text/latex": [
       "$37764348.0 meter$"
      ],
      "text/plain": [
       "<Quantity(37764348.0, 'meter')>"
      ]
     },
     "execution_count": 139,
     "metadata": {},
     "output_type": "execute_result"
    }
   ],
   "source": [
    "def event_func(state, t, system):\n",
    "    unpack (system)\n",
    "    x,y,vx,vy,mx,my,mvx,mvy = state\n",
    "    position = Vector(mx-x, my-y) *m\n",
    "    return position.mag /m - 1737000*m\n",
    "event_func(system.init, 0, system)"
   ]
  },
  {
   "cell_type": "code",
   "execution_count": 140,
   "metadata": {},
   "outputs": [
    {
     "data": {
      "text/html": [
       "338599933.0 meter"
      ],
      "text/latex": [
       "$338599933.0 meter$"
      ],
      "text/plain": [
       "<Quantity(338599933.0, 'meter')>"
      ]
     },
     "execution_count": 140,
     "metadata": {},
     "output_type": "execute_result"
    }
   ],
   "source": [
    "def event_func1(state, t, system):\n",
    "    unpack (system)\n",
    "    x,y,vx,vy,mx,my,mvx,mvy = state\n",
    "    position = Vector(0-x, 0-y) *m\n",
    "    return position.mag /m - 6371000*m\n",
    "event_func1(system.init, 0, system)"
   ]
  },
  {
   "cell_type": "code",
   "execution_count": 92,
   "metadata": {},
   "outputs": [
    {
     "data": {
      "text/plain": [
       "(<Quantity(707.1067811865476, 'meter / second')>,\n",
       " <Quantity(707.1067811865476, 'meter / second')>,\n",
       " <Quantity(-0.00020643228302136274, 'newton / kilogram / meter ** 2')>,\n",
       " <Quantity(0.0, 'newton / kilogram / meter ** 2')>,\n",
       " 0,\n",
       " 0)"
      ]
     },
     "execution_count": 92,
     "metadata": {},
     "output_type": "execute_result"
    }
   ],
   "source": [
    "system = make_system(Mass_Earth, Mass_Moon, Mass_Satellite, G, r_0,1000,45,1e5)\n",
    "slope_func(system.init, 0, system)"
   ]
  },
  {
   "cell_type": "code",
   "execution_count": 93,
   "metadata": {},
   "outputs": [
    {
     "data": {
      "text/html": [
       "<div>\n",
       "<style scoped>\n",
       "    .dataframe tbody tr th:only-of-type {\n",
       "        vertical-align: middle;\n",
       "    }\n",
       "\n",
       "    .dataframe tbody tr th {\n",
       "        vertical-align: top;\n",
       "    }\n",
       "\n",
       "    .dataframe thead th {\n",
       "        text-align: right;\n",
       "    }\n",
       "</style>\n",
       "<table border=\"1\" class=\"dataframe\">\n",
       "  <thead>\n",
       "    <tr style=\"text-align: right;\">\n",
       "      <th></th>\n",
       "      <th>values</th>\n",
       "    </tr>\n",
       "  </thead>\n",
       "  <tbody>\n",
       "    <tr>\n",
       "      <th>sol</th>\n",
       "      <td>None</td>\n",
       "    </tr>\n",
       "    <tr>\n",
       "      <th>t_events</th>\n",
       "      <td>[]</td>\n",
       "    </tr>\n",
       "    <tr>\n",
       "      <th>nfev</th>\n",
       "      <td>23</td>\n",
       "    </tr>\n",
       "    <tr>\n",
       "      <th>njev</th>\n",
       "      <td>0</td>\n",
       "    </tr>\n",
       "    <tr>\n",
       "      <th>nlu</th>\n",
       "      <td>0</td>\n",
       "    </tr>\n",
       "    <tr>\n",
       "      <th>status</th>\n",
       "      <td>0</td>\n",
       "    </tr>\n",
       "    <tr>\n",
       "      <th>message</th>\n",
       "      <td>The solver successfully reached the end of the...</td>\n",
       "    </tr>\n",
       "    <tr>\n",
       "      <th>success</th>\n",
       "      <td>True</td>\n",
       "    </tr>\n",
       "  </tbody>\n",
       "</table>\n",
       "</div>"
      ],
      "text/plain": [
       "sol                                                      None\n",
       "t_events                                                   []\n",
       "nfev                                                       23\n",
       "njev                                                        0\n",
       "nlu                                                         0\n",
       "status                                                      0\n",
       "message     The solver successfully reached the end of the...\n",
       "success                                                  True\n",
       "dtype: object"
      ]
     },
     "execution_count": 93,
     "metadata": {},
     "output_type": "execute_result"
    }
   ],
   "source": [
    "system = make_system(Mass_Earth, Mass_Moon, Mass_Satellite, G, r_0, 1000,180,1e5)\n",
    "results, details = run_ode_solver(system, slope_func, method = \"RK23\")\n",
    "details"
   ]
  },
  {
   "cell_type": "code",
   "execution_count": 94,
   "metadata": {
    "scrolled": false
   },
   "outputs": [
    {
     "data": {
      "image/png": "[encoded data removed]",
      "text/plain": [
       "<Figure size 576x576 with 2 Axes>"
      ]
     },
     "metadata": {},
     "output_type": "display_data"
    }
   ],
   "source": [
    "def plot_position(results):\n",
    "    unpack(system)\n",
    "    subplot(2,1,1)\n",
    "    plot(results.x, label='x')\n",
    "    plot(results.y, label = 'y')\n",
    "    decorate(xlabel='Time (day)',\n",
    "             ylabel='Distance from earth (million m)')\n",
    "    subplot(2,1,2)\n",
    "   \n",
    "\n",
    "    plot(results.x,results.y, label = 'Position')\n",
    "    plot(init.mx,init.my, label ='Moon')\n",
    "    circle1 = plt.Circle((384472281, 0), 1736482, color='r')\n",
    "    fig = plt.gcf()\n",
    "    ax = fig.gca()\n",
    "    ax.add_artist(circle1)\n",
    "    decorate(xlabel='x Distance from earth (million m)',\n",
    "             ylabel='y Distance from earth (million m)')\n",
    "plot_position(results)"
   ]
  },
  {
   "cell_type": "code",
   "execution_count": 145,
   "metadata": {},
   "outputs": [],
   "source": [
    "def plot_position2(results1, results2):\n",
    "    \n",
    "    unpack(system)\n",
    "    subplot(2,1,1)\n",
    "    plot(results1.x, label='x1')\n",
    "    plot(results1.y, label = 'y1')\n",
    "    plot(results2.x, label='x2')\n",
    "    plot(results2.y, label = 'y2')\n",
    "    decorate(xlabel='Time (day)',\n",
    "             ylabel='Distance from earth (million m)')\n",
    "    subplot(2,1,2)\n",
    "    plot(results1.x,results1.y, label = 'Position1')\n",
    "    plot(results2.x,results2.y, label = 'Position2')\n",
    "    circle1 = plt.Circle((384472281, 0), 1736482, color='r')\n",
    "    fig = plt.gcf()\n",
    "    ax = fig.gca()\n",
    "    ax.add_artist(circle1)\n",
    "    circle3 = plt.Circle((get_last_value(results.mx), get_last_value(results.my)), 1736482, color='g')\n",
    "    fig = plt.gcf()\n",
    "    ax = fig.gca()\n",
    "    ax.add_artist(circle3)\n",
    "    circle2 = plt.Circle((0, 0), 6371000, color='b')\n",
    "    fig = plt.gcf()\n",
    "    ax = fig.gca()\n",
    "    ax.add_artist(circle2)\n",
    "    decorate(xlabel='x Distance from earth (million m)',\n",
    "             ylabel='y Distance from earth (million m)')\n"
   ]
  },
  {
   "cell_type": "code",
   "execution_count": 146,
   "metadata": {},
   "outputs": [
    {
     "data": {
      "image/png": "[encoded data removed]",
      "text/plain": [
       "<Figure size 576x576 with 2 Axes>"
      ]
     },
     "metadata": {},
     "output_type": "display_data"
    }
   ],
   "source": [
    "system = make_system(Mass_Earth, Mass_Moon, Mass_Satellite, G, r_0, 500,-30,500000)\n",
    "results1, details = run_ode_solver(system, slope_func, events = [event_func,event_func1], method = \"LSODA\")\n",
    "\n",
    "system = make_system(Mass_Earth, Mass_Moon, Mass_Satellite, G, r_0, 500,30,500000)\n",
    "results2, details = run_ode_solver(system, slope_func, events = [event_func,event_func1], method = \"LSODA\")\n",
    "plot_position2(results1,results2)"
   ]
  },
  {
   "cell_type": "code",
   "execution_count": null,
   "metadata": {},
   "outputs": [],
   "source": [
    "math.cos(30)"
   ]
  },
  {
   "cell_type": "code",
   "execution_count": null,
   "metadata": {},
   "outputs": [],
   "source": []
  },
  {
   "cell_type": "code",
   "execution_count": null,
   "metadata": {},
   "outputs": [],
   "source": []
  },
  {
   "cell_type": "code",
   "execution_count": null,
   "metadata": {},
   "outputs": [],
   "source": []
  },
  {
   "cell_type": "code",
   "execution_count": null,
   "metadata": {},
   "outputs": [],
   "source": []
  }
 ],
 "metadata": {
  "kernelspec": {
   "display_name": "Python 3",
   "language": "python",
   "name": "python3"
  },
  "language_info": {
   "codemirror_mode": {
    "name": "ipython",
    "version": 3
   },
   "file_extension": ".py",
   "mimetype": "text/x-python",
   "name": "python",
   "nbconvert_exporter": "python",
   "pygments_lexer": "ipython3",
   "version": "3.6.6"
  }
 },
 "nbformat": 4,
 "nbformat_minor": 2
}
