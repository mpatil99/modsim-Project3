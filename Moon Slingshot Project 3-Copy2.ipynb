{
 "cells": [
  {
   "cell_type": "markdown",
   "metadata": {},
   "source": [
    "## Modeling and Simulation in Python\n",
    "\n",
    "Project 3\n",
    "\n",
    "Jinfay Yuan and Manu Patil"
   ]
  },
  {
   "cell_type": "code",
   "execution_count": 22,
   "metadata": {},
   "outputs": [],
   "source": [
    "# Configure Jupyter so figures appear in the notebook\n",
    "%matplotlib inline\n",
    "\n",
    "# Configure Jupyter to display the assigned value after an assignment\n",
    "%config InteractiveShell.ast_node_interactivity='last_expr_or_assign'\n",
    "\n",
    "# import functions from the modsim.py module\n",
    "from modsim import *\n",
    "import math\n",
    "import matplotlib.pyplot as plt\n",
    "\n",
    "from IPython.display import HTML\n",
    "\n",
    "import array as arr\n",
    "import matplotlib.pyplot as plt\n",
    "import matplotlib.animation\n",
    "np.random.seed(7)"
   ]
  },
  {
   "cell_type": "code",
   "execution_count": 23,
   "metadata": {},
   "outputs": [
    {
     "data": {
      "text/html": [
       "degree"
      ],
      "text/latex": [
       "$degree$"
      ],
      "text/plain": [
       "<Unit('degree')>"
      ]
     },
     "execution_count": 23,
     "metadata": {},
     "output_type": "execute_result"
    }
   ],
   "source": [
    "N = UNITS.newton\n",
    "kg = UNITS.kilogram\n",
    "AU = UNITS.astronomical_unit\n",
    "day = UNITS.day\n",
    "m = UNITS.meter\n",
    "s = UNITS.second\n",
    "y = UNITS.year\n",
    "degree = UNITS.degree"
   ]
  },
  {
   "cell_type": "code",
   "execution_count": 24,
   "metadata": {},
   "outputs": [
    {
     "data": {
      "text/html": [
       "<div>\n",
       "<style scoped>\n",
       "    .dataframe tbody tr th:only-of-type {\n",
       "        vertical-align: middle;\n",
       "    }\n",
       "\n",
       "    .dataframe tbody tr th {\n",
       "        vertical-align: top;\n",
       "    }\n",
       "\n",
       "    .dataframe thead th {\n",
       "        text-align: right;\n",
       "    }\n",
       "</style>\n",
       "<table border=\"1\" class=\"dataframe\">\n",
       "  <thead>\n",
       "    <tr style=\"text-align: right;\">\n",
       "      <th></th>\n",
       "      <th>values</th>\n",
       "    </tr>\n",
       "  </thead>\n",
       "  <tbody>\n",
       "    <tr>\n",
       "      <th>Mass_Earth</th>\n",
       "      <td>5.972e+24 kilogram</td>\n",
       "    </tr>\n",
       "    <tr>\n",
       "      <th>Mass_Moon</th>\n",
       "      <td>7.347673e+22 kilogram</td>\n",
       "    </tr>\n",
       "    <tr>\n",
       "      <th>Mass_Satellite</th>\n",
       "      <td>100 kilogram</td>\n",
       "    </tr>\n",
       "    <tr>\n",
       "      <th>G</th>\n",
       "      <td>6.674e-11 meter ** 2 * newton / kilogram ** 2</td>\n",
       "    </tr>\n",
       "    <tr>\n",
       "      <th>r_0</th>\n",
       "      <td>3449709330</td>\n",
       "    </tr>\n",
       "    <tr>\n",
       "      <th>t_0</th>\n",
       "      <td>0 second</td>\n",
       "    </tr>\n",
       "    <tr>\n",
       "      <th>t_end</th>\n",
       "      <td>2000000.0 second</td>\n",
       "    </tr>\n",
       "    <tr>\n",
       "      <th>v</th>\n",
       "      <td>10000.0 meter / second</td>\n",
       "    </tr>\n",
       "    <tr>\n",
       "      <th>theta</th>\n",
       "      <td>30 degree</td>\n",
       "    </tr>\n",
       "  </tbody>\n",
       "</table>\n",
       "</div>"
      ],
      "text/plain": [
       "Mass_Earth                                   5.972e+24 kilogram\n",
       "Mass_Moon                                 7.347673e+22 kilogram\n",
       "Mass_Satellite                                     100 kilogram\n",
       "G                 6.674e-11 meter ** 2 * newton / kilogram ** 2\n",
       "r_0                                                  3449709330\n",
       "t_0                                                    0 second\n",
       "t_end                                          2000000.0 second\n",
       "v                                        10000.0 meter / second\n",
       "theta                                                 30 degree\n",
       "dtype: object"
      ]
     },
     "execution_count": 24,
     "metadata": {},
     "output_type": "execute_result"
    }
   ],
   "source": [
    "params = Params(Mass_Earth = 5.972e24 *kg,\n",
    "                Mass_Moon = 7.3476730e22 *kg, \n",
    "                Mass_Satellite = 100 *kg,\n",
    "                G = 6.674e-11* (N*m**2)/(kg**2),\n",
    "                r_0 = 3449709330,#distance from center of Earth to Lagrange point\n",
    "                t_0 = 0*s,\n",
    "                t_end =2e6*s,\n",
    "                v=10000*m/s,\n",
    "                theta=30*degree)"
   ]
  },
  {
   "cell_type": "code",
   "execution_count": 25,
   "metadata": {},
   "outputs": [
    {
     "data": {
      "text/html": [
       "<div>\n",
       "<style scoped>\n",
       "    .dataframe tbody tr th:only-of-type {\n",
       "        vertical-align: middle;\n",
       "    }\n",
       "\n",
       "    .dataframe tbody tr th {\n",
       "        vertical-align: top;\n",
       "    }\n",
       "\n",
       "    .dataframe thead th {\n",
       "        text-align: right;\n",
       "    }\n",
       "</style>\n",
       "<table border=\"1\" class=\"dataframe\">\n",
       "  <thead>\n",
       "    <tr style=\"text-align: right;\">\n",
       "      <th></th>\n",
       "      <th>values</th>\n",
       "    </tr>\n",
       "  </thead>\n",
       "  <tbody>\n",
       "    <tr>\n",
       "      <th>Mass_Earth</th>\n",
       "      <td>5.972e+24 kilogram</td>\n",
       "    </tr>\n",
       "    <tr>\n",
       "      <th>Mass_Moon</th>\n",
       "      <td>7.347673e+22 kilogram</td>\n",
       "    </tr>\n",
       "    <tr>\n",
       "      <th>Mass_Satellite</th>\n",
       "      <td>100 kilogram</td>\n",
       "    </tr>\n",
       "    <tr>\n",
       "      <th>G</th>\n",
       "      <td>6.674e-11 meter ** 2 * newton / kilogram ** 2</td>\n",
       "    </tr>\n",
       "    <tr>\n",
       "      <th>r_0</th>\n",
       "      <td>3449709330</td>\n",
       "    </tr>\n",
       "    <tr>\n",
       "      <th>t_0</th>\n",
       "      <td>0 second</td>\n",
       "    </tr>\n",
       "    <tr>\n",
       "      <th>t_end</th>\n",
       "      <td>2000000.0 second</td>\n",
       "    </tr>\n",
       "    <tr>\n",
       "      <th>v</th>\n",
       "      <td>10000.0 meter / second</td>\n",
       "    </tr>\n",
       "    <tr>\n",
       "      <th>theta</th>\n",
       "      <td>30 degree</td>\n",
       "    </tr>\n",
       "    <tr>\n",
       "      <th>init</th>\n",
       "      <td>x                                 344970933 me...</td>\n",
       "    </tr>\n",
       "  </tbody>\n",
       "</table>\n",
       "</div>"
      ],
      "text/plain": [
       "Mass_Earth                                       5.972e+24 kilogram\n",
       "Mass_Moon                                     7.347673e+22 kilogram\n",
       "Mass_Satellite                                         100 kilogram\n",
       "G                     6.674e-11 meter ** 2 * newton / kilogram ** 2\n",
       "r_0                                                      3449709330\n",
       "t_0                                                        0 second\n",
       "t_end                                              2000000.0 second\n",
       "v                                            10000.0 meter / second\n",
       "theta                                                     30 degree\n",
       "init              x                                 344970933 me...\n",
       "dtype: object"
      ]
     },
     "execution_count": 25,
     "metadata": {},
     "output_type": "execute_result"
    }
   ],
   "source": [
    "def make_system(params):\n",
    "    unpack(params)\n",
    "\n",
    "\n",
    "    init = State(x = 344970933 *m, \n",
    "                 y = 0*m ,\n",
    "                 vx = v* math.cos(theta) *m/s ,\n",
    "                 vy = v* math.sin(theta) *m/s ,\n",
    "                 mx = 384472281 *m, #distance from Earth to Moon\n",
    "                 my = 0*m,\n",
    "                 mvx = 0 *m/s,\n",
    "                 mvy = 1000 * m/s);\n",
    "\n",
    "    return System(params,init=init)\n",
    "system = make_system(params)"
   ]
  },
  {
   "cell_type": "code",
   "execution_count": 26,
   "metadata": {},
   "outputs": [],
   "source": [
    "def slope_func(state, t, system):\n",
    "    \"\"\"Compute derivatives of the state.\n",
    "    \n",
    "    state: position, velocity\n",
    "    t: time\n",
    "    system: System object containing `g`\n",
    "    \n",
    "    returns: derivatives of y and v\n",
    "    \"\"\"\n",
    "    x, y, vx, vy, mx, my, mvx, mvy = state\n",
    "    unpack(system) \n",
    "    \n",
    "    forceSatellite = Earth_fgrav(state,system) + Moon_fgrav(state,system)\n",
    "    forceEarthMoon = Earth_fgravMoon(state,system)\n",
    "    \n",
    "    dxdt = vx \n",
    "    dydt = vy\n",
    "    \n",
    "    dvxdt = (forceSatellite.x) / Mass_Satellite\n",
    "    dvydt = (forceSatellite.y) / Mass_Satellite\n",
    "    \n",
    "    dmxdt = mvx\n",
    "    dmydt = mvy\n",
    "    \n",
    "    dmvxdt = (forceEarthMoon.x) / Mass_Moon\n",
    "    dmvydt = (forceEarthMoon.y) / Mass_Moon\n",
    "    \n",
    "\n",
    "    \n",
    "    return dxdt, dydt, dvxdt, dvydt,dmxdt, dmydt, dmvxdt, dmvydt"
   ]
  },
  {
   "cell_type": "code",
   "execution_count": 27,
   "metadata": {},
   "outputs": [],
   "source": [
    "def fgrav(obj1_x, obj1_y, obj2_x, obj2_y, Mass_1, Mass_2):\n",
    "    position = Vector(obj2_x-obj1_x, obj2_y-obj1_y) *m\n",
    "    force = G * Mass_2 * Mass_1 / (position.mag)**2\n",
    "    return  position.hat() * force"
   ]
  },
  {
   "cell_type": "code",
   "execution_count": 28,
   "metadata": {},
   "outputs": [
    {
     "data": {
      "text/html": [
       "[-1.98118829e+20  0.00000000e+00] newton/meter<sup>2</sup>"
      ],
      "text/latex": [
       "$[-1.98118829e+20  0.00000000e+00] \\frac{newton}{meter^{2}}$"
      ],
      "text/plain": [
       "<Quantity([-1.98118829e+20  0.00000000e+00], 'newton / meter ** 2')>"
      ]
     },
     "execution_count": 28,
     "metadata": {},
     "output_type": "execute_result"
    }
   ],
   "source": [
    "def Earth_fgravMoon(state,system):\n",
    "    unpack (system)\n",
    "    x,y,vx,vy,mx,my,mvx,mvy = state\n",
    "    return fgrav(mx,my, 0, 0, Mass_Moon, Mass_Earth)\n",
    "Earth_fgravMoon(system.init, system)"
   ]
  },
  {
   "cell_type": "code",
   "execution_count": 29,
   "metadata": {},
   "outputs": [
    {
     "data": {
      "text/html": [
       "[-0.33491993  0.        ] newton/meter<sup>2</sup>"
      ],
      "text/latex": [
       "$[-0.33491993  0.        ] \\frac{newton}{meter^{2}}$"
      ],
      "text/plain": [
       "<Quantity([-0.33491993  0.        ], 'newton / meter ** 2')>"
      ]
     },
     "execution_count": 29,
     "metadata": {},
     "output_type": "execute_result"
    }
   ],
   "source": [
    "def Earth_fgrav(state,system):\n",
    "    unpack (system)\n",
    "    x,y,vx,vy,mx,my,mvx,mvy = state\n",
    "    return fgrav(x,y, 0, 0, Mass_Satellite, Mass_Earth)\n",
    "Earth_fgrav(system.init, system)"
   ]
  },
  {
   "cell_type": "code",
   "execution_count": 30,
   "metadata": {},
   "outputs": [
    {
     "data": {
      "text/html": [
       "[0.3142767 0.       ] newton/meter<sup>2</sup>"
      ],
      "text/latex": [
       "$[0.3142767 0.       ] \\frac{newton}{meter^{2}}$"
      ],
      "text/plain": [
       "<Quantity([0.3142767 0.       ], 'newton / meter ** 2')>"
      ]
     },
     "execution_count": 30,
     "metadata": {},
     "output_type": "execute_result"
    }
   ],
   "source": [
    "def Moon_fgrav(state,system):\n",
    "    unpack (system)\n",
    "    x,y,vx,vy,mx,my,mvx,mvy = state\n",
    "    return fgrav(x,y, mx, my, Mass_Satellite, Mass_Moon)\n",
    "Moon_fgrav(system.init, system)"
   ]
  },
  {
   "cell_type": "code",
   "execution_count": 31,
   "metadata": {},
   "outputs": [
    {
     "data": {
      "text/html": [
       "37764348.0 meter"
      ],
      "text/latex": [
       "$37764348.0 meter$"
      ],
      "text/plain": [
       "<Quantity(37764348.0, 'meter')>"
      ]
     },
     "execution_count": 31,
     "metadata": {},
     "output_type": "execute_result"
    }
   ],
   "source": [
    "def event_func(state, t, system): # Checks crash into Moon\n",
    "    unpack (system)\n",
    "    x,y,vx,vy,mx,my,mvx,mvy = state\n",
    "    position = Vector(mx-x, my-y) *m\n",
    "    return position.mag /m - 1737000*m\n",
    "event_func(system.init, 0, system)"
   ]
  },
  {
   "cell_type": "code",
   "execution_count": 32,
   "metadata": {},
   "outputs": [
    {
     "data": {
      "text/html": [
       "338599933.0 meter"
      ],
      "text/latex": [
       "$338599933.0 meter$"
      ],
      "text/plain": [
       "<Quantity(338599933.0, 'meter')>"
      ]
     },
     "execution_count": 32,
     "metadata": {},
     "output_type": "execute_result"
    }
   ],
   "source": [
    "def event_func1(state, t, system): # Checks crash into Earth\n",
    "    unpack (system)\n",
    "    x,y,vx,vy,mx,my,mvx,mvy = state\n",
    "    position = Vector(0-x, 0-y) *m\n",
    "    return position.mag /m - 6371000*m\n",
    "event_func1(system.init, 0, system)"
   ]
  },
  {
   "cell_type": "code",
   "execution_count": 33,
   "metadata": {},
   "outputs": [
    {
     "name": "stdout",
     "output_type": "stream",
     "text": [
      "Mass_Earth                                   5.972e+24 kilogram\n",
      "Mass_Moon                                 7.347673e+22 kilogram\n",
      "Mass_Satellite                                     100 kilogram\n",
      "G                 6.674e-11 meter ** 2 * newton / kilogram ** 2\n",
      "r_0                                                  3449709330\n",
      "t_0                                                    0 second\n",
      "t_end                                          2000000.0 second\n",
      "v                                          500.0 meter / second\n",
      "theta                                                 30 degree\n",
      "dtype: object\n"
     ]
    },
    {
     "data": {
      "text/plain": [
       "(<Quantity(433.01270189221935, 'meter ** 2 / second ** 2')>,\n",
       " <Quantity(249.99999999999997, 'meter ** 2 / second ** 2')>,\n",
       " <Quantity(-0.00020643228302136274, 'newton / kilogram / meter ** 2')>,\n",
       " <Quantity(0.0, 'newton / kilogram / meter ** 2')>,\n",
       " <Quantity(0.0, 'meter / second')>,\n",
       " <Quantity(1000.0, 'meter / second')>,\n",
       " <Quantity(-0.002696347936647311, 'newton / kilogram / meter ** 2')>,\n",
       " <Quantity(0.0, 'newton / kilogram / meter ** 2')>)"
      ]
     },
     "execution_count": 33,
     "metadata": {},
     "output_type": "execute_result"
    }
   ],
   "source": [
    "params1 = Params(params, v = 500*m/s)\n",
    "print(params1)\n",
    "system = make_system(params1)\n",
    "slope_func(system.init, 0, system)"
   ]
  },
  {
   "cell_type": "code",
   "execution_count": 34,
   "metadata": {
    "scrolled": true
   },
   "outputs": [
    {
     "data": {
      "text/html": [
       "<div>\n",
       "<style scoped>\n",
       "    .dataframe tbody tr th:only-of-type {\n",
       "        vertical-align: middle;\n",
       "    }\n",
       "\n",
       "    .dataframe tbody tr th {\n",
       "        vertical-align: top;\n",
       "    }\n",
       "\n",
       "    .dataframe thead th {\n",
       "        text-align: right;\n",
       "    }\n",
       "</style>\n",
       "<table border=\"1\" class=\"dataframe\">\n",
       "  <thead>\n",
       "    <tr style=\"text-align: right;\">\n",
       "      <th></th>\n",
       "      <th>values</th>\n",
       "    </tr>\n",
       "  </thead>\n",
       "  <tbody>\n",
       "    <tr>\n",
       "      <th>sol</th>\n",
       "      <td>None</td>\n",
       "    </tr>\n",
       "    <tr>\n",
       "      <th>t_events</th>\n",
       "      <td>[[], []]</td>\n",
       "    </tr>\n",
       "    <tr>\n",
       "      <th>nfev</th>\n",
       "      <td>459</td>\n",
       "    </tr>\n",
       "    <tr>\n",
       "      <th>njev</th>\n",
       "      <td>7</td>\n",
       "    </tr>\n",
       "    <tr>\n",
       "      <th>nlu</th>\n",
       "      <td>7</td>\n",
       "    </tr>\n",
       "    <tr>\n",
       "      <th>status</th>\n",
       "      <td>0</td>\n",
       "    </tr>\n",
       "    <tr>\n",
       "      <th>message</th>\n",
       "      <td>The solver successfully reached the end of the...</td>\n",
       "    </tr>\n",
       "    <tr>\n",
       "      <th>success</th>\n",
       "      <td>True</td>\n",
       "    </tr>\n",
       "  </tbody>\n",
       "</table>\n",
       "</div>"
      ],
      "text/plain": [
       "sol                                                      None\n",
       "t_events                                             [[], []]\n",
       "nfev                                                      459\n",
       "njev                                                        7\n",
       "nlu                                                         7\n",
       "status                                                      0\n",
       "message     The solver successfully reached the end of the...\n",
       "success                                                  True\n",
       "dtype: object"
      ]
     },
     "execution_count": 34,
     "metadata": {},
     "output_type": "execute_result"
    }
   ],
   "source": [
    "results1, details = run_ode_solver(system, slope_func,events = [event_func,event_func1], method = \"LSODA\")\n",
    "details"
   ]
  },
  {
   "cell_type": "code",
   "execution_count": 35,
   "metadata": {
    "scrolled": false
   },
   "outputs": [
    {
     "data": {
      "image/png": "[encoded data removed]",
      "text/plain": [
       "<Figure size 576x576 with 2 Axes>"
      ]
     },
     "metadata": {},
     "output_type": "display_data"
    }
   ],
   "source": [
    "def plot_position(results):\n",
    "    unpack(system)\n",
    "    count = 1\n",
    "    \n",
    " \n",
    "    subplot(2,1,1) # Plots x and y over time. Not terribly useful\n",
    "    for result in results:\n",
    "        result.index /= 60*60*24 #convert seconds to days\n",
    "\n",
    "        plot(result.x, label='x'+str(count))\n",
    "        plot(result.y, label = 'y'+ str(count))\n",
    "        count +=1\n",
    "    #decorate(xlabel='Time (days)',ylabel='Distance from earth (million m)')\n",
    "    \n",
    "    subplot(2,1,2) #Plots x against y creating \n",
    "    count = 1\n",
    "    fig = plt.gcf()\n",
    "    ax = fig.gca()\n",
    "    circle1 = plt.Circle((384472281, 0), 1736482, color='g',label = \"Moon Start\")\n",
    "    circle2 = plt.Circle((0, 0), 6371000, color='b', label = \"Earth\")\n",
    "    ax.add_artist(circle1)\n",
    "    ax.add_artist(circle2)\n",
    "    for result in results:\n",
    "        plot(result.x,result.y, label = 'Position'+str(count))\n",
    "        plot(result.mx,result.my, label = 'Moon Path' + str(count))\n",
    "        circle = plt.Circle((get_last_value(result.mx), get_last_value(result.my)), 1736482, color='r',label = \"Moon End\"+str(count))\n",
    "        ax.add_artist(circle)\n",
    "        count +=1\n",
    "\n",
    "    #decorate(xlabel='x Distance from earth (m)',ylabel='y Distance from earth (m)')\n",
    "plot_position([results1])"
   ]
  },
  {
   "cell_type": "code",
   "execution_count": null,
   "metadata": {},
   "outputs": [],
   "source": [
    "angles = [-10,-20,10,20,30,40,50,60]\n",
    "sweep = SweepSeries()\n",
    "for angle in angles:\n",
    "    params = Params(params, v = 500*m/s, theta = -30 * degree, t_end = 2100000*s)\n",
    "    system = make_system(params)\n",
    "    result, details = run_ode_solver(system, slope_func, events = [event_func,event_func1], method = \"LSODA\")\n",
    "    plot(result.x,result.y)\n",
    "\n"
   ]
  },
  {
   "cell_type": "code",
   "execution_count": 37,
   "metadata": {},
   "outputs": [],
   "source": [
    "def Distance_func(angle, params):  \n",
    "    \"\"\"Computes range for a given launch angle.\n",
    "    \n",
    "    angle: launch angle in degrees\n",
    "    params: Params object\n",
    "    \n",
    "    returns: distance in meters\n",
    "    \"\"\"\n",
    "\n",
    "    newTheta = params.theta + angle*degree\n",
    "    params = Params(params, theta = newTheta)\n",
    "    system = make_system(params)\n",
    "    ts = linspace(0, system.t_end, 100)\n",
    "    \n",
    "    results, details = run_ode_solver(system, slope_func, events = [event_func,event_func1], method = \"LSODA\", t_eval = ts)\n",
    "    minVal = math.sqrt(get_first_value(results.x)**2 + get_first_value(results.y)**2)\n",
    "    for i in results.index:\n",
    "        value = (math.sqrt(results.x[i]**2 +results.y[i]**2))\n",
    "        if (minVal > value):\n",
    "            minVal = value\n",
    "    return minVal"
   ]
  },
  {
   "cell_type": "code",
   "execution_count": 38,
   "metadata": {},
   "outputs": [
    {
     "data": {
      "text/plain": [
       "29812589.859663624"
      ]
     },
     "execution_count": 38,
     "metadata": {},
     "output_type": "execute_result"
    }
   ],
   "source": [
    "Distance_func(45,params)"
   ]
  },
  {
   "cell_type": "code",
   "execution_count": 39,
   "metadata": {},
   "outputs": [
    {
     "data": {
      "text/html": [
       "<div>\n",
       "<style scoped>\n",
       "    .dataframe tbody tr th:only-of-type {\n",
       "        vertical-align: middle;\n",
       "    }\n",
       "\n",
       "    .dataframe tbody tr th {\n",
       "        vertical-align: top;\n",
       "    }\n",
       "\n",
       "    .dataframe thead th {\n",
       "        text-align: right;\n",
       "    }\n",
       "</style>\n",
       "<table border=\"1\" class=\"dataframe\">\n",
       "  <thead>\n",
       "    <tr style=\"text-align: right;\">\n",
       "      <th></th>\n",
       "      <th>values</th>\n",
       "    </tr>\n",
       "  </thead>\n",
       "  <tbody>\n",
       "    <tr>\n",
       "      <th>fun</th>\n",
       "      <td>1.44084e+07</td>\n",
       "    </tr>\n",
       "    <tr>\n",
       "      <th>status</th>\n",
       "      <td>0</td>\n",
       "    </tr>\n",
       "    <tr>\n",
       "      <th>success</th>\n",
       "      <td>True</td>\n",
       "    </tr>\n",
       "    <tr>\n",
       "      <th>message</th>\n",
       "      <td>Solution found.</td>\n",
       "    </tr>\n",
       "    <tr>\n",
       "      <th>x</th>\n",
       "      <td>37.9755</td>\n",
       "    </tr>\n",
       "    <tr>\n",
       "      <th>nfev</th>\n",
       "      <td>25</td>\n",
       "    </tr>\n",
       "  </tbody>\n",
       "</table>\n",
       "</div>"
      ],
      "text/plain": [
       "fun            1.44084e+07\n",
       "status                   0\n",
       "success               True\n",
       "message    Solution found.\n",
       "x                  37.9755\n",
       "nfev                    25\n",
       "dtype: object"
      ]
     },
     "execution_count": 39,
     "metadata": {},
     "output_type": "execute_result"
    }
   ],
   "source": [
    "res = min_bounded(Distance_func, [0, 80], params)"
   ]
  },
  {
   "cell_type": "code",
   "execution_count": 40,
   "metadata": {},
   "outputs": [
    {
     "data": {
      "text/plain": [
       "37.97548103463952"
      ]
     },
     "execution_count": 40,
     "metadata": {},
     "output_type": "execute_result"
    }
   ],
   "source": [
    "res.x"
   ]
  },
  {
   "cell_type": "code",
   "execution_count": 41,
   "metadata": {},
   "outputs": [
    {
     "name": "stdout",
     "output_type": "stream",
     "text": [
      "45.95096206927904 degree\n",
      "500.0 meter / second\n"
     ]
    },
    {
     "data": {
      "image/png": "[encoded data removed]",
      "text/plain": [
       "<Figure size 576x576 with 2 Axes>"
      ]
     },
     "metadata": {},
     "output_type": "display_data"
    }
   ],
   "source": [
    "params = Params(params, theta = (params.theta + res.x*degree))\n",
    "print(params.theta + res.x*degree)\n",
    "print(v)\n",
    "system = make_system(params)\n",
    "results4, details = run_ode_solver(system, slope_func, events=[event_func,event_func1], method = \"LSODA\")\n",
    "plot_position([results4])"
   ]
  },
  {
   "cell_type": "code",
   "execution_count": 42,
   "metadata": {},
   "outputs": [],
   "source": [
    "def Velocity_func(velocity, params):  \n",
    "    \"\"\"Computes range for a given launch angle.\n",
    "    \n",
    "    angle: launch angle in degrees\n",
    "    params: Params object\n",
    "    \n",
    "    returns: distance in meters\n",
    "    \"\"\"\n",
    "\n",
    "    newV = params.v + velocity *m/s\n",
    "    params = Params(params, v = newV)\n",
    "    system = make_system(params)\n",
    "    ts = linspace(0, system.t_end, 100)\n",
    "    \n",
    "    results, details = run_ode_solver(system, slope_func, events = [event_func,event_func1], method = \"LSODA\", t_eval = ts)\n",
    "    minVal = math.sqrt(get_first_value(results.x)**2 + get_first_value(results.y)**2)\n",
    "    for i in results.index:\n",
    "        value = (math.sqrt(results.x[i]**2 +results.y[i]**2))\n",
    "        if (minVal > value):\n",
    "            minVal = value\n",
    "    return minVal"
   ]
  },
  {
   "cell_type": "code",
   "execution_count": 43,
   "metadata": {},
   "outputs": [
    {
     "data": {
      "text/plain": [
       "38737779.11268909"
      ]
     },
     "execution_count": 43,
     "metadata": {},
     "output_type": "execute_result"
    }
   ],
   "source": [
    "Velocity_func(400,params)"
   ]
  },
  {
   "cell_type": "code",
   "execution_count": 44,
   "metadata": {},
   "outputs": [
    {
     "data": {
      "text/html": [
       "<div>\n",
       "<style scoped>\n",
       "    .dataframe tbody tr th:only-of-type {\n",
       "        vertical-align: middle;\n",
       "    }\n",
       "\n",
       "    .dataframe tbody tr th {\n",
       "        vertical-align: top;\n",
       "    }\n",
       "\n",
       "    .dataframe thead th {\n",
       "        text-align: right;\n",
       "    }\n",
       "</style>\n",
       "<table border=\"1\" class=\"dataframe\">\n",
       "  <thead>\n",
       "    <tr style=\"text-align: right;\">\n",
       "      <th></th>\n",
       "      <th>values</th>\n",
       "    </tr>\n",
       "  </thead>\n",
       "  <tbody>\n",
       "    <tr>\n",
       "      <th>fun</th>\n",
       "      <td>3.59851e+07</td>\n",
       "    </tr>\n",
       "    <tr>\n",
       "      <th>status</th>\n",
       "      <td>0</td>\n",
       "    </tr>\n",
       "    <tr>\n",
       "      <th>success</th>\n",
       "      <td>True</td>\n",
       "    </tr>\n",
       "    <tr>\n",
       "      <th>message</th>\n",
       "      <td>Solution found.</td>\n",
       "    </tr>\n",
       "    <tr>\n",
       "      <th>x</th>\n",
       "      <td>-5648.23</td>\n",
       "    </tr>\n",
       "    <tr>\n",
       "      <th>nfev</th>\n",
       "      <td>17</td>\n",
       "    </tr>\n",
       "  </tbody>\n",
       "</table>\n",
       "</div>"
      ],
      "text/plain": [
       "fun            3.59851e+07\n",
       "status                   0\n",
       "success               True\n",
       "message    Solution found.\n",
       "x                 -5648.23\n",
       "nfev                    17\n",
       "dtype: object"
      ]
     },
     "execution_count": 44,
     "metadata": {},
     "output_type": "execute_result"
    }
   ],
   "source": [
    "res = min_bounded(Velocity_func, [-10000, 10000], params)"
   ]
  },
  {
   "cell_type": "code",
   "execution_count": 45,
   "metadata": {},
   "outputs": [
    {
     "data": {
      "text/plain": [
       "-5648.226359445424"
      ]
     },
     "execution_count": 45,
     "metadata": {},
     "output_type": "execute_result"
    }
   ],
   "source": [
    "res.x"
   ]
  },
  {
   "cell_type": "code",
   "execution_count": 46,
   "metadata": {},
   "outputs": [
    {
     "name": "stdout",
     "output_type": "stream",
     "text": [
      "-5148.226359445424 meter / second\n"
     ]
    },
    {
     "data": {
      "image/png": "[encoded data removed]",
      "text/plain": [
       "<Figure size 576x576 with 2 Axes>"
      ]
     },
     "metadata": {},
     "output_type": "display_data"
    }
   ],
   "source": [
    "params = Params(params, velocity = params.v + res.x *m/s)\n",
    "print(params.v + res.x *m/s)\n",
    "system = make_system(params)\n",
    "ts = linspace(0,system.t_end, 500)\n",
    "results5, details = run_ode_solver(system, slope_func, events=[event_func,event_func1], method = \"LSODA\", t_eval = ts)\n",
    "plot_position([results5])"
   ]
  },
  {
   "cell_type": "code",
   "execution_count": null,
   "metadata": {},
   "outputs": [],
   "source": []
  },
  {
   "cell_type": "code",
   "execution_count": null,
   "metadata": {},
   "outputs": [],
   "source": []
  },
  {
   "cell_type": "markdown",
   "metadata": {},
   "source": [
    "Course Corrections"
   ]
  },
  {
   "cell_type": "code",
   "execution_count": 47,
   "metadata": {},
   "outputs": [],
   "source": [
    "# Add Vector in direction in random direction in a range of velocties."
   ]
  },
  {
   "cell_type": "code",
   "execution_count": 48,
   "metadata": {},
   "outputs": [
    {
     "data": {
      "text/html": [
       "<div>\n",
       "<style scoped>\n",
       "    .dataframe tbody tr th:only-of-type {\n",
       "        vertical-align: middle;\n",
       "    }\n",
       "\n",
       "    .dataframe tbody tr th {\n",
       "        vertical-align: top;\n",
       "    }\n",
       "\n",
       "    .dataframe thead th {\n",
       "        text-align: right;\n",
       "    }\n",
       "</style>\n",
       "<table border=\"1\" class=\"dataframe\">\n",
       "  <thead>\n",
       "    <tr style=\"text-align: right;\">\n",
       "      <th></th>\n",
       "      <th>values</th>\n",
       "    </tr>\n",
       "  </thead>\n",
       "  <tbody>\n",
       "    <tr>\n",
       "      <th>init</th>\n",
       "      <td>x                        344970933 meter\n",
       "y    ...</td>\n",
       "    </tr>\n",
       "    <tr>\n",
       "      <th>mEarth</th>\n",
       "      <td>5.972e+24 kilogram</td>\n",
       "    </tr>\n",
       "    <tr>\n",
       "      <th>mMoon</th>\n",
       "      <td>7.347673e+22 kilogram</td>\n",
       "    </tr>\n",
       "    <tr>\n",
       "      <th>mSatellite</th>\n",
       "      <td>100 kilogram</td>\n",
       "    </tr>\n",
       "    <tr>\n",
       "      <th>G</th>\n",
       "      <td>6.674e-11 meter ** 2 * newton / kilogram ** 2</td>\n",
       "    </tr>\n",
       "    <tr>\n",
       "      <th>t_0</th>\n",
       "      <td>0 second</td>\n",
       "    </tr>\n",
       "    <tr>\n",
       "      <th>t_end</th>\n",
       "      <td>1000 second</td>\n",
       "    </tr>\n",
       "  </tbody>\n",
       "</table>\n",
       "</div>"
      ],
      "text/plain": [
       "init          x                        344970933 meter\n",
       "y    ...\n",
       "mEarth                                       5.972e+24 kilogram\n",
       "mMoon                                     7.347673e+22 kilogram\n",
       "mSatellite                                         100 kilogram\n",
       "G                 6.674e-11 meter ** 2 * newton / kilogram ** 2\n",
       "t_0                                                    0 second\n",
       "t_end                                               1000 second\n",
       "dtype: object"
      ]
     },
     "execution_count": 48,
     "metadata": {},
     "output_type": "execute_result"
    }
   ],
   "source": [
    "def make_system2(mEarth, mMoon, mSatellite, G, r_0, v,theta, t_end):\n",
    "\n",
    "    rad = (theta/180) * pi\n",
    "    \n",
    "    init = State(x = 344970933 *m, \n",
    "                 y = 0*m ,\n",
    "                 vx = v* math.cos(rad) *m/s ,\n",
    "                 vy = v* math.sin(rad) *m/s ,\n",
    "                 xi = 344970933 *m, \n",
    "                 yi = 0*m ,\n",
    "                 vxi = v* math.cos(rad) *m/s ,\n",
    "                 vyi = v* math.sin(rad) *m/s ,\n",
    "                 mx = 384472281 *m, #distance from Earth to Moon\n",
    "                 my = 0*m,\n",
    "                 mvx = 0 *m/s,\n",
    "                 mvy = 1000 * m/s);\n",
    "\n",
    "    \n",
    "    t_0 = 0 *s\n",
    "    t_end = t_end *s\n",
    "    \n",
    "    \n",
    "    return System(init=init,\n",
    "                mEarth = mEarth,\n",
    "                mMoon = mMoon,\n",
    "                mSatellite = mSatellite,\n",
    "                G = G,\n",
    "                t_0 = t_0,\n",
    "                t_end=t_end)\n",
    "system = make_system2(Mass_Earth, Mass_Moon, Mass_Satellite, G, r_0, 100, 100, 1000)"
   ]
  },
  {
   "cell_type": "code",
   "execution_count": 49,
   "metadata": {},
   "outputs": [],
   "source": [
    "def slope_func2(state, t, system):\n",
    "    \"\"\"Compute derivatives of the state.\n",
    "    \n",
    "    state: position, velocity\n",
    "    t: time\n",
    "    system: System object containing `g`\n",
    "    \n",
    "    returns: derivatives of y and v\n",
    "    \"\"\"\n",
    "    x, y, vx, vy, xi, yi, vxi, vyi, mx, my, mvx, mvy = state\n",
    "    unpack(system) \n",
    "    \n",
    "    forceSatellite = Earth_fgrav(state,system) + Moon_fgrav(state,system)\n",
    "    forceEarthMoon = Earth_fgravMoon(state,system)\n",
    "    forceSatellitei = Earth_fgrav_ideal(state,system) + Moon_fgrav_ideal(state,system)\n",
    "\n",
    "    if t == 0:\n",
    "        explosion =  forceOxygen_Explosion()\n",
    "        print(explosion)\n",
    "    else:\n",
    "        explosion = Vector(0,0) *m;\n",
    "    \n",
    "    dxdt = vx \n",
    "    dydt = vy\n",
    "    \n",
    "    dvxdt = (forceSatellite.x + explosion.x) / Mass_Satellite\n",
    "    dvydt = (forceSatellite.y + explosion.y) / Mass_Satellite\n",
    "    \n",
    "    dxidt = vxi \n",
    "    dyidt = vyi\n",
    "    \n",
    "    dvxidt = (forceSatellitei.x) / Mass_Satellite\n",
    "    dvyidt = (forceSatellitei.y) / Mass_Satellite\n",
    "    \n",
    "    dmxdt = mvx\n",
    "    dmydt = mvy\n",
    "    \n",
    "    dmvxdt = (forceEarthMoon.x) / Mass_Moon\n",
    "    dmvydt = (forceEarthMoon.y) / Mass_Moon\n",
    "    \n",
    "\n",
    "    return dxdt, dydt, dvxdt, dvydt, dxidt, dyidt, dvxidt, dvyidt, dmxdt, dmydt, dmvxdt, dmvydt"
   ]
  },
  {
   "cell_type": "code",
   "execution_count": 50,
   "metadata": {},
   "outputs": [
    {
     "name": "stdout",
     "output_type": "stream",
     "text": [
      "[15792.23263766  8210.75386399] meter ** 2 / second ** 2\n"
     ]
    }
   ],
   "source": [
    "def forceOxygen_Explosion():\n",
    "    direction = np.random.random()*360 * degree\n",
    "    acc = (np.random.random()*10000 + 10000) * m/s**2\n",
    "    force = Vector(acc*math.cos(direction),acc*math.sin(direction))*m\n",
    "    return force\n",
    "    \n",
    "print(forceOxygen_Explosion())"
   ]
  },
  {
   "cell_type": "code",
   "execution_count": 51,
   "metadata": {},
   "outputs": [
    {
     "data": {
      "text/html": [
       "338599933.0 meter"
      ],
      "text/latex": [
       "$338599933.0 meter$"
      ],
      "text/plain": [
       "<Quantity(338599933.0, 'meter')>"
      ]
     },
     "execution_count": 51,
     "metadata": {},
     "output_type": "execute_result"
    }
   ],
   "source": [
    "def event_func3(state, t, system): # Checks crash into Earth\n",
    "    unpack (system)\n",
    "    x,y,vx,vy, xi, yi, vxi, vyi,mx,my,mvx,mvy = state\n",
    "    position = Vector(0-x, 0-y) *m\n",
    "    return position.mag /m - 6371000*m\n",
    "event_func3(system.init, 0, system)"
   ]
  },
  {
   "cell_type": "code",
   "execution_count": 52,
   "metadata": {},
   "outputs": [
    {
     "data": {
      "text/html": [
       "37764348.0 meter"
      ],
      "text/latex": [
       "$37764348.0 meter$"
      ],
      "text/plain": [
       "<Quantity(37764348.0, 'meter')>"
      ]
     },
     "execution_count": 52,
     "metadata": {},
     "output_type": "execute_result"
    }
   ],
   "source": [
    "def event_func4(state, t, system): # Checks crash into Moon\n",
    "    unpack (system)\n",
    "    x,y,vx,vy, xi, yi, vxi, vyi,mx,my,mvx,mvy = state\n",
    "    position = Vector(mx-x, my-y) *m\n",
    "    return position.mag /m - 1737000*m\n",
    "event_func4(system.init, 0, system)"
   ]
  },
  {
   "cell_type": "code",
   "execution_count": 53,
   "metadata": {},
   "outputs": [
    {
     "data": {
      "text/html": [
       "[0.3142767 0.       ] newton/meter<sup>2</sup>"
      ],
      "text/latex": [
       "$[0.3142767 0.       ] \\frac{newton}{meter^{2}}$"
      ],
      "text/plain": [
       "<Quantity([0.3142767 0.       ], 'newton / meter ** 2')>"
      ]
     },
     "execution_count": 53,
     "metadata": {},
     "output_type": "execute_result"
    }
   ],
   "source": [
    "def Earth_fgravMoon(state,system):\n",
    "    unpack (system)\n",
    "    x,y,vx,vy, xi, yi, vxi, vyi,mx,my,mvx,mvy = state\n",
    "    return fgrav(mx,my, 0, 0, Mass_Moon, Mass_Earth)\n",
    "Earth_fgravMoon(system.init, system)\n",
    "\n",
    "def Earth_fgrav(state,system):\n",
    "    unpack (system)\n",
    "    x,y,vx,vy, xi, yi, vxi, vyi,mx,my,mvx,mvy = state\n",
    "    return fgrav(x,y, 0, 0, Mass_Satellite, Mass_Earth)\n",
    "Earth_fgrav(system.init, system)\n",
    "\n",
    "def Moon_fgrav(state,system):\n",
    "    unpack (system)\n",
    "    x,y,vx,vy, xi, yi, vxi, vyi, mx,my,mvx,mvy = state\n",
    "    return fgrav(x,y, mx, my, Mass_Satellite, Mass_Moon)\n",
    "Moon_fgrav(system.init, system)"
   ]
  },
  {
   "cell_type": "code",
   "execution_count": 54,
   "metadata": {},
   "outputs": [
    {
     "data": {
      "text/html": [
       "[0.3142767 0.       ] newton/meter<sup>2</sup>"
      ],
      "text/latex": [
       "$[0.3142767 0.       ] \\frac{newton}{meter^{2}}$"
      ],
      "text/plain": [
       "<Quantity([0.3142767 0.       ], 'newton / meter ** 2')>"
      ]
     },
     "execution_count": 54,
     "metadata": {},
     "output_type": "execute_result"
    }
   ],
   "source": [
    "def Earth_fgrav_ideal(state,system):\n",
    "    unpack (system)\n",
    "    x,y,vx,vy, xi, yi, vxi, vyi,mx,my,mvx,mvy = state\n",
    "    return fgrav(xi,yi, 0, 0, Mass_Satellite, Mass_Earth)\n",
    "Earth_fgrav(system.init, system)\n",
    "\n",
    "def Moon_fgrav_ideal(state,system):\n",
    "    unpack (system)\n",
    "    x,y,vx,vy, xi, yi, vxi, vyi, mx,my,mvx,mvy = state\n",
    "    return fgrav(xi,yi, mx, my, Mass_Satellite, Mass_Moon)\n",
    "Moon_fgrav(system.init, system)"
   ]
  },
  {
   "cell_type": "code",
   "execution_count": null,
   "metadata": {},
   "outputs": [],
   "source": []
  },
  {
   "cell_type": "code",
   "execution_count": 55,
   "metadata": {
    "scrolled": true
   },
   "outputs": [
    {
     "name": "stdout",
     "output_type": "stream",
     "text": [
      "[-15960.16073943   6504.34401698] meter ** 2 / second ** 2\n"
     ]
    }
   ],
   "source": [
    "system = make_system2(Mass_Earth, Mass_Moon, Mass_Satellite, G, r_0, 500,30,2100000)\n",
    "results6, details = run_ode_solver(system, slope_func2, events = [event_func3,event_func4], method = \"LSODA\")"
   ]
  },
  {
   "cell_type": "code",
   "execution_count": 56,
   "metadata": {},
   "outputs": [
    {
     "data": {
      "image/png": "[encoded data removed]",
      "text/plain": [
       "<Figure size 576x576 with 2 Axes>"
      ]
     },
     "metadata": {},
     "output_type": "display_data"
    }
   ],
   "source": [
    "def plot_position2(results):\n",
    "    unpack(system)\n",
    "    count = 1\n",
    "    \n",
    " \n",
    "    subplot(2,1,1) # Plots x and y over time. Not terribly useful\n",
    "    for result in results:\n",
    "        result.index /= 60*60*24 #convert seconds to days\n",
    "\n",
    "        plot(result.x, label='x'+str(count))\n",
    "        plot(result.y, label = 'y'+ str(count))\n",
    "        plot(result.xi, label='Ideal x'+str(count))\n",
    "        plot(result.yi, label = 'Ideal y'+ str(count))\n",
    "        count +=1\n",
    "    decorate(xlabel='Time (days)',\n",
    "             ylabel='Distance from earth (million m)')\n",
    "    \n",
    "    subplot(2,1,2) #Plots x against y creating \n",
    "    count = 1\n",
    "    fig = plt.gcf()\n",
    "    ax = fig.gca()\n",
    "    circle1 = plt.Circle((384472281, 0), 1736482, color='g',label = \"Moon Start\")\n",
    "    circle2 = plt.Circle((0, 0), 6371000, color='b', label = \"Earth\")\n",
    "    ax.add_artist(circle1)\n",
    "    ax.add_artist(circle2)\n",
    "    for result in results:\n",
    "        plot(result.x,result.y,\"r\", label = 'Position'+str(count),)\n",
    "        plot(result.xi,result.yi,\":r\", label = 'Ideal Position'+str(count))\n",
    "        plot(result.mx,result.my, label = 'Moon Path' + str(count))\n",
    "        circle = plt.Circle((get_last_value(result.mx), get_last_value(result.my)), 1736482, color='r',label = \"Moon End\"+str(count))\n",
    "        ax.add_artist(circle)\n",
    "        count +=1\n",
    "\n",
    "    decorate(xlabel='x Distance from earth (m)',\n",
    "             ylabel='y Distance from earth (m)')\n",
    "plot_position2([results6])"
   ]
  },
  {
   "cell_type": "markdown",
   "metadata": {},
   "source": [
    "### Animation Stuffs"
   ]
  },
  {
   "cell_type": "code",
   "execution_count": 57,
   "metadata": {},
   "outputs": [
    {
     "ename": "NameError",
     "evalue": "name 'results3' is not defined",
     "output_type": "error",
     "traceback": [
      "\u001b[1;31m---------------------------------------------------------------------------\u001b[0m",
      "\u001b[1;31mNameError\u001b[0m                                 Traceback (most recent call last)",
      "\u001b[1;32m<ipython-input-57-9bfed908816e>\u001b[0m in \u001b[0;36m<module>\u001b[1;34m()\u001b[0m\n\u001b[0;32m     22\u001b[0m     \u001b[1;32mreturn\u001b[0m \u001b[0mani\u001b[0m\u001b[1;33m\u001b[0m\u001b[0m\n\u001b[0;32m     23\u001b[0m \u001b[1;33m\u001b[0m\u001b[0m\n\u001b[1;32m---> 24\u001b[1;33m \u001b[0mani\u001b[0m \u001b[1;33m=\u001b[0m \u001b[0manim\u001b[0m\u001b[1;33m(\u001b[0m\u001b[0mresults3\u001b[0m\u001b[1;33m)\u001b[0m\u001b[1;33m\u001b[0m\u001b[0m\n\u001b[0m",
      "\u001b[1;31mNameError\u001b[0m: name 'results3' is not defined"
     ]
    }
   ],
   "source": [
    "def anim(results):\n",
    "\n",
    "    plt.rcParams[\"animation.html\"] = \"jshtml\"\n",
    "    t = results\n",
    "\n",
    "    fig, ax = plt.subplots();\n",
    "    ax.axis([-4e8, 4e8, -4e8, 4e8]);\n",
    "    circle1 = plt.Circle((384472281, 0), 1736482, color='g',label = \"Moon Start\")\n",
    "    circle2 = plt.Circle((0, 0), 6371000, color='b', label = \"Earth\")\n",
    "    ax.add_artist(circle1)\n",
    "    ax.add_artist(circle2)\n",
    "    l, = ax.plot([],[]);\n",
    "    l1, = ax.plot([],[]);\n",
    "    #l2, = ax.plot([],[]);\n",
    "\n",
    "    def animate(i):\n",
    "        l.set_data(results.mx[results.index[:i]], results.my[results.index[:i]]);\n",
    "        l1.set_data(results.x[results.index[:i]], results.y[results.index[:i]]);\n",
    "        #l2.set_data(results.xi[results.index[:i]], results.yi[results.index[:i]]);\n",
    "\n",
    "    ani = matplotlib.animation.FuncAnimation(fig, animate, frames=len(t.index));\n",
    "    return ani\n",
    "\n",
    "ani = anim(results3)"
   ]
  },
  {
   "cell_type": "code",
   "execution_count": null,
   "metadata": {},
   "outputs": [],
   "source": [
    "anim(results5)"
   ]
  },
  {
   "cell_type": "code",
   "execution_count": null,
   "metadata": {},
   "outputs": [],
   "source": []
  },
  {
   "cell_type": "code",
   "execution_count": null,
   "metadata": {},
   "outputs": [],
   "source": []
  },
  {
   "cell_type": "code",
   "execution_count": null,
   "metadata": {},
   "outputs": [],
   "source": []
  }
 ],
 "metadata": {
  "kernelspec": {
   "display_name": "Python 3",
   "language": "python",
   "name": "python3"
  },
  "language_info": {
   "codemirror_mode": {
    "name": "ipython",
    "version": 3
   },
   "file_extension": ".py",
   "mimetype": "text/x-python",
   "name": "python",
   "nbconvert_exporter": "python",
   "pygments_lexer": "ipython3",
   "version": "3.6.6"
  }
 },
 "nbformat": 4,
 "nbformat_minor": 2
}
