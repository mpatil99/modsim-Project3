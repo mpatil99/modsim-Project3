{
 "cells": [
  {
   "cell_type": "markdown",
   "metadata": {},
   "source": [
    "## Modeling and Simulation in Python\n",
    "\n",
    "Project 3\n",
    "\n",
    "Jinfay Yuan and Manu Patil"
   ]
  },
  {
   "cell_type": "code",
   "execution_count": 1,
   "metadata": {},
   "outputs": [],
   "source": [
    "# Configure Jupyter so figures appear in the notebook\n",
    "%matplotlib inline\n",
    "\n",
    "# Configure Jupyter to display the assigned value after an assignment\n",
    "%config InteractiveShell.ast_node_interactivity='last_expr_or_assign'\n",
    "\n",
    "# import functions from the modsim.py module\n",
    "from modsim import *\n",
    "import math\n",
    "import matplotlib.pyplot as plt\n",
    "import numpy as np  \n",
    "from matplotlib import animation, rc\n",
    "from IPython.display import HTML\n",
    "plt.rcParams['animation.ffmpeg_path'] = 'C:/Users/jyuan/Desktop/Olin 2018-2019/ModSimPy/code/modsim-Project3/FFmpeg/bin/ffmpeg'"
   ]
  },
  {
   "cell_type": "code",
   "execution_count": 2,
   "metadata": {},
   "outputs": [
    {
     "data": {
      "text/html": [
       "degree"
      ],
      "text/latex": [
       "$degree$"
      ],
      "text/plain": [
       "<Unit('degree')>"
      ]
     },
     "execution_count": 2,
     "metadata": {},
     "output_type": "execute_result"
    }
   ],
   "source": [
    "N = UNITS.newton\n",
    "kg = UNITS.kilogram\n",
    "AU = UNITS.astronomical_unit\n",
    "day = UNITS.day\n",
    "m = UNITS.meter\n",
    "s = UNITS.second\n",
    "y = UNITS.year\n",
    "degree = UNITS.degree"
   ]
  },
  {
   "cell_type": "code",
   "execution_count": 3,
   "metadata": {},
   "outputs": [
    {
     "data": {
      "text/plain": [
       "344970933"
      ]
     },
     "execution_count": 3,
     "metadata": {},
     "output_type": "execute_result"
    }
   ],
   "source": [
    "Mass_Earth = 5.972e24 *kg\n",
    "Mass_Moon = 7.3476730e22 *kg\n",
    "Mass_Satellite = 100 *kg\n",
    "G = 6.674e-11* (N*m**2)/(kg**2)\n",
    "r_0 = 344970933  #distance from center of Earth to Lagrange point"
   ]
  },
  {
   "cell_type": "code",
   "execution_count": 4,
   "metadata": {},
   "outputs": [
    {
     "data": {
      "text/html": [
       "<div>\n",
       "<style scoped>\n",
       "    .dataframe tbody tr th:only-of-type {\n",
       "        vertical-align: middle;\n",
       "    }\n",
       "\n",
       "    .dataframe tbody tr th {\n",
       "        vertical-align: top;\n",
       "    }\n",
       "\n",
       "    .dataframe thead th {\n",
       "        text-align: right;\n",
       "    }\n",
       "</style>\n",
       "<table border=\"1\" class=\"dataframe\">\n",
       "  <thead>\n",
       "    <tr style=\"text-align: right;\">\n",
       "      <th></th>\n",
       "      <th>values</th>\n",
       "    </tr>\n",
       "  </thead>\n",
       "  <tbody>\n",
       "    <tr>\n",
       "      <th>init</th>\n",
       "      <td>x                        344970933 meter\n",
       "y    ...</td>\n",
       "    </tr>\n",
       "    <tr>\n",
       "      <th>mEarth</th>\n",
       "      <td>5.972e+24 kilogram</td>\n",
       "    </tr>\n",
       "    <tr>\n",
       "      <th>mMoon</th>\n",
       "      <td>7.347673e+22 kilogram</td>\n",
       "    </tr>\n",
       "    <tr>\n",
       "      <th>mSatellite</th>\n",
       "      <td>100 kilogram</td>\n",
       "    </tr>\n",
       "    <tr>\n",
       "      <th>G</th>\n",
       "      <td>6.674e-11 meter ** 2 * newton / kilogram ** 2</td>\n",
       "    </tr>\n",
       "    <tr>\n",
       "      <th>t_0</th>\n",
       "      <td>0 second</td>\n",
       "    </tr>\n",
       "    <tr>\n",
       "      <th>t_end</th>\n",
       "      <td>1000 second</td>\n",
       "    </tr>\n",
       "  </tbody>\n",
       "</table>\n",
       "</div>"
      ],
      "text/plain": [
       "init          x                        344970933 meter\n",
       "y    ...\n",
       "mEarth                                       5.972e+24 kilogram\n",
       "mMoon                                     7.347673e+22 kilogram\n",
       "mSatellite                                         100 kilogram\n",
       "G                 6.674e-11 meter ** 2 * newton / kilogram ** 2\n",
       "t_0                                                    0 second\n",
       "t_end                                               1000 second\n",
       "dtype: object"
      ]
     },
     "execution_count": 4,
     "metadata": {},
     "output_type": "execute_result"
    }
   ],
   "source": [
    "def make_system(mEarth, mMoon, mSatellite, G, r_0, v,theta, t_end):\n",
    "\n",
    "    rad = (theta/180) * pi\n",
    "    \n",
    "    init = State(x = 344970933 *m, \n",
    "                 y = 0*m ,\n",
    "                 vx = v* math.cos(rad) *m/s ,\n",
    "                 vy = v* math.sin(rad) *m/s ,\n",
    "                 mx = 384472281 *m, #distance from Earth to Moon\n",
    "                 my = 0*m,\n",
    "                 mvx = 0 *m/s,\n",
    "                 mvy = 1000 * m/s);\n",
    "\n",
    "    \n",
    "    t_0 = 0 *s\n",
    "    t_end = t_end *s\n",
    "    \n",
    "    \n",
    "    return System(init=init,\n",
    "                mEarth = mEarth,\n",
    "                mMoon = mMoon,\n",
    "                mSatellite = mSatellite,\n",
    "                G = G,\n",
    "                t_0 = t_0,\n",
    "                t_end=t_end)\n",
    "system = make_system(Mass_Earth, Mass_Moon, Mass_Satellite, G, r_0, 100, 100, 1000)"
   ]
  },
  {
   "cell_type": "code",
   "execution_count": 5,
   "metadata": {},
   "outputs": [],
   "source": [
    "def slope_func(state, t, system):\n",
    "    \"\"\"Compute derivatives of the state.\n",
    "    \n",
    "    state: position, velocity\n",
    "    t: time\n",
    "    system: System object containing `g`\n",
    "    \n",
    "    returns: derivatives of y and v\n",
    "    \"\"\"\n",
    "    x, y, vx, vy, mx, my, mvx, mvy = state\n",
    "    unpack(system) \n",
    "    \n",
    "    forceEarth = Earth_fgrav(state,system)\n",
    "    forceMoon = Moon_fgrav(state,system)\n",
    "    forceEarthMoon = Earth_fgravMoon(state,system)\n",
    "    \n",
    "    dxdt = vx \n",
    "    dydt = vy\n",
    "    \n",
    "    dvxdt = (forceEarth.x + forceMoon.x) / Mass_Satellite\n",
    "    dvydt = (forceEarth.y + forceMoon.y) / Mass_Satellite\n",
    "    \n",
    "    dmxdt = mvx\n",
    "    dmydt = mvy\n",
    "    \n",
    "    dmvxdt = (forceEarthMoon.x) / Mass_Moon\n",
    "    dmvydt = (forceEarthMoon.y) / Mass_Moon\n",
    "    \n",
    "\n",
    "    \n",
    "    return dxdt, dydt, dvxdt, dvydt,dmxdt, dmydt, dmvxdt, dmvydt"
   ]
  },
  {
   "cell_type": "code",
   "execution_count": 6,
   "metadata": {},
   "outputs": [
    {
     "data": {
      "text/html": [
       "[-1.98118829e+20  0.00000000e+00] newton/meter<sup>2</sup>"
      ],
      "text/latex": [
       "$[-1.98118829e+20  0.00000000e+00] \\frac{newton}{meter^{2}}$"
      ],
      "text/plain": [
       "<Quantity([-1.98118829e+20  0.00000000e+00], 'newton / meter ** 2')>"
      ]
     },
     "execution_count": 6,
     "metadata": {},
     "output_type": "execute_result"
    }
   ],
   "source": [
    "def Earth_fgravMoon(state,system):\n",
    "    unpack (system)\n",
    "    x,y,vx,vy,mx,my,mvx,mvy = state\n",
    "    position = Vector(0-mx, 0-my) *m\n",
    "    force = G * Mass_Earth * Mass_Moon / (position.mag)**2\n",
    "    return  position.hat() * force\n",
    "Earth_fgravMoon(system.init, system)"
   ]
  },
  {
   "cell_type": "code",
   "execution_count": 7,
   "metadata": {},
   "outputs": [
    {
     "data": {
      "text/html": [
       "[-0.33491993  0.        ] newton/meter<sup>2</sup>"
      ],
      "text/latex": [
       "$[-0.33491993  0.        ] \\frac{newton}{meter^{2}}$"
      ],
      "text/plain": [
       "<Quantity([-0.33491993  0.        ], 'newton / meter ** 2')>"
      ]
     },
     "execution_count": 7,
     "metadata": {},
     "output_type": "execute_result"
    }
   ],
   "source": [
    "def Earth_fgrav(state,system):\n",
    "    unpack (system)\n",
    "    x,y,vx,vy,mx,my,mvx,mvy = state\n",
    "    position = Vector(0-x, 0-y) *m\n",
    "    force = G * Mass_Earth * Mass_Satellite / (position.mag)**2\n",
    "    return  position.hat() * force\n",
    "Earth_fgrav(system.init, system)"
   ]
  },
  {
   "cell_type": "code",
   "execution_count": 8,
   "metadata": {},
   "outputs": [
    {
     "data": {
      "text/html": [
       "[0.3142767 0.       ] newton/meter<sup>2</sup>"
      ],
      "text/latex": [
       "$[0.3142767 0.       ] \\frac{newton}{meter^{2}}$"
      ],
      "text/plain": [
       "<Quantity([0.3142767 0.       ], 'newton / meter ** 2')>"
      ]
     },
     "execution_count": 8,
     "metadata": {},
     "output_type": "execute_result"
    }
   ],
   "source": [
    "def Moon_fgrav(state,system):\n",
    "    unpack (system)\n",
    "    x,y,vx,vy,mx,my,mvx,mvy = state\n",
    "    rel_position = Vector(mx-x,my-y)* m #will change if moon moves\n",
    "    force = G * Mass_Moon * Mass_Satellite / (rel_position.mag)**2\n",
    "    return  rel_position.hat()*force\n",
    "Moon_fgrav(system.init, system)"
   ]
  },
  {
   "cell_type": "code",
   "execution_count": 9,
   "metadata": {},
   "outputs": [
    {
     "data": {
      "text/html": [
       "37764348.0 meter"
      ],
      "text/latex": [
       "$37764348.0 meter$"
      ],
      "text/plain": [
       "<Quantity(37764348.0, 'meter')>"
      ]
     },
     "execution_count": 9,
     "metadata": {},
     "output_type": "execute_result"
    }
   ],
   "source": [
    "def event_func(state, t, system):\n",
    "    unpack (system)\n",
    "    x,y,vx,vy,mx,my,mvx,mvy = state\n",
    "    position = Vector(mx-x, my-y) *m\n",
    "    return position.mag /m - 1737000*m\n",
    "event_func(system.init, 0, system)"
   ]
  },
  {
   "cell_type": "code",
   "execution_count": 10,
   "metadata": {},
   "outputs": [
    {
     "data": {
      "text/html": [
       "338599933.0 meter"
      ],
      "text/latex": [
       "$338599933.0 meter$"
      ],
      "text/plain": [
       "<Quantity(338599933.0, 'meter')>"
      ]
     },
     "execution_count": 10,
     "metadata": {},
     "output_type": "execute_result"
    }
   ],
   "source": [
    "def event_func1(state, t, system):\n",
    "    unpack (system)\n",
    "    x,y,vx,vy,mx,my,mvx,mvy = state\n",
    "    position = Vector(0-x, 0-y) *m\n",
    "    return position.mag /m - 6371000*m\n",
    "event_func1(system.init, 0, system)"
   ]
  },
  {
   "cell_type": "code",
   "execution_count": 11,
   "metadata": {},
   "outputs": [
    {
     "data": {
      "text/plain": [
       "(<Quantity(707.1067811865476, 'meter / second')>,\n",
       " <Quantity(707.1067811865476, 'meter / second')>,\n",
       " <Quantity(-0.00020643228302136274, 'newton / kilogram / meter ** 2')>,\n",
       " <Quantity(0.0, 'newton / kilogram / meter ** 2')>,\n",
       " <Quantity(0.0, 'meter / second')>,\n",
       " <Quantity(1000.0, 'meter / second')>,\n",
       " <Quantity(-0.002696347936647311, 'newton / kilogram / meter ** 2')>,\n",
       " <Quantity(0.0, 'newton / kilogram / meter ** 2')>)"
      ]
     },
     "execution_count": 11,
     "metadata": {},
     "output_type": "execute_result"
    }
   ],
   "source": [
    "system = make_system(Mass_Earth, Mass_Moon, Mass_Satellite, G, r_0,1000,45,1e5)\n",
    "slope_func(system.init, 0, system)"
   ]
  },
  {
   "cell_type": "code",
   "execution_count": 12,
   "metadata": {},
   "outputs": [
    {
     "data": {
      "text/html": [
       "<div>\n",
       "<style scoped>\n",
       "    .dataframe tbody tr th:only-of-type {\n",
       "        vertical-align: middle;\n",
       "    }\n",
       "\n",
       "    .dataframe tbody tr th {\n",
       "        vertical-align: top;\n",
       "    }\n",
       "\n",
       "    .dataframe thead th {\n",
       "        text-align: right;\n",
       "    }\n",
       "</style>\n",
       "<table border=\"1\" class=\"dataframe\">\n",
       "  <thead>\n",
       "    <tr style=\"text-align: right;\">\n",
       "      <th></th>\n",
       "      <th>values</th>\n",
       "    </tr>\n",
       "  </thead>\n",
       "  <tbody>\n",
       "    <tr>\n",
       "      <th>sol</th>\n",
       "      <td>None</td>\n",
       "    </tr>\n",
       "    <tr>\n",
       "      <th>t_events</th>\n",
       "      <td>[]</td>\n",
       "    </tr>\n",
       "    <tr>\n",
       "      <th>nfev</th>\n",
       "      <td>380</td>\n",
       "    </tr>\n",
       "    <tr>\n",
       "      <th>njev</th>\n",
       "      <td>0</td>\n",
       "    </tr>\n",
       "    <tr>\n",
       "      <th>nlu</th>\n",
       "      <td>0</td>\n",
       "    </tr>\n",
       "    <tr>\n",
       "      <th>status</th>\n",
       "      <td>0</td>\n",
       "    </tr>\n",
       "    <tr>\n",
       "      <th>message</th>\n",
       "      <td>The solver successfully reached the end of the...</td>\n",
       "    </tr>\n",
       "    <tr>\n",
       "      <th>success</th>\n",
       "      <td>True</td>\n",
       "    </tr>\n",
       "  </tbody>\n",
       "</table>\n",
       "</div>"
      ],
      "text/plain": [
       "sol                                                      None\n",
       "t_events                                                   []\n",
       "nfev                                                      380\n",
       "njev                                                        0\n",
       "nlu                                                         0\n",
       "status                                                      0\n",
       "message     The solver successfully reached the end of the...\n",
       "success                                                  True\n",
       "dtype: object"
      ]
     },
     "execution_count": 12,
     "metadata": {},
     "output_type": "execute_result"
    }
   ],
   "source": [
    "system = make_system(Mass_Earth, Mass_Moon, Mass_Satellite, G, r_0, 1000,180,1e5)\n",
    "results, details = run_ode_solver(system, slope_func, max_step = 1000, method = \"RK23\")\n",
    "details"
   ]
  },
  {
   "cell_type": "code",
   "execution_count": 13,
   "metadata": {
    "scrolled": false
   },
   "outputs": [
    {
     "data": {
      "image/png": "[encoded data removed]",
      "text/plain": [
       "<Figure size 576x576 with 2 Axes>"
      ]
     },
     "metadata": {},
     "output_type": "display_data"
    }
   ],
   "source": [
    "def plot_position(results):\n",
    "    unpack(system)\n",
    "    subplot(2,1,1)\n",
    "    plot(results.x, label='x')\n",
    "    plot(results.y, label = 'y')\n",
    "    decorate(xlabel='Time (day)',\n",
    "             ylabel='Distance from earth (million m)')\n",
    "    subplot(2,1,2)\n",
    "   \n",
    "\n",
    "    plot(results.x,results.y, label = 'Position')\n",
    "    plot(init.mx,init.my, label ='Moon')\n",
    "    circle1 = plt.Circle((384472281, 0), 1736482, color='r')\n",
    "    fig = plt.gcf()\n",
    "    ax = fig.gca()\n",
    "    ax.add_artist(circle1)\n",
    "    decorate(xlabel='x Distance from earth (million m)',\n",
    "             ylabel='y Distance from earth (million m)')\n",
    "plot_position(results)"
   ]
  },
  {
   "cell_type": "code",
   "execution_count": 14,
   "metadata": {},
   "outputs": [],
   "source": [
    "def plot_position2(results1, results2):\n",
    "    \n",
    "    unpack(system)\n",
    "    subplot(2,1,1)\n",
    "    plot(results1.x, label='x1')\n",
    "    plot(results1.y, label = 'y1')\n",
    "    plot(results2.x, label='x2')\n",
    "    plot(results2.y, label = 'y2')\n",
    "    decorate(xlabel='Time (day)',\n",
    "             ylabel='Distance from earth (million m)')\n",
    "    subplot(2,1,2)\n",
    "    plot(results1.x,results1.y, label = 'Trajectory1')\n",
    "    plot(results2.x,results2.y, label = 'Trajectory2')\n",
    "    plot(results1.mx,results1.my)\n",
    "    plot(results2.mx,results2.my)\n",
    "    circle1 = plt.Circle((384472281, 0), 1736482, color='r')\n",
    "    fig = plt.gcf()\n",
    "    ax = fig.gca()\n",
    "    ax.add_artist(circle1)\n",
    "    circle3 = plt.Circle((get_last_value(results1.mx), get_last_value(results1.my)), 1736482, color='g')\n",
    "    circle3 = plt.Circle((get_last_value(results2.mx), get_last_value(results2.my)), 1736482, color='g')\n",
    "    fig = plt.gcf()\n",
    "    ax = fig.gca()\n",
    "    ax.add_artist(circle3)\n",
    "    circle2 = plt.Circle((0, 0), 6371000, color='b')\n",
    "    fig = plt.gcf()\n",
    "    ax = fig.gca()\n",
    "    ax.add_artist(circle2)\n",
    "    decorate(xlabel='x Distance from earth (million m)',\n",
    "             ylabel='y Distance from earth (million m)')\n"
   ]
  },
  {
   "cell_type": "code",
   "execution_count": 47,
   "metadata": {},
   "outputs": [
    {
     "data": {
      "image/png": "[encoded data removed]",
      "text/plain": [
       "<Figure size 576x576 with 2 Axes>"
      ]
     },
     "metadata": {},
     "output_type": "display_data"
    }
   ],
   "source": [
    "ts = linspace(system.t_0, system.t_end, 1000)\n",
    "\n",
    "system = make_system(Mass_Earth, Mass_Moon, Mass_Satellite, G, r_0, 500,-30,2100000)\n",
    "results1, details = run_ode_solver(system, slope_func, events = [event_func,event_func1],max_step=1000,method = \"LSODA\",t_eval=ts)\n",
    "\n",
    "system = make_system(Mass_Earth, Mass_Moon, Mass_Satellite, G, r_0, 500,30,2100000)\n",
    "results2, details = run_ode_solver(system, slope_func, events = [event_func,event_func1],max_step=1000, method = \"LSODA\",t_eval=ts)\n",
    "plot_position2(results1,results2)"
   ]
  },
  {
   "cell_type": "code",
   "execution_count": 51,
   "metadata": {},
   "outputs": [
    {
     "name": "stdout",
     "output_type": "stream",
     "text": [
      "                         x             y           vx          vy  \\\n",
      "0.000000e+00  3.449709e+08  0.000000e+00   433.012702  250.000000   \n",
      "2.102102e+03  3.458808e+08  5.257059e+05   432.817807  250.190661   \n",
      "4.204204e+03  3.467906e+08  1.052186e+06   432.939394  250.666646   \n",
      "6.306306e+03  3.477011e+08  1.579875e+06   433.319811  251.421220   \n",
      "8.408408e+03  3.486127e+08  2.109548e+06   433.989323  252.542710   \n",
      "1.051051e+04  3.495259e+08  2.641981e+06   434.916271  254.066245   \n",
      "1.261261e+04  3.504413e+08  3.178028e+06   436.060982  256.024034   \n",
      "1.471471e+04  3.513593e+08  3.718679e+06   437.371680  258.446105   \n",
      "1.681682e+04  3.522802e+08  4.264937e+06   438.790496  261.352952   \n",
      "1.891892e+04  3.532041e+08  4.817836e+06   440.253411  264.756119   \n",
      "2.102102e+04  3.541311e+08  5.378389e+06   441.693861  268.656713   \n",
      "2.312312e+04  3.550610e+08  5.947661e+06   443.038982  273.044422   \n",
      "2.522523e+04  3.559936e+08  6.526649e+06   444.218335  277.896911   \n",
      "2.732733e+04  3.569285e+08  7.116298e+06   445.164392  283.180097   \n",
      "2.942943e+04  3.578650e+08  7.717467e+06   445.815567  288.849485   \n",
      "3.153153e+04  3.588025e+08  8.330914e+06   446.118603  294.851864   \n",
      "3.363363e+04  3.597403e+08  8.957276e+06   446.030374  301.127647   \n",
      "3.573574e+04  3.606774e+08  9.597063e+06   445.518983  307.613484   \n",
      "3.783784e+04  3.616130e+08  1.025065e+07   444.564106  314.244927   \n",
      "3.993994e+04  3.625461e+08  1.091827e+07   443.156624  320.958902   \n",
      "4.204204e+04  3.634758e+08  1.160004e+07   441.297679  327.695827   \n",
      "4.414414e+04  3.644011e+08  1.229595e+07   438.997300  334.401243   \n",
      "4.624625e+04  3.653212e+08  1.300588e+07   436.272797  341.026934   \n",
      "4.834835e+04  3.662350e+08  1.372961e+07   433.147063  347.531538   \n",
      "5.045045e+04  3.671419e+08  1.446686e+07   429.646940  353.880719   \n",
      "5.255255e+04  3.680411e+08  1.521727e+07   425.801732  360.046987   \n",
      "5.465465e+04  3.689319e+08  1.598043e+07   421.641929  366.009247   \n",
      "5.675676e+04  3.698136e+08  1.675589e+07   417.198163  371.752194   \n",
      "5.885886e+04  3.706857e+08  1.754319e+07   412.500398  377.265603   \n",
      "6.096096e+04  3.715477e+08  1.834183e+07   407.577341  382.543592   \n",
      "...                    ...           ...          ...         ...   \n",
      "2.039039e+06  1.243771e+08 -1.187017e+08  1722.197974  -35.306519   \n",
      "2.041141e+06  1.279761e+08 -1.187557e+08  1702.077109  -16.262687   \n",
      "2.043243e+06  1.315332e+08 -1.187706e+08  1682.315006    1.934467   \n",
      "2.045345e+06  1.350491e+08 -1.187481e+08  1662.905532   19.335542   \n",
      "2.047447e+06  1.385246e+08 -1.186899e+08  1643.842134   35.987290   \n",
      "2.049550e+06  1.419604e+08 -1.185973e+08  1625.117958   51.932963   \n",
      "2.051652e+06  1.453572e+08 -1.184720e+08  1606.725946   67.212625   \n",
      "2.053754e+06  1.487156e+08 -1.183152e+08  1588.658912   81.863432   \n",
      "2.055856e+06  1.520365e+08 -1.181282e+08  1570.909610   95.919883   \n",
      "2.057958e+06  1.553203e+08 -1.179123e+08  1553.470785  109.414046   \n",
      "2.060060e+06  1.585678e+08 -1.176686e+08  1536.335217  122.375767   \n",
      "2.062162e+06  1.617796e+08 -1.173982e+08  1519.495756  134.832850   \n",
      "2.064264e+06  1.649563e+08 -1.171021e+08  1502.945350  146.811229   \n",
      "2.066366e+06  1.680985e+08 -1.167813e+08  1486.677066  158.335116   \n",
      "2.068468e+06  1.712067e+08 -1.164367e+08  1470.684113  169.427143   \n",
      "2.070571e+06  1.742817e+08 -1.160693e+08  1454.959846  180.108481   \n",
      "2.072673e+06  1.773239e+08 -1.156798e+08  1439.497788  190.398960   \n",
      "2.074775e+06  1.803338e+08 -1.152690e+08  1424.291628  200.317168   \n",
      "2.076877e+06  1.833121e+08 -1.148378e+08  1409.335234  209.880549   \n",
      "2.078979e+06  1.862591e+08 -1.143869e+08  1394.622651  219.105485   \n",
      "2.081081e+06  1.891755e+08 -1.139169e+08  1380.148108  228.007378   \n",
      "2.083183e+06  1.920617e+08 -1.134285e+08  1365.906016  236.600720   \n",
      "2.085285e+06  1.949182e+08 -1.129224e+08  1351.890968  244.899163   \n",
      "2.087387e+06  1.977455e+08 -1.123991e+08  1338.097741  252.915573   \n",
      "2.089489e+06  2.005440e+08 -1.118593e+08  1324.521290  260.662091   \n",
      "2.091592e+06  2.033142e+08 -1.113034e+08  1311.156750  268.150182   \n",
      "2.093694e+06  2.060565e+08 -1.107321e+08  1297.999433  275.390682   \n",
      "2.095796e+06  2.087714e+08 -1.101458e+08  1285.044824  282.393843   \n",
      "2.097898e+06  2.114592e+08 -1.095450e+08  1272.288579  289.169371   \n",
      "2.100000e+06  2.141205e+08 -1.089302e+08  1259.726520  295.726466   \n",
      "\n",
      "                        mx            my         mvx          mvy  \n",
      "0.000000e+00  3.844723e+08  0.000000e+00    0.000000  1000.000000  \n",
      "2.102102e+03  3.844638e+08  2.102081e+06   -5.667953   999.978061  \n",
      "4.204204e+03  3.844440e+08  4.204076e+06  -11.335802   999.926347  \n",
      "6.306306e+03  3.844142e+08  6.305944e+06  -17.003417   999.848873  \n",
      "8.408408e+03  3.843725e+08  8.407615e+06  -22.670568   999.740411  \n",
      "1.051051e+04  3.843189e+08  1.050903e+07  -28.337095   999.600964  \n",
      "1.261261e+04  3.842533e+08  1.261012e+07  -34.002845   999.430534  \n",
      "1.471471e+04  3.841759e+08  1.471082e+07  -39.667653   999.229126  \n",
      "1.681682e+04  3.840866e+08  1.681106e+07  -45.331361   998.996744  \n",
      "1.891892e+04  3.839853e+08  1.891078e+07  -50.993811   998.733392  \n",
      "2.102102e+04  3.838722e+08  2.100991e+07  -56.654851   998.439076  \n",
      "2.312312e+04  3.837471e+08  2.310840e+07  -62.314322   998.113802  \n",
      "2.522523e+04  3.836102e+08  2.520617e+07  -67.972065   997.757578  \n",
      "2.732733e+04  3.834614e+08  2.730315e+07  -73.627925   997.370410  \n",
      "2.942943e+04  3.833007e+08  2.939929e+07  -79.281744   996.952307  \n",
      "3.153153e+04  3.831281e+08  3.149452e+07  -84.933365   996.503278  \n",
      "3.363363e+04  3.829436e+08  3.358878e+07  -90.582633   996.023331  \n",
      "3.573574e+04  3.827472e+08  3.568199e+07  -96.229388   995.512479  \n",
      "3.783784e+04  3.825390e+08  3.777409e+07 -101.873476   994.970730  \n",
      "3.993994e+04  3.823189e+08  3.986503e+07 -107.514739   994.398097  \n",
      "4.204204e+04  3.820870e+08  4.195472e+07 -113.153020   993.794592  \n",
      "4.414414e+04  3.818432e+08  4.404312e+07 -118.788163   993.160228  \n",
      "4.624625e+04  3.815876e+08  4.613015e+07 -124.420010   992.495017  \n",
      "4.834835e+04  3.813201e+08  4.821575e+07 -130.048405   991.798975  \n",
      "5.045045e+04  3.810409e+08  5.029985e+07 -135.673192   991.072115  \n",
      "5.255255e+04  3.807497e+08  5.238240e+07 -141.294213   990.314454  \n",
      "5.465465e+04  3.804468e+08  5.446332e+07 -146.911312   989.526007  \n",
      "5.675676e+04  3.801321e+08  5.654255e+07 -152.524332   988.706791  \n",
      "5.885886e+04  3.798056e+08  5.862002e+07 -158.133117   987.856824  \n",
      "6.096096e+04  3.794673e+08  6.069568e+07 -163.737510   986.976123  \n",
      "...                    ...           ...         ...          ...  \n",
      "2.039039e+06  3.248210e+08 -2.017108e+08  546.906222   843.992206  \n",
      "2.041141e+06  3.259655e+08 -1.999335e+08  542.029844   847.001749  \n",
      "2.043243e+06  3.270998e+08 -1.981499e+08  537.137940   849.983666  \n",
      "2.045345e+06  3.282238e+08 -1.963600e+08  532.230659   852.937888  \n",
      "2.047447e+06  3.293374e+08 -1.945640e+08  527.308152   855.864348  \n",
      "2.049550e+06  3.304407e+08 -1.927618e+08  522.370569   858.762979  \n",
      "2.051652e+06  3.315335e+08 -1.909536e+08  517.418062   861.633716  \n",
      "2.053754e+06  3.326160e+08 -1.891393e+08  512.450780   864.476494  \n",
      "2.055856e+06  3.336880e+08 -1.873192e+08  507.468875   867.291247  \n",
      "2.057958e+06  3.347495e+08 -1.854931e+08  502.472497   870.077912  \n",
      "2.060060e+06  3.358005e+08 -1.836612e+08  497.461799   872.836425  \n",
      "2.062162e+06  3.368409e+08 -1.818235e+08  492.436931   875.566726  \n",
      "2.064264e+06  3.378708e+08 -1.799801e+08  487.398045   878.268751  \n",
      "2.066366e+06  3.388900e+08 -1.781311e+08  482.345292   880.942441  \n",
      "2.068468e+06  3.398986e+08 -1.762765e+08  477.278824   883.587734  \n",
      "2.070571e+06  3.408966e+08 -1.744164e+08  472.198794   886.204572  \n",
      "2.072673e+06  3.418838e+08 -1.725507e+08  467.105353   888.792897  \n",
      "2.074775e+06  3.428604e+08 -1.706797e+08  461.998653   891.352648  \n",
      "2.076877e+06  3.438262e+08 -1.688033e+08  456.878847   893.883771  \n",
      "2.078979e+06  3.447812e+08 -1.669217e+08  451.746088   896.386208  \n",
      "2.081081e+06  3.457254e+08 -1.650348e+08  446.600526   898.859903  \n",
      "2.083183e+06  3.466588e+08 -1.631427e+08  441.442317   901.304801  \n",
      "2.085285e+06  3.475813e+08 -1.612455e+08  436.271611   903.720847  \n",
      "2.087387e+06  3.484929e+08 -1.593433e+08  431.088562   906.107989  \n",
      "2.089489e+06  3.493937e+08 -1.574361e+08  425.893324   908.466173  \n",
      "2.091592e+06  3.502835e+08 -1.555239e+08  420.686048   910.795346  \n",
      "2.093694e+06  3.511623e+08 -1.536069e+08  415.466889   913.095457  \n",
      "2.095796e+06  3.520302e+08 -1.516851e+08  410.236000   915.366456  \n",
      "2.097898e+06  3.528870e+08 -1.497586e+08  404.993534   917.608292  \n",
      "2.100000e+06  3.537328e+08 -1.478273e+08  399.739645   919.820915  \n",
      "\n",
      "[1000 rows x 8 columns]\n"
     ]
    }
   ],
   "source": [
    "print(results2)"
   ]
  },
  {
   "cell_type": "code",
   "execution_count": 41,
   "metadata": {},
   "outputs": [
    {
     "name": "stdout",
     "output_type": "stream",
     "text": [
      "384472280.99998194\n"
     ]
    }
   ],
   "source": [
    "print(results2.mx[results2.index[10]])\n",
    "\n"
   ]
  },
  {
   "cell_type": "code",
   "execution_count": 54,
   "metadata": {},
   "outputs": [
    {
     "data": {
      "image/png": "[encoded data removed]",
      "text/plain": [
       "<Figure size 432x288 with 1 Axes>"
      ]
     },
     "metadata": {},
     "output_type": "display_data"
    }
   ],
   "source": [
    "fig = plt.figure()\n",
    "ax = plt.axes(xlim=(-4e8, 4e8), ylim=(-1e8, 4e8))\n",
    "line, = ax.plot([], [], lw=2)"
   ]
  },
  {
   "cell_type": "code",
   "execution_count": 55,
   "metadata": {},
   "outputs": [],
   "source": [
    "def init():\n",
    "    line.set_data([], [])\n",
    "    return line,"
   ]
  },
  {
   "cell_type": "code",
   "execution_count": 56,
   "metadata": {},
   "outputs": [],
   "source": [
    "def animate(i):\n",
    "    x = np.linspace(0, 2, 1000)\n",
    "    y = np.sin(2 * np.pi * (x - 0.01 * i))\n",
    "    line.set_data(x, y)\n",
    "    return line,"
   ]
  },
  {
   "cell_type": "code",
   "execution_count": 57,
   "metadata": {},
   "outputs": [],
   "source": [
    "rc('animation', html='html5')\n"
   ]
  },
  {
   "cell_type": "code",
   "execution_count": 65,
   "metadata": {},
   "outputs": [],
   "source": [
    "def animate1(i):\n",
    "    x = results2.mx[results2.index[i]]\n",
    "    y = results2.my[results2.index[i]]\n",
    "    line.set_data(x, y)\n",
    "    return line,"
   ]
  },
  {
   "cell_type": "code",
   "execution_count": 66,
   "metadata": {
    "scrolled": true
   },
   "outputs": [
    {
     "data": {
      "text/html": [
       "<video width=\"432\" height=\"288\" controls autoplay loop>\n",
       "  <source type=\"video/mp4\" src=\"data:video/mp4;base64,AAAAHGZ0eXBNNFYgAAACAGlzb21pc28yYXZjMQAAAAhmcmVlAAAN4m1kYXQAAAKtBgX//6ncRem9\n",
       "5tlIt5Ys2CDZI+7veDI2NCAtIGNvcmUgMTU3IHIyOTM1IDU0NWRlMmYgLSBILjI2NC9NUEVHLTQg\n",
       "QVZDIGNvZGVjIC0gQ29weWxlZnQgMjAwMy0yMDE4IC0gaHR0cDovL3d3dy52aWRlb2xhbi5vcmcv\n",
       "eDI2NC5odG1sIC0gb3B0aW9uczogY2FiYWM9MSByZWY9MyBkZWJsb2NrPTE6MDowIGFuYWx5c2U9\n",
       "MHgzOjB4MTEzIG1lPWhleCBzdWJtZT03IHBzeT0xIHBzeV9yZD0xLjAwOjAuMDAgbWl4ZWRfcmVm\n",
       "PTEgbWVfcmFuZ2U9MTYgY2hyb21hX21lPTEgdHJlbGxpcz0xIDh4OGRjdD0xIGNxbT0wIGRlYWR6\n",
       "b25lPTIxLDExIGZhc3RfcHNraXA9MSBjaHJvbWFfcXBfb2Zmc2V0PS0yIHRocmVhZHM9OSBsb29r\n",
       "YWhlYWRfdGhyZWFkcz0xIHNsaWNlZF90aHJlYWRzPTAgbnI9MCBkZWNpbWF0ZT0xIGludGVybGFj\n",
       "ZWQ9MCBibHVyYXlfY29tcGF0PTAgY29uc3RyYWluZWRfaW50cmE9MCBiZnJhbWVzPTMgYl9weXJh\n",
       "bWlkPTIgYl9hZGFwdD0xIGJfYmlhcz0wIGRpcmVjdD0xIHdlaWdodGI9MSBvcGVuX2dvcD0wIHdl\n",
       "aWdodHA9MiBrZXlpbnQ9MjUwIGtleWludF9taW49NSBzY2VuZWN1dD00MCBpbnRyYV9yZWZyZXNo\n",
       "PTAgcmNfbG9va2FoZWFkPTQwIHJjPWNyZiBtYnRyZWU9MSBjcmY9MjMuMCBxY29tcD0wLjYwIHFw\n",
       "bWluPTAgcXBtYXg9NjkgcXBzdGVwPTQgaXBfcmF0aW89MS40MCBhcT0xOjEuMDAAgAAAB2RliIQA\n",
       "FP/+98dPwKbo+WbLnUU9ITCK2PpIKL1Y7NAydQAAAwAARMD9n/g8g8wHnyqmOquMp1ysbeTUFYR9\n",
       "kiGNt6/hHqBk20up70zpwc3RxKdAwT/n1RhMyU+bF/k2I+dSAmG5hA/sEuP2nVN4/cisdED6ukU4\n",
       "zmOuXfiqRGL2rBxjuy6hYyECw65g4Kr8c+rutmvfrl+hclb5hz1bvn8veV2uC4yavxPWcn3gRiaj\n",
       "8M5aFqCBEdpAJ55zya8DAMezAGgWcSFJhy56ldE1HdgFg22YzXIz6VgIRLyaH0T/6ERfd8FuLF2k\n",
       "AWyC+Ean8/dZTNS8QHabM3pQvCwABp3Z1JrR83xqoi03aorsH4AIWa9JVvuwZCHjye68Jwoq6leD\n",
       "0PuH4C00opKQoyuUDpjtgHytTzNQRM5YMj9uF36RbgYy26yfgwkh7bH9iFvCKybfmif8P4MUsnHG\n",
       "UdZTIatNza6SAaIIYNkmLdRiOoNH0gId9OkN1/yvfkEltSa/68AAZhEBDLZ7oJyw8Rpig3OQq17N\n",
       "rvxqaItYemSVrxmUmhhEqgqswxUbIEy24fqPAZhybQEicHWy4nSIWNAgTOIYAXJjP3el5Yw3BWhW\n",
       "hmz2VeqrNz8hg40+OMeqc6VVugplWRuDkYR+kxeMQpz7irSBvrai2njb7oGp0XLxIjAyR/H5EL3l\n",
       "wfoGRHB3/Ga4aRi6ZkX+5cUtdpmbArVRsqOQp2CqYhZh1/0Sazwg/8Papgu4t3uWoBYwy06jB4Rd\n",
       "zkn5JH71j2b8xDfPszVqtbtNl6PNgn/UXkNQhgz4GNQd/+edrraH3gmp7eEISN6lFkf85gWjku4l\n",
       "Vf7AVjMpaorsGf3kvYLG3AADnlWa9vtxy7S4lEy2YQEnfA5IVy67gn4ROs2JvezapzDR7upFL8m9\n",
       "nv/bLc53no7skrDspM99oB+fTQSXS9DdSaUk+GFvQAd83kt6wZ1olCNs9RLbRRWZnPDQvEIR0iie\n",
       "cfcuJBVd4TdakKs+/lXbkaQDawFgG7UjSM2NTJsin8UiUQjmq7GmQ7g8bLEBgNizKZtwWDJudrSo\n",
       "ySPJnrFuC2ndQ54nvUUI0cS1dYF5OLoUNs18y1B7iSYPbRuvZZ4Sf/46vdGwzIQwOdimAeO6wEg/\n",
       "RXbZTB9dpnqCqKTTnw/JbPtt6TOT0e9z+a616lng9TtBFOlMYSqt5QSL3FlehZogf9ebql9Sy9e/\n",
       "+pO2HZrdQC5WBTAiJ6JDgkZaffswxLLwbgUcsf7RA3qD+c33Wgnaaon9+lb/QP4zue9HR1MkhSo5\n",
       "3BghXkQUv+P6B3YsThHi8MAgwjNLB/esQauiaC5OeRRB/JeySsfktRWUZQEWShQOMiBTzNo1y9kI\n",
       "br00h3h4FPrSOvZyZh0mQQZrY5SYqNO0t+d/ojacqYgKvTtPbSrYopSZFckRiTMNKTzeLjztuuNN\n",
       "qzkSZbVEKZ30WQg3pnRUgP3i1a+oM+7ZVSSKBzleH/20umw0/T2kNmOLj8HkEE227Mv0lmSGA5hC\n",
       "uEDrLsTJHOAFeFfA9JIxHop02E33X1ZCH2PDw3KRc9j8PK3SPC38ImkNToLVKDJ+k66PikLjuxbn\n",
       "upsES4JSssa78W8ZG/HmgJepWyXZJq4NxqN5xr9qj0jXGBgMD4NlkqXrw9sBliz6zit1f+fH8A2H\n",
       "i4ktz9IjmB6QPM0f7Kvp6HKAxky+95pWU7j73/nalLn0EQsW2MKZriNkOPWiDclibblvI3DyF3Zi\n",
       "70btkxQYLmaAk8Z2LBSmFctdxI/mdPBv3P1pW0cDETAUSbiRtuv94R7uTwLqZUinxyp/KNKiiHUF\n",
       "BOgVp3OmbozA/gHiPtJys7MWZlxewiY/H7MZMKFNt4HJuIqv+yxkOiAnWe03XbBz4GxbWeBoqJta\n",
       "kNQYI4hIk1n5dXQ9nBORyYo8G/K5e6PHuA7CyMY3kRlw2CsMUNibSuDtedqtSSNVUVP7s0bVa+Sb\n",
       "g7ZP/o/l93P/QNU/N8y5ft1BwIkY7hdxbdYYPHOVIP9dti285PSPdH/+wcgludEhz6Wte5H6a+xG\n",
       "DmHhKyKu2Yu2PtFcFi3PvJxyeqY+ywCLGVgQdb6cf2pAxMhTa874ZIbShzhekRZDJDSTg+x0gcO9\n",
       "BMIhApEIkFun2Z0Tg+1TRm836Kf4dGA+FnmhD4OG3hJClqIxzzu3mEhQvZicHAvipbJNmsXGmtY0\n",
       "ZfpcB9cm/osLCl0GHhn1YSuW/EwAIophADKrxQ2SMcgDmddIjNTstRIp+hNEsSX6NS/W9pBDxRVW\n",
       "/B3WXyiD9o0RlWlD3VSvDNhUWfu7GHhqyt5begVmOaw4zbekL/fRz+pwuG/VczX+P0IC7xL+dJMt\n",
       "1eKB/xDslxfqpSuTVvyu1m01lkcWhHOAMF7ughjewi6/ng5p6Grm05dxzElBGmp2ZjbsjObIlNAZ\n",
       "phfTXhXTJK0+FzgmhlNhg5r1KaoFSbWzp6tPJ0Q9R/hB7taVyJaTmGgWcIkSYPwQU7MtsQMNjauL\n",
       "aQZ0EQ6T4QAAAD9BmiRsQU/+1oywCaLfSKAQPI01ptqywprztM7FSmx1EYRdvcb1+Si92hmOFYVH\n",
       "WDA96HwMxFFJgaCtnwZXRkAAAAASQZ5CeIIfAAkqHtfmVjTVuxg5AAAADAGeYXRD/wAAAwBWwAAA\n",
       "AAwBnmNqQ/8AAAMAVsEAAAAUQZpoSahBaJlMCCn//taMsAAAB90AAAAOQZ6GRREsEP8AAAMAJuEA\n",
       "AAAMAZ6ldEP/AAADAFbBAAAADAGep2pD/wAAAwBWwAAAABRBmqxJqEFsmUwIKf/+1oywAAAH3AAA\n",
       "AA5BnspFFSwQ/wAAAwAm4QAAAAwBnul0Q/8AAAMAVsAAAAAMAZ7rakP/AAADAFbAAAAAFEGa8Emo\n",
       "QWyZTAgp//7WjLAAAAfdAAAADkGfDkUVLBD/AAADACbhAAAADAGfLXRD/wAAAwBWwQAAAAwBny9q\n",
       "Q/8AAAMAVsAAAAAUQZs0SahBbJlMCCn//taMsAAAB9wAAAAOQZ9SRRUsEP8AAAMAJuEAAAAMAZ9x\n",
       "dEP/AAADAFbAAAAADAGfc2pD/wAAAwBWwAAAABRBm3hJqEFsmUwIKf/+1oywAAAH3QAAAA5Bn5ZF\n",
       "FSwQ/wAAAwAm4AAAAAwBn7V0Q/8AAAMAVsEAAAAMAZ+3akP/AAADAFbBAAAAFEGbvEmoQWyZTAgp\n",
       "//7WjLAAAAfcAAAADkGf2kUVLBD/AAADACbhAAAADAGf+XRD/wAAAwBWwAAAAAwBn/tqQ/8AAAMA\n",
       "VsEAAAAUQZvgSahBbJlMCCf//rUqgAAAHrEAAAAOQZ4eRRUsEP8AAAMAJuAAAAAMAZ49dEP/AAAD\n",
       "AFbAAAAADAGeP2pD/wAAAwBWwQAAABRBmiRJqEFsmUwIJ//+tSqAAAAesAAAAA5BnkJFFSwQ/wAA\n",
       "AwAm4QAAAAwBnmF0Q/8AAAMAVsAAAAAMAZ5jakP/AAADAFbBAAAAFEGaaEmoQWyZTAgn//61KoAA\n",
       "AB6xAAAADkGehkUVLBD/AAADACbhAAAADAGepXRD/wAAAwBWwQAAAAwBnqdqQ/8AAAMAVsAAAAAU\n",
       "QZqsSahBbJlMCCX//rUqgAAAHrAAAAAOQZ7KRRUsEP8AAAMAJuEAAAAMAZ7pdEP/AAADAFbAAAAA\n",
       "DAGe62pD/wAAAwBWwAAAABVBmvBJqEFsmUwIIf/+qlUAAAMAPWEAAAAOQZ8ORRUsEP8AAAMAJuEA\n",
       "AAAMAZ8tdEP/AAADAFbBAAAADAGfL2pD/wAAAwBWwAAAABVBmzFJqEFsmUwIf//+qZYAAAMA8IAA\n",
       "AAWGbW9vdgAAAGxtdmhkAAAAAAAAAAAAAAAAAAAD6AAAJxAAAQAAAQAAAAAAAAAAAAAAAAEAAAAA\n",
       "AAAAAAAAAAAAAAABAAAAAAAAAAAAAAAAAABAAAAAAAAAAAAAAAAAAAAAAAAAAAAAAAAAAAAAAAAA\n",
       "AgAABLB0cmFrAAAAXHRraGQAAAADAAAAAAAAAAAAAAABAAAAAAAAJxAAAAAAAAAAAAAAAAAAAAAA\n",
       "AAEAAAAAAAAAAAAAAAAAAAABAAAAAAAAAAAAAAAAAABAAAAAAbAAAAEgAAAAAAAkZWR0cwAAABxl\n",
       "bHN0AAAAAAAAAAEAACcQAAAQAAABAAAAAAQobWRpYQAAACBtZGhkAAAAAAAAAAAAAAAAAAAoAAAB\n",
       "kABVxAAAAAAALWhkbHIAAAAAAAAAAHZpZGUAAAAAAAAAAAAAAABWaWRlb0hhbmRsZXIAAAAD021p\n",
       "bmYAAAAUdm1oZAAAAAEAAAAAAAAAAAAAACRkaW5mAAAAHGRyZWYAAAAAAAAAAQAAAAx1cmwgAAAA\n",
       "AQAAA5NzdGJsAAAAs3N0c2QAAAAAAAAAAQAAAKNhdmMxAAAAAAAAAAEAAAAAAAAAAAAAAAAAAAAA\n",
       "AbABIABIAAAASAAAAAAAAAABAAAAAAAAAAAAAAAAAAAAAAAAAAAAAAAAAAAAAAAAAAAAGP//AAAA\n",
       "MWF2Y0MBZAAV/+EAGGdkABWs2UGwloQAAAMABAAAAwAoPFi2WAEABmjr48siwAAAABx1dWlka2hA\n",
       "8l8kT8W6OaUbzwMj8wAAAAAAAAAYc3R0cwAAAAAAAAABAAAAMgAACAAAAAAUc3RzcwAAAAAAAAAB\n",
       "AAAAAQAAAaBjdHRzAAAAAAAAADIAAAABAAAQAAAAAAEAACgAAAAAAQAAEAAAAAABAAAAAAAAAAEA\n",
       "AAgAAAAAAQAAKAAAAAABAAAQAAAAAAEAAAAAAAAAAQAACAAAAAABAAAoAAAAAAEAABAAAAAAAQAA\n",
       "AAAAAAABAAAIAAAAAAEAACgAAAAAAQAAEAAAAAABAAAAAAAAAAEAAAgAAAAAAQAAKAAAAAABAAAQ\n",
       "AAAAAAEAAAAAAAAAAQAACAAAAAABAAAoAAAAAAEAABAAAAAAAQAAAAAAAAABAAAIAAAAAAEAACgA\n",
       "AAAAAQAAEAAAAAABAAAAAAAAAAEAAAgAAAAAAQAAKAAAAAABAAAQAAAAAAEAAAAAAAAAAQAACAAA\n",
       "AAABAAAoAAAAAAEAABAAAAAAAQAAAAAAAAABAAAIAAAAAAEAACgAAAAAAQAAEAAAAAABAAAAAAAA\n",
       "AAEAAAgAAAAAAQAAKAAAAAABAAAQAAAAAAEAAAAAAAAAAQAACAAAAAABAAAoAAAAAAEAABAAAAAA\n",
       "AQAAAAAAAAABAAAIAAAAAAEAABAAAAAAHHN0c2MAAAAAAAAAAQAAAAEAAAAyAAAAAQAAANxzdHN6\n",
       "AAAAAAAAAAAAAAAyAAAKGQAAAEMAAAAWAAAAEAAAABAAAAAYAAAAEgAAABAAAAAQAAAAGAAAABIA\n",
       "AAAQAAAAEAAAABgAAAASAAAAEAAAABAAAAAYAAAAEgAAABAAAAAQAAAAGAAAABIAAAAQAAAAEAAA\n",
       "ABgAAAASAAAAEAAAABAAAAAYAAAAEgAAABAAAAAQAAAAGAAAABIAAAAQAAAAEAAAABgAAAASAAAA\n",
       "EAAAABAAAAAYAAAAEgAAABAAAAAQAAAAGQAAABIAAAAQAAAAEAAAABkAAAAUc3RjbwAAAAAAAAAB\n",
       "AAAALAAAAGJ1ZHRhAAAAWm1ldGEAAAAAAAAAIWhkbHIAAAAAAAAAAG1kaXJhcHBsAAAAAAAAAAAA\n",
       "AAAALWlsc3QAAAAlqXRvbwAAAB1kYXRhAAAAAQAAAABMYXZmNTguMjMuMTAy\n",
       "\">\n",
       "  Your browser does not support the video tag.\n",
       "</video>"
      ],
      "text/plain": [
       "<matplotlib.animation.FuncAnimation at 0x222d94d1b70>"
      ]
     },
     "execution_count": 66,
     "metadata": {},
     "output_type": "execute_result"
    }
   ],
   "source": [
    "anim = animation.FuncAnimation(fig, animate1, init_func=init,\n",
    "                               frames=50, interval=200, blit=True)\n"
   ]
  },
  {
   "cell_type": "code",
   "execution_count": 23,
   "metadata": {},
   "outputs": [
    {
     "data": {
      "text/html": [
       "<video width=\"432\" height=\"288\" controls autoplay loop>\n",
       "  <source type=\"video/mp4\" src=\"data:video/mp4;base64,AAAAHGZ0eXBNNFYgAAACAGlzb21pc28yYXZjMQAAAAhmcmVlAAAqwm1kYXQAAAKtBgX//6ncRem9\n",
       "5tlIt5Ys2CDZI+7veDI2NCAtIGNvcmUgMTU3IHIyOTM1IDU0NWRlMmYgLSBILjI2NC9NUEVHLTQg\n",
       "QVZDIGNvZGVjIC0gQ29weWxlZnQgMjAwMy0yMDE4IC0gaHR0cDovL3d3dy52aWRlb2xhbi5vcmcv\n",
       "eDI2NC5odG1sIC0gb3B0aW9uczogY2FiYWM9MSByZWY9MyBkZWJsb2NrPTE6MDowIGFuYWx5c2U9\n",
       "MHgzOjB4MTEzIG1lPWhleCBzdWJtZT03IHBzeT0xIHBzeV9yZD0xLjAwOjAuMDAgbWl4ZWRfcmVm\n",
       "PTEgbWVfcmFuZ2U9MTYgY2hyb21hX21lPTEgdHJlbGxpcz0xIDh4OGRjdD0xIGNxbT0wIGRlYWR6\n",
       "b25lPTIxLDExIGZhc3RfcHNraXA9MSBjaHJvbWFfcXBfb2Zmc2V0PS0yIHRocmVhZHM9OSBsb29r\n",
       "YWhlYWRfdGhyZWFkcz0xIHNsaWNlZF90aHJlYWRzPTAgbnI9MCBkZWNpbWF0ZT0xIGludGVybGFj\n",
       "ZWQ9MCBibHVyYXlfY29tcGF0PTAgY29uc3RyYWluZWRfaW50cmE9MCBiZnJhbWVzPTMgYl9weXJh\n",
       "bWlkPTIgYl9hZGFwdD0xIGJfYmlhcz0wIGRpcmVjdD0xIHdlaWdodGI9MSBvcGVuX2dvcD0wIHdl\n",
       "aWdodHA9MiBrZXlpbnQ9MjUwIGtleWludF9taW49NSBzY2VuZWN1dD00MCBpbnRyYV9yZWZyZXNo\n",
       "PTAgcmNfbG9va2FoZWFkPTQwIHJjPWNyZiBtYnRyZWU9MSBjcmY9MjMuMCBxY29tcD0wLjYwIHFw\n",
       "bWluPTAgcXBtYXg9NjkgcXBzdGVwPTQgaXBfcmF0aW89MS40MCBhcT0xOjEuMDAAgAAAB2hliIQA\n",
       "E//+97GPgU3IAA2XOop6H+EVsfSQUXqx2aBk6gAAAwAAiYH638EyPqBS5xt4TwJSCgcPCxAF0T31\n",
       "246HGsC3TMtPYCARzaNvQVzC2ICqF359UYTMlPmxf4rla/KeoWXMIH9glx+xSpvH7kVjogfV0inG\n",
       "cx1t68VSIxe1YOMd2XULGQgWWdl0R7eRn1d1s179cv0Lk93azH6ttQuvLRXaXGTV+J6zk+8CMTQJ\n",
       "hnLQtQQIjtIBPPOeT3gYBj2YA0CziQpMOXPUrNd07sAsG2zGa5GfSr/iQeTQ+if/QiL7vgtxYucg\n",
       "C2QXwjU/n7rKaeXn79vLzxpAiccjaAAAomzeJkP25LRUaeZA4fUQ56tYuq9jfdgyEPHk914ThRVw\n",
       "K8HofcPwFppRSUg9lcoHTHbAPlanmagkfHlAlK4u/SLcDGW3WT8FukPbY/sQt4RWTb8ef/Yb6EVg\n",
       "84x1Tw2lDx/fwxFqt1AAAyKqeb8heuyTFuoxHUGj6QENErwEzSu489EqgEqXhiqZABvigJ1ceWim\n",
       "wls13jVkumEQMfJ3LXs/8oVP811F11T3GCBuYiOsm7b6iPcLY/SJ5/Lpi8DwPjyVT7OadkAAVH4g\n",
       "fQXSzwjmljT3+3R0xaGi++gwkGRW8Ye/1lrcM8jA/y2EBoRzLTLfRxu3iAwr2FPD0lVagO14SqsU\n",
       "xDPX9lzoiGFKYMu58wmhnbmdgQoHneygHXyKPZZz+7bT9+cUlJ/BG+tVayKH5NZ4Qf+HvA7WDziM\n",
       "M3Bu9XCuDbC3BQc/96GkdKbIR1O4Z5foPx03l9zFHMi5Hgw81zEwAM8iojX8ms0Heb7lZYrYbXVU\n",
       "zqBrUpWAh6h0n/wW7K/ZJ3Ddgbv+i3PAJWu9wmsbcDUE7ybZ7GdqCrBEu4rWSKrFG/nIeTRitVOw\n",
       "xDwv38pjHlu98w+DY94Tx0Zyw4SWs6XwgfCdnmNhsuGygwbrAsP9fNQV9gzsAzoHtCvlKRJcSSQN\n",
       "w7b7tZzuW871gevatg/X8kZ13cFWYTd2QHDZkjQQcI1D4SV0DekDgRKZ5qf7QKp9PFy8KE1V+7Bk\n",
       "3POuYZJHZpMG12gay+EYl7UUI0cS1dP7RZ3ZBHMM6U4O6GWHBHG69lnu3//R97kbAFpVA72sHWG3\n",
       "NobsQn+Yuamo7687H1c4pAH79c8aesYJJZXP8qm/ycuV9wEcRzAOLtU9BKjQWBjx8q+KpZfozx1c\n",
       "qX1LL87/5V9IXQ1SXt19+L0boGBsFON+7+m5dddFvejlj/aIG9Qfzqe68E7TJE/yEMPQnXAGWl1S\n",
       "aFlrTjw3IlQsNH/R7Pqm4UiNWVspEHZB0dxPb0dYYwck0Fyc8iiD+S9klY/JahckoBSbadRrPbjK\n",
       "uZ9X2ISdTPqfVdLEd+s+swt0f7MRbgzWxyksEadpb87/RG05UxAVevae2lWxRSkyK5Jb335fA0PE\n",
       "nibxWStDODnCmdHkegqS8oPe0+YD94tWvqHCu2VUkigc5bB/9tLpsNP09moZOXyVJe5Ewqe5p0SZ\n",
       "93BDS5XCB1l2JlQ4UCvCvgekkYj0U6bCv7r6shD7Hh4blIuWU4Egt3ZF98Ns9HRvMk3y8M5f8eeq\n",
       "A5Nn/aW4pGkItvd2LStqzdXM42vVFQBHj+u9yPwTDMnZaJ3litcOVOkcUfV1Cx/yRNYs/dGBxav+\n",
       "I+nEy4oEv9QkRzA9IHmbD9lXzHyV7iF15M/F93Y/yCLej4Ka/1uNWaTLZTjyMonsy+0Bk/H5G4eQ\n",
       "u7J3ejeDJI5FczQHCb+KJc9i6OL6gJKzp4N+6DtDJU9YQO4+dL6p5a/LXAmWKUIoYFD6N4FhNCi5\n",
       "qUz5WrnnDYZ3DdvMH8A8R9pOVnZizMuFfETH4/ZjJhQptu8YsdiR/2WMYp5ifJuNDSEX8rIt+89v\n",
       "evLJvXTxiOANOSncjRyf9IpNqdBMqOWEzpG8EfxOnPSCIpqctDipOJG1c/EdlQmNofzKVOuQAEck\n",
       "84H8gIn/0fy+8c/QNU/N8y6ft1BwIkY7hdxbdYYQV8r5993yHA56Q7iI5ZThVYbFMTSUJh7deTZR\n",
       "0ran80YimIVRdsfaK4LFufeTjk9Ux9lgEWMrAg6304/tSBiZChzHVZ9jA+vlnUhCyRtVoSk9bpQJ\n",
       "gdDrxCsGrv/b22REmTuzw4uiGRs0FQDT5ZBatE0XSVSSVogued28wkKF7MTg4F8VLZJs1i40wLGj\n",
       "L9LgPrk39FhYUskeHXobPN5GeMrM93+++zWZpfjQe965mGHVOCS1h7IWMg6s182rY3/rhp3h0+h8\n",
       "UBnE2q0Dy8TPULpdMfuRShr1tL7LYVFoBW+lMasreW3oFZjmsOM23pC/30c/qb9ol3zM1/j9CBG8\n",
       "S/nSTLdXigf8Q67cX6qUrk1b8rtZlNZZHFoRzgDBe7o4Y3sIuv54Oaehq5taXccxJQRpqdmY27fR\n",
       "1Mz7x744X014WEyStPhc4JoZTYYOd/Lwv/Vpip6M5/HJKZQ6yVqshQ8RLScw0CzhEiTB+CCnYCMi\n",
       "BhsbVxbSDOgh9KEAAABwQZokbEE//rUqgCSLGDkAa9v9xvrVleh20+AHH0m303sEJBVlCEQjoWuJ\n",
       "FeRos/o9LGU3Hf8E7TjCPJ6bM1zc5gfoMAl4vQ+M5CKSDzbkYU6gkE1Xk63jwENILllHp1Kh2Gwc\n",
       "KfK56E6Bm7gWVGNUDgAAACBBnkJ4gh8AAJE40+eIbfABmbyrkpo10TJmsV48d0CMjQAAABUBnmF0\n",
       "Q/8AAUcXAJdkmkXIv0JQcIAAAAATAZ5jakP/AAFHR+CnnwW5UxNNoQAAALRBmmhJqEFomUwIJf/+\n",
       "tSqAAAWbif+NIHq+ACIVJvdhFL0BcnzAONBwrMZdHCisCqN35kwo7kSTqTyreV3XDxjzRZoNS6/D\n",
       "4lCK1EIp+MfBOgYH2agkru5AQmZ/+IRIStkkbs97Sv9xv1sSWOD8z+zanA/e6+Xq3/YJqyjvbsoJ\n",
       "3bYPX8YUcIKRq0Ka/Q8Gu5I8yPiNO02mSPXc+/YvzZGPmRd/VvW8yYXuOd2MErGMiIedJcEAAAA3\n",
       "QZ6GRREsEP8AAJK2yNfzu7MQAhC3JQzw6oU5nFuHtdr7c5cVw43sOwZIUwLHWt69+EgIh4966wAA\n",
       "ABsBnqV0Q/8AAUcXAJeHBApx0ARumQ3FciP5CmEAAAA1AZ6nakP/AAFHR+CnjCIyNGa1ACPiRRKB\n",
       "dSMfMaSrXgALq6C3I5vKR7PLgvhAoUwcWKu94IAAAAHuQZqqSahBbJlMFEwS//61KoAACzcT/wgq\n",
       "eQBfm72XDnLxCSqO2/+bJJdotA7NWmq85MyTEG+aHJw53HnkdvbP8UaGmuGZV+Hl37kNsM3xRqW6\n",
       "3DyXpf7Yj+mmdQjkI6/tqHwRJj0WqF+AeQE82Pr2tHoSLkkCnehltVCasbMegh06tN/V07YX5vUJ\n",
       "uFk9JF0nMc9Svznn68zKJlr6b6PQPjZjhWBzLm5bWDlbMwfdpxZGFslfTKyOth7uSqM6L7nzNahJ\n",
       "aevYerdDHkiSw3qLiHVk+fZcI4PEgvJX5cIXH3SW2jE7zWNkiv3D9dLAButmFRVA3sQTdWmZx5VE\n",
       "ESiOybHRplnzbwzr+ORcgeJ7sgLVdH3pi1Beyg0ocD5R8llp7qdrkxUo+WImhRFjA3uiXNHdVBCn\n",
       "B7Joj4Hz/GWjRnHmew8tcSAXUAukkQzBSgzQvaZ67WiFAsMmxuWH542eLOz+m9UwKjX2mGFIXUiu\n",
       "YyU/5xwyQEctjqG/va8AtOybb9yAvK1TooPen/kJNtKNLGF7k9ZWZy+W7ugzi2CoCWdEw1zw3xyS\n",
       "hNdp8Z5q4mQdjd9wuCeL8I7BJqJN0MnpeGU9Hd3v41ZZfAfeOoV7aR6/BZyvrrXOTvspVDEnXiYV\n",
       "Y1Q0VGTmaaECD+qzYb4AAADMAZ7JakP/AAFHXTQds0+tIy/8nscAzfu2AFvXWDjY9htsAbs4OoX7\n",
       "/6gVjHXhiEBKzwfT1cfLxhwpUrIDFLkqjE9vBTf+//iZBm/ea+5C4rzt27IiExkSkwu3UVU0pLD3\n",
       "OrtOmGu4nf71cX6tukVbMKa4htewPy5UY/gXUdowG2nydj5yPGmSUavIy2qAKWse5BMG3vDQ1feT\n",
       "cIuUmcIC3ihDPN5CqLrhX1RtjsGlaQJvfPtQr1czDh7le41YDQHgmZkdFSVByQe5o0YRAAAA8EGa\n",
       "y0nhClJlMCCX//61KoAAC38T/wUEauNzkg59QdMJM7OGD526MHEIsMxslZnMW8o7Tiy8r054WDyt\n",
       "WlY4gnssIvw847IVhJwmMyR+tRlEMTVGr3JwC8Gqsy0F3EW6cAJT3ciJ5KKrVYIhDrWbNPccHR+o\n",
       "bAdK5D3TTgqxUmgmckgVTfYRkmkKjIR2/S8LyIeHpiRsDFVwHk7ZSYQ3EvZXueV4dxWqA2VlKGri\n",
       "rgRbuy7bsnqUc6EVZjtcZIZL0Sw1FZPnv4+NlxIWGFWrEDi7mVtBmpGiGjfCSCi5AiBEypskFz7t\n",
       "RBGIkoHwUP1lTwAAAPVBmuxJ4Q6JlMCCX/61KoAAC3bGS2lSgAtqbjGX3cZP5U3cVRe84Pafhtil\n",
       "OlhzB3ePQ1iIIkaPk51GwA4JL/f7NcNRFsQDbmVFvMD1OFO0y58mguFi72jUIQaR+btT3/Qb+yeE\n",
       "Md7lo9VXzAwpPDSBfTrNj5EwD++vuFp30qXrHUPCLkXdxIECnsLU7XHVKtumZ/t1MYXZOfasJicH\n",
       "FWrOnHl1wRAsfCz+K5RZ8lYzOKqZhpIR7ok8Biss6i757Ir7nqs7FJwYQI7BIqBnUPrleX3x05iQ\n",
       "cypiBDMdddhIrkaLFCQ5d6M+776cNlIfNuYbWdiAxAAAA6dBmw9J4Q8mUwIJf/61KoAALKTiKMwW\n",
       "t/Gu9QONmIIoiigdJucyJvDLAfnDgUUH3pLisScyU2EijzfssAv67+LtbUtLUqRA0PGCdiGP7qqc\n",
       "DBGJcy3zjhFYwlizEfT8knuLkCBnl02dP1gm8Wll8ShlBKlhu/mup8cP47SGRWa2/OZem76/xZZD\n",
       "FB3l3RvcXGatrQgbb6N2yPcBJv/cOlgPVRdiFOn3WZseCvrfd8lH3E54H00diaLJ/Nd4Hpkb26hs\n",
       "aSkQzMfdkxhBE8vy35JiwYwkBFTI2EMerlq4PWy+AgaB0N2vOOnn1btJdTFetUXVbMm+cNtn2EQs\n",
       "FHyTIlF/gemr0aj/wmBw7BIxtAKCqFbDxzikUwhHgVuOijZbLtD2RfncWmGcEIqSgAQZeuio3lsq\n",
       "Zq2ZyKRmE/9WSY9xc0w51QNy1NhMI+vBIeRAMTZmAB2omz8jMDvJkEJbIruP3aK1D9lB4fWuOcv9\n",
       "VVMiMcMrii0ozcjxb0IZ215hF7FfNxUdG98ISETtp/QaujhMrvhL1+uubhvpJgYJVb4PWAfgUeS+\n",
       "U/AW50b/XWwkqxzTPbdA9WuvnkTGu4r3J4kFqw8ziSkYKCOomNLmfvHwixL/mDLXSVIEkVV/oyap\n",
       "bIEIa9mjoaUhP5M6F2hdGUWiEZYMyy8KVWdG5QyzZoHcxmZxsJZpDo0wO47AgLkJ9kx3xG6+/l9l\n",
       "ccA4itwiCFbHKq2tnmhMcvmHVbvW4e/LbqGycABgqAT1hC/qyS9jAOhJTCf29CcsTXMJ7w3k4UeN\n",
       "icELAgYa9YhzXJLXvNR3WO4TtGT5lskHoZHDunO5We1isMiOUGu02BbUM/SG6NFVRzaNXxmxkEK7\n",
       "6fj3TW+Ejh7dztFL94GolVldLtRMwXKxUdw3E1cYzcQWEYxd8PhHWV6fdy9zFx4wwt5mYspmHMwN\n",
       "zKnb25AIdq+X88D75Vp4u0PzQKUUcC+IW9RgkcYv4zbh0z54g4p0z0tYyod+4Ln08Ra39VgJXpNc\n",
       "gWjCJW6VC7ggL9Mx93o7jrI95mvrttftD/yzfe6FFGadq0aTdkhtxzgrnSwD2eoRMgQaRtDlXHMs\n",
       "BbD1iF5MH/oWjNUfDXxGFDOfVmTDeNuZGFmUQuZJ8XMnShk1doH1O1l488FXrK1n9+CLZjF4e1Vu\n",
       "5w/rGn0sINVcpyQLL2TOlVcrhMxLEtwMPfFC78Y2Aa04zQGWlrkMsHyNOT+Eg/wt/c6WqoXI6tbp\n",
       "YQAAAQtBny1FETwQ/wAAkTjT98M1lb9EdH0qxbiGNG5GYM06zABOCtn3PnCqSd7DgxHdjfL8u/HK\n",
       "A40QhTBTOVWCdWtAKGao7irf6NQUStS9WLH65WlsA/sNdcT4vHbg4h8F+lCo91Z4DsxVwgMdp9NK\n",
       "s8Td8nyJRyZuWxqtcxp8N0gfB1gq0agq7wCf1LC9kzHfrpRkiuy2UMi5+fMQqYoGoZ8zy1ya89Vv\n",
       "TII/l3r8TaJRk1pnclURpoCB3abdo2xKDEwrKHwVsQVzRdq+97v+emEiSwQGIwvintWaLjNBlllB\n",
       "P04GoYGSfoTLa1TKk7JIgpL1nWLDdlYIoynLuWtVbeV8whSotEQb1WfpFwMAAAE/AZ9OakP/AAFH\n",
       "R+FZdXYS5osLOeX7+ywdISmgu4ALm47cLsr4BuD148nAByhbGjDlH4V8E/tauHT2j3L5YJ9o2JjT\n",
       "i0L1WmB9BlOAo9WjsES4yM3ay1mRJjtDUgOPMXitsapyEluLkAbf5+rG+ULvM8W1lgHtYgAC68Fg\n",
       "m3NSTQT/1M6WVlTVgK88Eyq0dzOabdaulXZIm0ZVxCVtEACmAAi8sYqSAG/m3qPP4R/hx863mHae\n",
       "w0SI/bZiwHvlK9vM9vBzEFFGzOyP+tkJRtS0R3/RTIsOx+zupyoijVGz638B8pB/YAV0GVeU5sKG\n",
       "FGp9ToYItt7FKxI85JVRwuNvlmVMwCKCL3INqkei9Tw70onyNH3pbcZGP4+YMeN6U5Bub4BvNE3b\n",
       "o9o43IeA56UIkQduK5sAPvfeKGpTIjbJxwAAAbRBm1BJqEFomUwIJf/+tSqAAC3bFsJQ8Zq6gON0\n",
       "AH4ABOu+gLNK47x4Q2CEeUqwCfai+x9H5GGCTqKJ04KxnzCiS8Hshe7C5z89cWnzoqRq6/7XdZHs\n",
       "IYmPdWelsKlnxxRw0SKnuezbUaRRIB2APfRZbH7DQQ9nWwLgvJQxZB0W46H7NNe7/e3+zDNacHUP\n",
       "S9fJkeoOao/cK/w10zscSizpE/yCUWoLiHxog56j2WR+zzkaIjzfmQS3byA6F/OHSQvWIt2PNJwh\n",
       "KOkdy+SXPNdzxjAlcgfkwa1kfgTiD5y2jYDsrfYf8C43HGwOy4Vnyf7W4szs2MLEjbdZohykuGxW\n",
       "vVUFH2oGVnT3J5+g62D60jucsJ/l3w9Y9PBGvIgWJE+3r9hefORxcRvaACxFx7ObXtQxHa/GYvJC\n",
       "8YpscwFnzRwYVR8ETiUnKBrB1qmSM+nWN49sT4qurUpHgg9tVytPEjpdWI0JzaItQF3y9X2+Zual\n",
       "Toc34NaKVQNuc4TQhKbIQl2SxCFTJntWtJ7srngULU9CboaI7hyUn5o9o4VqE/l8wxOtf9J7nUXy\n",
       "uSsU/OLmt+iAAAABZUGbcUnhClJlMCCX//61KoAALvsWwlCVgDpcWPyjq/U1XF4xZ4BSGGya+hHn\n",
       "zZWcVTIwNa3gJ7p+Alqtf+M/eHIJdity6ft4Ffkj23/n35qIH3j3zq5+7UD8/pHWONPPu/W9mcie\n",
       "SNOdhjZ1dDxiikclO94FNDK02k6vg8hdCX99MMx3Mk1boZIWYAZBcdLlaJ5jW1UJYKtWx+21ahU3\n",
       "sdr9phfjU+E8dvf83Vs9jIKG5y3yPNyX1VPNkhLM15LQEK8dr74JjeWEJP44Zv09DzyIngteJ4R8\n",
       "fLUXQAetytUR1oaSGBlYmzrP82vuj5ziXyQdn6T3qbdFWpM3YB6VGSdA0SPoCoaIy4nxvy2+j5UE\n",
       "QPB+JaIvfrdBSzr/UjuSp66WtOIP8bhCVNEF+CGxfjqyKw2Rwqrk+gCUYB4+6Rn5Uka9qb1AblsY\n",
       "H0QBpeho34d4tHXug8K7qQ8W4petVN8dsxmX3gAAAaFBm5NJ4Q6JlMFNEwS//rUqgABdu3ODy5jU\n",
       "p9PoCCAHsAE6BBuZTv8WRTIR1VAo40ifq0EssuIV96+XY/8H41EqecbJz8hnEfu7Sw4YM5RSy+3b\n",
       "Vl0ciAPaNPi3J0PZYGxD1fF3Q2inmGpaEbHZJcNBv3hraNdUTrEGZg2j1nWve7gNtLOc5f5Sraxf\n",
       "kUTXB6qYLm3lpZMUByuP3jxnvifR4iMRpLXVz1Yv1PPiUUHxycW1yd8KG1P+qNZznaY+M/5RIkH7\n",
       "qJ+33LBxifGQ5ba2+kQgPrjnu0DN6OultSyPuH6TI43r3x/GYZbgJwgcAWmWUNIGzl8C5HX2V7MV\n",
       "ZQpEkt2jp0Y5PYUZfYPZzGl0YXhCkMX5FzgN2PCB1Fjs6oHPCV8Pbyin9IdeBlasNYDEXANX1UyH\n",
       "yrAudzqA1Rs3baWnyzrNVrQTfLiEnvp1amDpnPw/lMygffiWj6R3nUC9hermsyhV4cETo4oqxtaT\n",
       "BtlLcnkn5dZXN2ZhWpd9aFIyQR1ALTeeSdiWo+wkto2eoBbdOUo4iRo4QoLfDA5WNJsAAACqAZ+y\n",
       "akP/AAFDtZ7C6oJNJC+HnMuCSSqfonrRB/wEtBhguBBrydfd3ubCzM3o+vK2K6Rj6QeueZbdL6dL\n",
       "YeiR45hQWati3W16HHiO5Zyw4g13ksioiIAWBkGPHLqTxzZCRRWbkYCQTgaKgf0Eua/s6EZyXz1s\n",
       "SsgmDft1Hq2o3pzn9FmEqg9/3Kf32+vZ9dM1QxFYrlwTmil9EK2esKA38q9gLDtpV3RZ9ugAAAEw\n",
       "QZu0SeEPJlMCCX/+tSqAALN/dNNGxB9vR4kL2injYTF6l0Kf/8qLs8h0UZVABtn7hofAZUFWqKtu\n",
       "FpWD7b66rw31HUIejUbwDepZC56Po59k8PU4E073OQ4AV0Px05YNgc9yHkzluiY/wgiWj4+GwrO1\n",
       "hr+6yaG8GaNhV9wb4wqUjRnxwo6Kr8E18oKqr41tRAcd6Gswafkl3jTySsoAvD8o5V68+sB49U1v\n",
       "DDZBKpjz4QsHX8/5U2BrkC9k3SF6ZAzeBWRznG8fyJ7usOmWkuBgDUkEczIw9QNL1vP7C+pjVpMX\n",
       "698IfEcirUd+MbXv7yGkYyukA8KuSBvEm5JSr3nLT+IEqys4l17OSyejhbr6vrf+NGdZ1ztrADH1\n",
       "VJuWzeuaY0HH3DtxKuZFNNDTnAAAASVBm9VJ4Q8mUwIJf/61KoAAtw67HRCO23w7RAAvVW1lNAH5\n",
       "/TLfRQF1OOoS+XWUMFST+HsGCJKJQXpYhLs57x6qVXsvYwOGgeAYf3mvWKmyNIqCoco0P5naqNmv\n",
       "EfwjGHiX5CcF3ueH2zT8gqkDdXz338a67Ru+2/GRjusYfjcmFkMqQ02nT+rpWhcUpK8DwRJYu3UI\n",
       "XLO6fcAsG7fO53Eo9Ve+9s0VbqTTAt9F9P/LLGA8NCRQm7Batl6UBQRwrGep6zvGaPPVzaBfeMB2\n",
       "mra6g7qBQBHhzBMQUruAJYkPuBdx4Mm0Aq4T9Sq+/+pudy277s0xKGy//NvrJu2a6IRP3//WpB/+\n",
       "7OFPDZPIbbhKvsxzqYA39u25rGtEXh2lku9tqTGugQAAAbZBm/ZJ4Q8mUwIJf/61KoABbti68eHv\n",
       "vDPR092wAOzUCmYX0jnAR4ECDTUf7Hn35/yEFPNL4loBfVSAEvec+vf0o5MX0ycw0NQu//J4yRAk\n",
       "HTaraLgUZSDIrule6JLIgVjV12+aoR6b1jLMMXsDxuDHpeTUEMBIHV0xYhFHiPai8Vy0/+uZrr+h\n",
       "HQaAWK89QUepvpAF3cj1gqUeAnMUmj75L1VQtiI6GyPlXx3S/Aw26xrLK3AuivYVR0NZ2i6z+9o5\n",
       "v0xw625MejHFQgD9o2XhdOrAxyQkTLhnLhTspuMW6E8LuGiELYl2EXMREXmOvYVIa4qD36JXmubp\n",
       "3NavpKxhwowq+9G0/1VtaVnt1+eqZ80uMBvHXzvVllNg7U3KaG3/5Rfdjb+gsfoLqOMabzqDEnPh\n",
       "OcgsbBi0EFQ43z+lWp7WLw6TUgL8lhPacElpa0xngTiY0OTZ3JB5KovSm3BTi+DcaR+4314LptZI\n",
       "f6la+0PM9bPqn7IQxj6EkzbTrNmWu+YEEzd0bzdsryaLGEBdupmabBG1ifaTAvhQX5QbByPCGaNt\n",
       "myW7GeYANujEgyNpzWa89SAAAAG/QZoXSeEPJlMCCf/+tSqAAs3E/8IKUkAX5vHLJqatfH1ynSm+\n",
       "U5y4bbkNfzQv7wTGoWw7tpifEsKTfa/mGf0wBetvfYYNllWXvH1w71M9/d3v7ron5xgYXQVLIzcn\n",
       "fEYE+bK9KsYvcAwH/433SA3Rd6sf//RA5HZN875Uo2ebHg6cY/17XWxbppYbvOd8Phai7yEr2cFV\n",
       "X2emTZjsjb3ZL6aGi5U0C8DFu2c0c/urPVeVF2/bCl/UmVnEiaG6fNsVy2+oGAeqfIHJ6d/KnwUg\n",
       "weZfWpvaCp+sRbb5jelQv3BofFsW4B71db4HPhGIq7pu9GzrgZJ58eOKNvr1plExWk7csysHy4zf\n",
       "47Ri3whyvWhHbh3eFbXHiw1uKn6zMmqlSfbVmFpotzhzOsV20LxvCUom2S8dLWMQhXTXs0q+NLeJ\n",
       "HJdUOM2JocDrmQCFp+8BRj7/nH2sIr203QjpiBLXyq1+Q56OTQEzi1XzNQ5xRwn4HwRZVDI0nTk4\n",
       "Z9my+Bo0ejH49RcNLBZQrD6WGQ7XtURRl3szxfRb6AFpl4W3BclidslBPKNtZHE8eulWRvN2c9eS\n",
       "LNYZxdeoburPgcPPAAABN0GaOEnhDyZTAgp//taMsADFbGl+celSbvh3Ts7GoACu4wY5L3PzutBb\n",
       "LKi5yOpNnekfhcgPzX36STuKC2A0MRbSD547Vhdkpqsd12o3m6Mb7wP0evcfxILXd3nvgubZBRxm\n",
       "snZpf3tbmd9vkHz/lzb6XickzkojloCLDy/oxACNNhT3KZMoMrZ3SrOAsS3wGlyWvMBpfrj2WKSw\n",
       "LUh5q3+j34G/CRuYUpi6WyoqpgEYT2+YVbBCoB+GoAltExEtMwRfpJDuk+QCkqjHDcq+ZWFCvRVm\n",
       "B6jQRh7uG3rqCHnuasV7BDqkJr/c2FvlTn3QezLKo3kJ4eQdJ6Vw+QTXwnJMBPN+ueEGytcMOute\n",
       "GHzoDEMi8lnVbf+ajCBo6u9TRfXMIsKIwuGwMW43/xzR7BtTaPI2OdxBAAAAQEGaXEnhDyZTAgp/\n",
       "/taMsADGfNYeJZUxiP00fAKyV+Qwh9rHkpxdN8GpM8Ciy0XLqVk048Yq96Grw+A80s9BI2AAAAAt\n",
       "QZ56RRE8EP8AA7U9wk8t5pzIwvk2P2ZJcreniHTU9rgUDpZGG4/71OAHeLqJAAAAJwGemXRD/wAI\n",
       "KuSYz0KVENkrmaGuzaaePHNguLWt1HWqs4ZqfWjx3wAAABIBnptqQ/8ABFYNo/HrOf8SpG0AAAAa\n",
       "QZqASahBaJlMCCn//taMsAAAOO+WPNVEMaEAAAAXQZ6+RREsEP8AAfDVNQ6yV86bnWli9nwAAAAS\n",
       "AZ7ddEP/AARVcqfqShLLjJGwAAAAEgGe32pD/wAEVg2j8es5/xKkbQAAABRBmsRJqEFsmUwIKf/+\n",
       "1oywAAAH3AAAABdBnuJFFSwQ/wAB8NU1DrJXzpudaWL2fQAAABIBnwF0Q/8ABFVyp+pKEsuMkbAA\n",
       "AAASAZ8DakP/AARWDaPx6zn/EqRtAAAAFEGbCEmoQWyZTAgp//7WjLAAAAfdAAAAF0GfJkUVLBD/\n",
       "AAHw1TUOslfOm51pYvZ9AAAAEgGfRXRD/wAEVXKn6koSy4yRsQAAABIBn0dqQ/8ABFYNo/HrOf8S\n",
       "pGwAAAAUQZtMSahBbJlMCCn//taMsAAAB9wAAAAXQZ9qRRUsEP8AAfDVNQ6yV86bnWli9n0AAAAS\n",
       "AZ+JdEP/AARVcqfqShLLjJGwAAAAEgGfi2pD/wAEVg2j8es5/xKkbAAAABRBm5BJqEFsmUwIKf/+\n",
       "1oywAAAH3QAAABdBn65FFSwQ/wAB8NU1DrJXzpudaWL2fQAAABIBn810Q/8ABFVyp+pKEsuMkbEA\n",
       "AAASAZ/PakP/AARWDaPx6zn/EqRsAAAAFEGb1EmoQWyZTAgp//7WjLAAAAfcAAAAF0Gf8kUVLBD/\n",
       "AAHw1TUOslfOm51pYvZ9AAAAEgGeEXRD/wAEVXKn6koSy4yRsAAAABIBnhNqQ/8ABFYNo/HrOf8S\n",
       "pGwAAAAUQZoYSahBbJlMCCn//taMsAAAB90AAAAXQZ42RRUsEP8AAfDVNQ6yV86bnWli9nwAAAAS\n",
       "AZ5VdEP/AARVcqfqShLLjJGxAAAAEgGeV2pD/wAEVg2j8es5/xKkbQAAABRBmlxJqEFsmUwIKf/+\n",
       "1oywAAAH3AAAABdBnnpFFSwQ/wAB8NU1DrJXzpudaWL2fQAAABIBnpl0Q/8ABFVyp+pKEsuMkbAA\n",
       "AAASAZ6bakP/AARWDaPx6zn/EqRtAAAAFEGagEmoQWyZTAgp//7WjLAAAAfdAAAAF0GevkUVLBD/\n",
       "AAHw1TUOslfOm51pYvZ8AAAAEgGe3XRD/wAEVXKn6koSy4yRsAAAABIBnt9qQ/8ABFYNo/HrOf8S\n",
       "pG0AAAAUQZrESahBbJlMCCn//taMsAAAB9wAAAAXQZ7iRRUsEP8AAfDVNQ6yV86bnWli9n0AAAAS\n",
       "AZ8BdEP/AARVcqfqShLLjJGwAAAAEgGfA2pD/wAEVg2j8es5/xKkbQAAABRBmwhJqEFsmUwIKf/+\n",
       "1oywAAAH3QAAABdBnyZFFSwQ/wAB8NU1DrJXzpudaWL2fQAAABIBn0V0Q/8ABFVyp+pKEsuMkbEA\n",
       "AAASAZ9HakP/AARWDaPx6zn/EqRsAAAAFEGbTEmoQWyZTAgp//7WjLAAAAfcAAAAF0GfakUVLBD/\n",
       "AAHw1TUOslfOm51pYvZ9AAAAEgGfiXRD/wAEVXKn6koSy4yRsAAAABIBn4tqQ/8ABFYNo/HrOf8S\n",
       "pGwAAAAUQZuQSahBbJlMCCn//taMsAAAB90AAAAXQZ+uRRUsEP8AAfDVNQ6yV86bnWli9n0AAAAS\n",
       "AZ/NdEP/AARVcqfqShLLjJGxAAAAEgGfz2pD/wAEVg2j8es5/xKkbAAAABRBm9RJqEFsmUwIJ//+\n",
       "tSqAAAAesAAAABdBn/JFFSwQ/wAB8NU1DrJXzpudaWL2fQAAABIBnhF0Q/8ABFVyp+pKEsuMkbAA\n",
       "AAASAZ4TakP/AARWDaPx6zn/EqRsAAAAFEGaGEmoQWyZTAgn//61KoAAAB6xAAAAF0GeNkUVLBD/\n",
       "AAHw1TUOslfOm51pYvZ8AAAAEgGeVXRD/wAEVXKn6koSy4yRsQAAABIBnldqQ/8ABFYNo/HrOf8S\n",
       "pG0AAAAUQZpcSahBbJlMCCf//rUqgAAAHrAAAAAXQZ56RRUsEP8AAfDVNQ6yV86bnWli9n0AAAAS\n",
       "AZ6ZdEP/AARVcqfqShLLjJGwAAAAEgGem2pD/wAEVg2j8es5/xKkbQAAABRBmoBJqEFsmUwIJf/+\n",
       "tSqAAAAesQAAABdBnr5FFSwQ/wAB8NU1DrJXzpudaWL2fAAAABIBnt10Q/8ABFVyp+pKEsuMkbAA\n",
       "AAASAZ7fakP/AARWDaPx6zn/EqRtAAAAFUGaw0moQWyZTAh///6plgAAAwDwgAAAABdBnuFFFSwQ\n",
       "/wAB8NU1DrJXzpudaWL2fQAAABIBnwJqQ/8ABFYNo/HrOf8SpGwAAAeebW9vdgAAAGxtdmhkAAAA\n",
       "AAAAAAAAAAAAAAAD6AAATiAAAQAAAQAAAAAAAAAAAAAAAAEAAAAAAAAAAAAAAAAAAAABAAAAAAAA\n",
       "AAAAAAAAAABAAAAAAAAAAAAAAAAAAAAAAAAAAAAAAAAAAAAAAAAAAgAABsh0cmFrAAAAXHRraGQA\n",
       "AAADAAAAAAAAAAAAAAABAAAAAAAATiAAAAAAAAAAAAAAAAAAAAAAAAEAAAAAAAAAAAAAAAAAAAAB\n",
       "AAAAAAAAAAAAAAAAAABAAAAAAbAAAAEgAAAAAAAkZWR0cwAAABxlbHN0AAAAAAAAAAEAAE4gAAAQ\n",
       "AAABAAAAAAZAbWRpYQAAACBtZGhkAAAAAAAAAAAAAAAAAAAoAAADIABVxAAAAAAALWhkbHIAAAAA\n",
       "AAAAAHZpZGUAAAAAAAAAAAAAAABWaWRlb0hhbmRsZXIAAAAF621pbmYAAAAUdm1oZAAAAAEAAAAA\n",
       "AAAAAAAAACRkaW5mAAAAHGRyZWYAAAAAAAAAAQAAAAx1cmwgAAAAAQAABatzdGJsAAAAs3N0c2QA\n",
       "AAAAAAAAAQAAAKNhdmMxAAAAAAAAAAEAAAAAAAAAAAAAAAAAAAAAAbABIABIAAAASAAAAAAAAAAB\n",
       "AAAAAAAAAAAAAAAAAAAAAAAAAAAAAAAAAAAAAAAAAAAAGP//AAAAMWF2Y0MBZAAV/+EAGGdkABWs\n",
       "2UGwloQAAAMABAAAAwAoPFi2WAEABmjr48siwAAAABx1dWlka2hA8l8kT8W6OaUbzwMj8wAAAAAA\n",
       "AAAYc3R0cwAAAAAAAAABAAAAZAAACAAAAAAUc3RzcwAAAAAAAAABAAAAAQAAAvBjdHRzAAAAAAAA\n",
       "AFwAAAABAAAQAAAAAAEAACgAAAAAAQAAEAAAAAABAAAAAAAAAAEAAAgAAAAAAQAAKAAAAAABAAAQ\n",
       "AAAAAAEAAAAAAAAAAQAACAAAAAABAAAYAAAAAAEAAAgAAAAAAgAAEAAAAAABAAAgAAAAAAIAAAgA\n",
       "AAAAAgAAEAAAAAABAAAYAAAAAAEAAAgAAAAABQAAEAAAAAABAAAoAAAAAAEAABAAAAAAAQAAAAAA\n",
       "AAABAAAIAAAAAAEAACgAAAAAAQAAEAAAAAABAAAAAAAAAAEAAAgAAAAAAQAAKAAAAAABAAAQAAAA\n",
       "AAEAAAAAAAAAAQAACAAAAAABAAAoAAAAAAEAABAAAAAAAQAAAAAAAAABAAAIAAAAAAEAACgAAAAA\n",
       "AQAAEAAAAAABAAAAAAAAAAEAAAgAAAAAAQAAKAAAAAABAAAQAAAAAAEAAAAAAAAAAQAACAAAAAAB\n",
       "AAAoAAAAAAEAABAAAAAAAQAAAAAAAAABAAAIAAAAAAEAACgAAAAAAQAAEAAAAAABAAAAAAAAAAEA\n",
       "AAgAAAAAAQAAKAAAAAABAAAQAAAAAAEAAAAAAAAAAQAACAAAAAABAAAoAAAAAAEAABAAAAAAAQAA\n",
       "AAAAAAABAAAIAAAAAAEAACgAAAAAAQAAEAAAAAABAAAAAAAAAAEAAAgAAAAAAQAAKAAAAAABAAAQ\n",
       "AAAAAAEAAAAAAAAAAQAACAAAAAABAAAoAAAAAAEAABAAAAAAAQAAAAAAAAABAAAIAAAAAAEAACgA\n",
       "AAAAAQAAEAAAAAABAAAAAAAAAAEAAAgAAAAAAQAAKAAAAAABAAAQAAAAAAEAAAAAAAAAAQAACAAA\n",
       "AAABAAAoAAAAAAEAABAAAAAAAQAAAAAAAAABAAAIAAAAAAEAACgAAAAAAQAAEAAAAAABAAAAAAAA\n",
       "AAEAAAgAAAAAAQAAKAAAAAABAAAQAAAAAAEAAAAAAAAAAQAACAAAAAABAAAgAAAAAAIAAAgAAAAA\n",
       "HHN0c2MAAAAAAAAAAQAAAAEAAABkAAAAAQAAAaRzdHN6AAAAAAAAAAAAAABkAAAKHQAAAHQAAAAk\n",
       "AAAAGQAAABcAAAC4AAAAOwAAAB8AAAA5AAAB8gAAANAAAAD0AAAA+QAAA6sAAAEPAAABQwAAAbgA\n",
       "AAFpAAABpQAAAK4AAAE0AAABKQAAAboAAAHDAAABOwAAAEQAAAAxAAAAKwAAABYAAAAeAAAAGwAA\n",
       "ABYAAAAWAAAAGAAAABsAAAAWAAAAFgAAABgAAAAbAAAAFgAAABYAAAAYAAAAGwAAABYAAAAWAAAA\n",
       "GAAAABsAAAAWAAAAFgAAABgAAAAbAAAAFgAAABYAAAAYAAAAGwAAABYAAAAWAAAAGAAAABsAAAAW\n",
       "AAAAFgAAABgAAAAbAAAAFgAAABYAAAAYAAAAGwAAABYAAAAWAAAAGAAAABsAAAAWAAAAFgAAABgA\n",
       "AAAbAAAAFgAAABYAAAAYAAAAGwAAABYAAAAWAAAAGAAAABsAAAAWAAAAFgAAABgAAAAbAAAAFgAA\n",
       "ABYAAAAYAAAAGwAAABYAAAAWAAAAGAAAABsAAAAWAAAAFgAAABkAAAAbAAAAFgAAABRzdGNvAAAA\n",
       "AAAAAAEAAAAsAAAAYnVkdGEAAABabWV0YQAAAAAAAAAhaGRscgAAAAAAAAAAbWRpcmFwcGwAAAAA\n",
       "AAAAAAAAAAAtaWxzdAAAACWpdG9vAAAAHWRhdGEAAAABAAAAAExhdmY1OC4yMy4xMDI=\n",
       "\">\n",
       "  Your browser does not support the video tag.\n",
       "</video>"
      ],
      "text/plain": [
       "<matplotlib.animation.FuncAnimation at 0x222d95da898>"
      ]
     },
     "execution_count": 23,
     "metadata": {},
     "output_type": "execute_result"
    }
   ],
   "source": [
    "anim"
   ]
  },
  {
   "cell_type": "code",
   "execution_count": null,
   "metadata": {},
   "outputs": [],
   "source": []
  }
 ],
 "metadata": {
  "kernelspec": {
   "display_name": "Python 3",
   "language": "python",
   "name": "python3"
  },
  "language_info": {
   "codemirror_mode": {
    "name": "ipython",
    "version": 3
   },
   "file_extension": ".py",
   "mimetype": "text/x-python",
   "name": "python",
   "nbconvert_exporter": "python",
   "pygments_lexer": "ipython3",
   "version": "3.6.6"
  }
 },
 "nbformat": 4,
 "nbformat_minor": 2
}
