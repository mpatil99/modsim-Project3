{
 "cells": [
  {
   "cell_type": "markdown",
   "metadata": {},
   "source": [
    "## Modeling and Simulation in Python\n",
    "\n",
    "Project 3\n",
    "\n",
    "Jinfay Yuan and Manu Patil"
   ]
  },
  {
   "cell_type": "code",
   "execution_count": 1,
   "metadata": {},
   "outputs": [],
   "source": [
    "# Configure Jupyter so figures appear in the notebook\n",
    "%matplotlib inline\n",
    "\n",
    "# Configure Jupyter to display the assigned value after an assignment\n",
    "%config InteractiveShell.ast_node_interactivity='last_expr_or_assign'\n",
    "\n",
    "# import functions from the modsim.py module\n",
    "from modsim import *\n",
    "import math\n",
    "import matplotlib.pyplot as plt\n",
    "import numpy as np  "
   ]
  },
  {
   "cell_type": "code",
   "execution_count": 2,
   "metadata": {},
   "outputs": [
    {
     "data": {
      "text/html": [
       "year"
      ],
      "text/latex": [
       "$year$"
      ],
      "text/plain": [
       "<Unit('year')>"
      ]
     },
     "execution_count": 2,
     "metadata": {},
     "output_type": "execute_result"
    }
   ],
   "source": [
    "N = UNITS.newton\n",
    "kg = UNITS.kilogram\n",
    "AU = UNITS.astronomical_unit\n",
    "day = UNITS.day\n",
    "m = UNITS.meter\n",
    "s = UNITS.second\n",
    "y = UNITS.year"
   ]
  },
  {
   "cell_type": "code",
   "execution_count": 3,
   "metadata": {},
   "outputs": [
    {
     "data": {
      "text/plain": [
       "344970933"
      ]
     },
     "execution_count": 3,
     "metadata": {},
     "output_type": "execute_result"
    }
   ],
   "source": [
    "Mass_Earth = 5.972e24 *kg\n",
    "Mass_Moon = 7.3476730e22 *kg\n",
    "Mass_Satellite = 100 *kg\n",
    "G = 6.674e-11* (N*m**2)/(kg**2)\n",
    "r_0 = 344970933  #distance from center of Earth to Lagrange point"
   ]
  },
  {
   "cell_type": "code",
   "execution_count": 4,
   "metadata": {},
   "outputs": [
    {
     "data": {
      "text/html": [
       "<div>\n",
       "<style scoped>\n",
       "    .dataframe tbody tr th:only-of-type {\n",
       "        vertical-align: middle;\n",
       "    }\n",
       "\n",
       "    .dataframe tbody tr th {\n",
       "        vertical-align: top;\n",
       "    }\n",
       "\n",
       "    .dataframe thead th {\n",
       "        text-align: right;\n",
       "    }\n",
       "</style>\n",
       "<table border=\"1\" class=\"dataframe\">\n",
       "  <thead>\n",
       "    <tr style=\"text-align: right;\">\n",
       "      <th></th>\n",
       "      <th>values</th>\n",
       "    </tr>\n",
       "  </thead>\n",
       "  <tbody>\n",
       "    <tr>\n",
       "      <th>init</th>\n",
       "      <td>x                      344970933 meter\n",
       "y      ...</td>\n",
       "    </tr>\n",
       "    <tr>\n",
       "      <th>mEarth</th>\n",
       "      <td>5.972e+24 kilogram</td>\n",
       "    </tr>\n",
       "    <tr>\n",
       "      <th>mMoon</th>\n",
       "      <td>7.347673e+22 kilogram</td>\n",
       "    </tr>\n",
       "    <tr>\n",
       "      <th>mSatellite</th>\n",
       "      <td>100 kilogram</td>\n",
       "    </tr>\n",
       "    <tr>\n",
       "      <th>G</th>\n",
       "      <td>6.674e-11 meter ** 2 * newton / kilogram ** 2</td>\n",
       "    </tr>\n",
       "    <tr>\n",
       "      <th>t_0</th>\n",
       "      <td>0 second</td>\n",
       "    </tr>\n",
       "    <tr>\n",
       "      <th>t_end</th>\n",
       "      <td>1000000.0 second</td>\n",
       "    </tr>\n",
       "  </tbody>\n",
       "</table>\n",
       "</div>"
      ],
      "text/plain": [
       "init          x                      344970933 meter\n",
       "y      ...\n",
       "mEarth                                       5.972e+24 kilogram\n",
       "mMoon                                     7.347673e+22 kilogram\n",
       "mSatellite                                         100 kilogram\n",
       "G                 6.674e-11 meter ** 2 * newton / kilogram ** 2\n",
       "t_0                                                    0 second\n",
       "t_end                                          1000000.0 second\n",
       "dtype: object"
      ]
     },
     "execution_count": 4,
     "metadata": {},
     "output_type": "execute_result"
    }
   ],
   "source": [
    "def make_system(mEarth, mMoon, mSatellite, G, r_0, v,theta, t_end):\n",
    "\n",
    "    init = State(x = 344970933 *m, \n",
    "                 y = 0*m ,\n",
    "                 vx = v* math.cos(theta) *m/s ,\n",
    "                 vy = v* math.sin(theta) *m/s ,\n",
    "                 mx = 384472281 *m, #distance from Earth to Moon\n",
    "                 my = 0*m);\n",
    "\n",
    "    \n",
    "    t_0 = 0 *s\n",
    "    t_end = t_end *s\n",
    "    \n",
    "    \n",
    "    return System(init=init,\n",
    "                mEarth = mEarth,\n",
    "                mMoon = mMoon,\n",
    "                mSatellite = mSatellite,\n",
    "                G = G,\n",
    "                t_0 = t_0,\n",
    "                t_end=t_end)\n",
    "system = make_system(Mass_Earth, Mass_Moon, Mass_Satellite, G, r_0,1000,1000,1e6)"
   ]
  },
  {
   "cell_type": "code",
   "execution_count": 22,
   "metadata": {},
   "outputs": [],
   "source": [
    "def slope_func(state, t, system):\n",
    "    \"\"\"Compute derivatives of the state.\n",
    "    \n",
    "    state: position, velocity\n",
    "    t: time\n",
    "    system: System object containing `g`\n",
    "    \n",
    "    returns: derivatives of y and v\n",
    "    \"\"\"\n",
    "    x, y, vx, vy, mx, my = state\n",
    "    unpack(system) \n",
    "    \n",
    "    forceEarth = Earth_fgrav(state,system)\n",
    "    forceMoon = Moon_fgrav(state,system)\n",
    "    dxdt = vx \n",
    "    dydt = vy\n",
    "#     print(forceEarthx, forceEarthy)\n",
    "#     print(forceMoonx,forceMoony)\n",
    "    dvxdt = (forceEarth.x + forceMoon.x) / Mass_Satellite\n",
    "    dvydt = (forceEarth.y + forceMoon.y) / Mass_Satellite\n",
    "#     print(t)\n",
    "    \n",
    "    return dxdt, dydt, dvxdt, dvydt, 0, 0"
   ]
  },
  {
   "cell_type": "code",
   "execution_count": 23,
   "metadata": {},
   "outputs": [
    {
     "data": {
      "text/html": [
       "[0.33491993 0.        ] newton/meter<sup>2</sup>"
      ],
      "text/latex": [
       "$[0.33491993 0.        ] \\frac{newton}{meter^{2}}$"
      ],
      "text/plain": [
       "<Quantity([0.33491993 0.        ], 'newton / meter ** 2')>"
      ]
     },
     "execution_count": 23,
     "metadata": {},
     "output_type": "execute_result"
    }
   ],
   "source": [
    "def Earth_fgrav(state,system):\n",
    "    unpack (system)\n",
    "    x,y,vx,vy,mx,my = state\n",
    "    position = Vector(x, y) *m\n",
    "    force = G * Mass_Earth * Mass_Satellite / (position.mag)**2\n",
    "    return  position.hat() * force\n",
    "Earth_fgrav(system.init, system)"
   ]
  },
  {
   "cell_type": "code",
   "execution_count": 24,
   "metadata": {},
   "outputs": [
    {
     "data": {
      "text/html": [
       "[0.3142767 0.       ] newton/meter<sup>2</sup>"
      ],
      "text/latex": [
       "$[0.3142767 0.       ] \\frac{newton}{meter^{2}}$"
      ],
      "text/plain": [
       "<Quantity([0.3142767 0.       ], 'newton / meter ** 2')>"
      ]
     },
     "execution_count": 24,
     "metadata": {},
     "output_type": "execute_result"
    }
   ],
   "source": [
    "def Moon_fgrav(state,system):\n",
    "    unpack (system)\n",
    "    x,y,vx,vy,mx,my = state\n",
    "    rel_position = Vector(mx-x, my-y)* m #will change if moon moves\n",
    "    force = G * Mass_Moon * Mass_Satellite / (rel_position.mag)**2\n",
    "    return  rel_position.hat()*force\n",
    "Moon_fgrav(system.init, system)"
   ]
  },
  {
   "cell_type": "code",
   "execution_count": 25,
   "metadata": {},
   "outputs": [
    {
     "data": {
      "text/html": [
       "37764348.0 meter"
      ],
      "text/latex": [
       "$37764348.0 meter$"
      ],
      "text/plain": [
       "<Quantity(37764348.0, 'meter')>"
      ]
     },
     "execution_count": 25,
     "metadata": {},
     "output_type": "execute_result"
    }
   ],
   "source": [
    "def event_func(state, t, system):\n",
    "    unpack (system)\n",
    "    x,y,vx,vy,mx,my = state\n",
    "    position = Vector(mx-x, my-y)*m\n",
    "    return position.mag/m - 1737000*m\n",
    "event_func(system.init, 0, system)"
   ]
  },
  {
   "cell_type": "code",
   "execution_count": 26,
   "metadata": {},
   "outputs": [
    {
     "data": {
      "text/plain": [
       "(<Quantity(525.3219888177298, 'meter / second')>,\n",
       " <Quantity(850.9035245341184, 'meter / second')>,\n",
       " <Quantity(0.006491966364023237, 'newton / kilogram / meter ** 2')>,\n",
       " <Quantity(0.0, 'newton / kilogram / meter ** 2')>,\n",
       " 0,\n",
       " 0)"
      ]
     },
     "execution_count": 26,
     "metadata": {},
     "output_type": "execute_result"
    }
   ],
   "source": [
    "system = make_system(Mass_Earth, Mass_Moon, Mass_Satellite, G, r_0,1000,45,1e5)\n",
    "slope_func(system.init, 0, system)"
   ]
  },
  {
   "cell_type": "code",
   "execution_count": 27,
   "metadata": {},
   "outputs": [
    {
     "data": {
      "text/html": [
       "<div>\n",
       "<style scoped>\n",
       "    .dataframe tbody tr th:only-of-type {\n",
       "        vertical-align: middle;\n",
       "    }\n",
       "\n",
       "    .dataframe tbody tr th {\n",
       "        vertical-align: top;\n",
       "    }\n",
       "\n",
       "    .dataframe thead th {\n",
       "        text-align: right;\n",
       "    }\n",
       "</style>\n",
       "<table border=\"1\" class=\"dataframe\">\n",
       "  <thead>\n",
       "    <tr style=\"text-align: right;\">\n",
       "      <th></th>\n",
       "      <th>values</th>\n",
       "    </tr>\n",
       "  </thead>\n",
       "  <tbody>\n",
       "    <tr>\n",
       "      <th>sol</th>\n",
       "      <td>None</td>\n",
       "    </tr>\n",
       "    <tr>\n",
       "      <th>t_events</th>\n",
       "      <td>[]</td>\n",
       "    </tr>\n",
       "    <tr>\n",
       "      <th>nfev</th>\n",
       "      <td>95</td>\n",
       "    </tr>\n",
       "    <tr>\n",
       "      <th>njev</th>\n",
       "      <td>0</td>\n",
       "    </tr>\n",
       "    <tr>\n",
       "      <th>nlu</th>\n",
       "      <td>0</td>\n",
       "    </tr>\n",
       "    <tr>\n",
       "      <th>status</th>\n",
       "      <td>0</td>\n",
       "    </tr>\n",
       "    <tr>\n",
       "      <th>message</th>\n",
       "      <td>The solver successfully reached the end of the...</td>\n",
       "    </tr>\n",
       "    <tr>\n",
       "      <th>success</th>\n",
       "      <td>True</td>\n",
       "    </tr>\n",
       "  </tbody>\n",
       "</table>\n",
       "</div>"
      ],
      "text/plain": [
       "sol                                                      None\n",
       "t_events                                                   []\n",
       "nfev                                                       95\n",
       "njev                                                        0\n",
       "nlu                                                         0\n",
       "status                                                      0\n",
       "message     The solver successfully reached the end of the...\n",
       "success                                                  True\n",
       "dtype: object"
      ]
     },
     "execution_count": 27,
     "metadata": {},
     "output_type": "execute_result"
    }
   ],
   "source": [
    "system = make_system(Mass_Earth, Mass_Moon, Mass_Satellite, G, r_0, 100,40,1e5)\n",
    "results, details = run_ode_solver(system, slope_func, method = \"RK23\")\n",
    "details"
   ]
  },
  {
   "cell_type": "code",
   "execution_count": 28,
   "metadata": {
    "scrolled": false
   },
   "outputs": [
    {
     "data": {
      "image/png": "[encoded data removed]",
      "text/plain": [
       "<Figure size 576x576 with 2 Axes>"
      ]
     },
     "metadata": {},
     "output_type": "display_data"
    }
   ],
   "source": [
    "def plot_position(results):\n",
    "    unpack(system)\n",
    "    subplot(2,1,1)\n",
    "    plot(results.x, label='x')\n",
    "    plot(results.y, label = 'y')\n",
    "    decorate(xlabel='Time (day)',\n",
    "             ylabel='Distance from earth (million m)')\n",
    "    subplot(2,1,2)\n",
    "   \n",
    "\n",
    "    plot(results.x,results.y, label = 'Position')\n",
    "    plot(init.mx,init.my, label ='Moon')\n",
    "    circle1 = plt.Circle((384472281, 0), 1736482, color='r')\n",
    "    fig = plt.gcf()\n",
    "    ax = fig.gca()\n",
    "    ax.add_artist(circle1)\n",
    "    decorate(xlabel='x Distance from earth (million m)',\n",
    "             ylabel='y Distance from earth (million m)')\n",
    "plot_position(results)"
   ]
  },
  {
   "cell_type": "code",
   "execution_count": 29,
   "metadata": {},
   "outputs": [],
   "source": [
    "def plot_position2(results1, results2):\n",
    "    \n",
    "    unpack(system)\n",
    "    subplot(2,1,1)\n",
    "    plot(results1.x, label='x1')\n",
    "    plot(results1.y, label = 'y1')\n",
    "    plot(results2.x, label='x2')\n",
    "    plot(results2.y, label = 'y2')\n",
    "    decorate(xlabel='Time (day)',\n",
    "             ylabel='Distance from earth (million m)')\n",
    "    subplot(2,1,2)\n",
    "    plot(results1.x,results1.y, label = 'Position1')\n",
    "    plot(results2.x,results2.y, label = 'Position2')\n",
    "    circle1 = plt.Circle((384472281, 0), 1736482, color='r')\n",
    "    fig = plt.gcf()\n",
    "    ax = fig.gca()\n",
    "    ax.add_artist(circle1)\n",
    "    circle2 = plt.Circle((0, 0), 6371000, color='b')\n",
    "    fig = plt.gcf()\n",
    "    ax = fig.gca()\n",
    "    ax.add_artist(circle2)\n",
    "    decorate(xlabel='x Distance from earth (million m)',\n",
    "             ylabel='y Distance from earth (million m)')\n"
   ]
  },
  {
   "cell_type": "code",
   "execution_count": 30,
   "metadata": {},
   "outputs": [
    {
     "data": {
      "image/png": "[encoded data removed]",
      "text/plain": [
       "<Figure size 576x576 with 2 Axes>"
      ]
     },
     "metadata": {},
     "output_type": "display_data"
    }
   ],
   "source": [
    "system = make_system(Mass_Earth, Mass_Moon, Mass_Satellite, G, r_0, 150,90,300500)\n",
    "results1, details = run_ode_solver(system, slope_func, method = \"LSODA\")\n",
    "\n",
    "system = make_system(Mass_Earth, Mass_Moon, Mass_Satellite, G, r_0, 150,-90,300500)\n",
    "results2, details = run_ode_solver(system, slope_func, method = \"RK45\")\n",
    "plot_position2(results1,results2)"
   ]
  },
  {
   "cell_type": "code",
   "execution_count": null,
   "metadata": {},
   "outputs": [],
   "source": []
  },
  {
   "cell_type": "code",
   "execution_count": null,
   "metadata": {},
   "outputs": [],
   "source": []
  },
  {
   "cell_type": "code",
   "execution_count": null,
   "metadata": {},
   "outputs": [],
   "source": []
  },
  {
   "cell_type": "code",
   "execution_count": null,
   "metadata": {},
   "outputs": [],
   "source": []
  },
  {
   "cell_type": "code",
   "execution_count": null,
   "metadata": {},
   "outputs": [],
   "source": []
  }
 ],
 "metadata": {
  "kernelspec": {
   "display_name": "Python 3",
   "language": "python",
   "name": "python3"
  },
  "language_info": {
   "codemirror_mode": {
    "name": "ipython",
    "version": 3
   },
   "file_extension": ".py",
   "mimetype": "text/x-python",
   "name": "python",
   "nbconvert_exporter": "python",
   "pygments_lexer": "ipython3",
   "version": "3.6.6"
  }
 },
 "nbformat": 4,
 "nbformat_minor": 2
}
