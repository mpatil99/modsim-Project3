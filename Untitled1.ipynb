{
 "cells": [
  {
   "cell_type": "markdown",
   "metadata": {},
   "source": [
    "## Modeling and Simulation in Python\n",
    "\n",
    "Project 3\n",
    "\n",
    "Jinfay Yuan and Manu Patil"
   ]
  },
  {
   "cell_type": "code",
   "execution_count": 1,
   "metadata": {},
   "outputs": [],
   "source": [
    "# Configure Jupyter so figures appear in the notebook\n",
    "%matplotlib inline\n",
    "\n",
    "# Configure Jupyter to display the assigned value after an assignment\n",
    "%config InteractiveShell.ast_node_interactivity='last_expr_or_assign'\n",
    "\n",
    "# import functions from the modsim.py module\n",
    "from modsim import *\n",
    "import math"
   ]
  },
  {
   "cell_type": "code",
   "execution_count": 2,
   "metadata": {},
   "outputs": [
    {
     "data": {
      "text/html": [
       "year"
      ],
      "text/latex": [
       "$year$"
      ],
      "text/plain": [
       "<Unit('year')>"
      ]
     },
     "execution_count": 2,
     "metadata": {},
     "output_type": "execute_result"
    }
   ],
   "source": [
    "N = UNITS.newton\n",
    "kg = UNITS.kilogram\n",
    "AU = UNITS.astronomical_unit\n",
    "day = UNITS.day\n",
    "m = UNITS.meter\n",
    "s = UNITS.second\n",
    "y = UNITS.year"
   ]
  },
  {
   "cell_type": "code",
   "execution_count": 51,
   "metadata": {},
   "outputs": [
    {
     "data": {
      "text/plain": [
       "344970933"
      ]
     },
     "execution_count": 51,
     "metadata": {},
     "output_type": "execute_result"
    }
   ],
   "source": [
    "Mass_Earth = 5.972e24 \n",
    "Mass_Moon = 7.3476730e22\n",
    "Mass_Satellite = 100 \n",
    "G = 6.674e-11\n",
    "r_0 = 344970933  #distance from center of Earth to Lagrange point"
   ]
  },
  {
   "cell_type": "code",
   "execution_count": 52,
   "metadata": {},
   "outputs": [],
   "source": [
    "def make_system(mEarth, mMoon, mSatellite, G, r_0):\n",
    "\n",
    "    init = State(x = r_0 , \n",
    "                 y = 0 ,\n",
    "                 vx = 1000 ,\n",
    "                 vy = 1000 ,\n",
    "                 mx = 384472281 , #distance from Earth to Moon\n",
    "                 my = 0 );\n",
    "\n",
    "    \n",
    "    t_0 = 0 \n",
    "    t_end = 1e10 \n",
    "    \n",
    "    \n",
    "    return System(init=init,\n",
    "                mEarth = mEarth,\n",
    "                mMoon = mMoon,\n",
    "                G = G,\n",
    "                t_0 = t_0,\n",
    "                t_end=t_end)"
   ]
  },
  {
   "cell_type": "code",
   "execution_count": 53,
   "metadata": {},
   "outputs": [],
   "source": [
    "def slope_func(state, t, system):\n",
    "    \"\"\"Compute derivatives of the state.\n",
    "    \n",
    "    state: position, velocity\n",
    "    t: time\n",
    "    system: System object containing `g`\n",
    "    \n",
    "    returns: derivatives of y and v\n",
    "    \"\"\"\n",
    "    x, y, vx, vy, mx, my = state\n",
    "    unpack(system) \n",
    "    \n",
    "    forceEarthx, forceEarthy = Earth_fgrav(state,system)\n",
    "    forceMoonx, forceMoony = Moon_fgrav(state,system)\n",
    "    dxdt = vx \n",
    "    dydt = vy\n",
    "    dvxdt = (-forceEarthx + forceMoonx) / Mass_Satellite\n",
    "    dvydt = (-forceEarthy + forceMoony) / Mass_Satellite\n",
    "   \n",
    "    \n",
    "    return dxdt, dydt, dvxdt, dvydt"
   ]
  },
  {
   "cell_type": "code",
   "execution_count": 54,
   "metadata": {},
   "outputs": [],
   "source": [
    "def Earth_fgrav(state,system):\n",
    "    \n",
    "    unpack (system)\n",
    "    x,y,vx,vy,mx,my = state\n",
    "    position = Vector(x, y)\n",
    "    force = G * Mass_Earth * Mass_Satellite / (position.mag)**2\n",
    "    \n",
    "    return force * math.cos(position.angle), force * math.sin(position.angle)"
   ]
  },
  {
   "cell_type": "code",
   "execution_count": 55,
   "metadata": {},
   "outputs": [],
   "source": [
    "def Moon_fgrav(state,system):\n",
    "    \n",
    "    unpack (system)\n",
    "    x,y,vx,vy,mx,my = state\n",
    "    rel_position = Vector(x-mx, y-my) #will change if moon moves\n",
    "    force = G * Mass_Moon * Mass_Satellite / (rel_position.mag)**2\n",
    "    \n",
    "    return force * math.cos(rel_position.angle), force * math.sin(rel_position.angle)"
   ]
  },
  {
   "cell_type": "code",
   "execution_count": 56,
   "metadata": {},
   "outputs": [
    {
     "name": "stderr",
     "output_type": "stream",
     "text": [
      "C:\\Users\\mpatil\\Desktop\\Classes\\Fall 2018\\ModSim\\Project 3\\modsim-Project3\\modsim.py:1150: RuntimeWarning: invalid value encountered in sqrt\n",
      "  return np.sqrt(np.dot(v, v)) * units(v)\n"
     ]
    },
    {
     "data": {
      "text/plain": [
       "(1000,\n",
       " 1000,\n",
       " <Quantity(nan, 'dimensionless')>,\n",
       " <Quantity(nan, 'dimensionless')>)"
      ]
     },
     "execution_count": 56,
     "metadata": {},
     "output_type": "execute_result"
    }
   ],
   "source": [
    "system = make_system(Mass_Earth, Mass_Moon, Mass_Satellite, G, r_0)\n",
    "Earth_fgrav(system.init, system)\n",
    "Moon_fgrav(system.init, system)\n",
    "slope_func(system.init, 0, system)"
   ]
  },
  {
   "cell_type": "code",
   "execution_count": 57,
   "metadata": {},
   "outputs": [
    {
     "name": "stderr",
     "output_type": "stream",
     "text": [
      "C:\\Users\\mpatil\\Desktop\\Classes\\Fall 2018\\ModSim\\Project 3\\modsim-Project3\\modsim.py:1150: RuntimeWarning: invalid value encountered in sqrt\n",
      "  return np.sqrt(np.dot(v, v)) * units(v)\n"
     ]
    },
    {
     "data": {
      "text/plain": [
       "(<Quantity(nan, 'dimensionless')>, <Quantity(nan, 'dimensionless')>)"
      ]
     },
     "execution_count": 57,
     "metadata": {},
     "output_type": "execute_result"
    }
   ],
   "source": [
    "Moon_fgrav(system.init, system)"
   ]
  },
  {
   "cell_type": "code",
   "execution_count": null,
   "metadata": {},
   "outputs": [],
   "source": []
  },
  {
   "cell_type": "code",
   "execution_count": null,
   "metadata": {},
   "outputs": [],
   "source": []
  }
 ],
 "metadata": {
  "kernelspec": {
   "display_name": "Python 3",
   "language": "python",
   "name": "python3"
  },
  "language_info": {
   "codemirror_mode": {
    "name": "ipython",
    "version": 3
   },
   "file_extension": ".py",
   "mimetype": "text/x-python",
   "name": "python",
   "nbconvert_exporter": "python",
   "pygments_lexer": "ipython3",
   "version": "3.6.6"
  }
 },
 "nbformat": 4,
 "nbformat_minor": 2
}
